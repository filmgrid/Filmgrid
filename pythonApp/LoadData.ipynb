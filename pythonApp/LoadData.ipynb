{
 "metadata": {
  "name": "",
  "signature": "sha256:0d25da0c9ee7f505620280030d9dec8ff8839fa0aa11599377c4e68bc0150f5e"
 },
 "nbformat": 3,
 "nbformat_minor": 0,
 "worksheets": [
  {
   "cells": [
    {
     "cell_type": "code",
     "collapsed": false,
     "input": [
      "import json\n",
      "import pymongo\n",
      "import numpy as np\n",
      "\n",
      "import omdb\n",
      "import tmdbsimple as tmdb # pip install tmdbsimple\n",
      "import rtsimple as rt # pip install rtsimple\n",
      "from pymongo import MongoClient\n",
      "import string\n",
      "\n",
      "tmdb.API_KEY = '2a50430216cd531275198faae3531bb4'\n",
      "rt.API_KEY = 'dbbykgj6pbm3wnfrnvhdbdym'"
     ],
     "language": "python",
     "metadata": {},
     "outputs": [
      {
       "ename": "ImportError",
       "evalue": "No module named omdb",
       "output_type": "pyerr",
       "traceback": [
        "\u001b[1;31m---------------------------------------------------------------------------\u001b[0m\n\u001b[1;31mImportError\u001b[0m                               Traceback (most recent call last)",
        "\u001b[1;32m<ipython-input-2-7d74ebdecae4>\u001b[0m in \u001b[0;36m<module>\u001b[1;34m()\u001b[0m\n\u001b[0;32m      3\u001b[0m \u001b[1;32mimport\u001b[0m \u001b[0mnumpy\u001b[0m \u001b[1;32mas\u001b[0m \u001b[0mnp\u001b[0m\u001b[1;33m\u001b[0m\u001b[0m\n\u001b[0;32m      4\u001b[0m \u001b[1;33m\u001b[0m\u001b[0m\n\u001b[1;32m----> 5\u001b[1;33m \u001b[1;32mimport\u001b[0m \u001b[0momdb\u001b[0m\u001b[1;33m\u001b[0m\u001b[0m\n\u001b[0m\u001b[0;32m      6\u001b[0m \u001b[1;32mimport\u001b[0m \u001b[0mtmdbsimple\u001b[0m \u001b[1;32mas\u001b[0m \u001b[0mtmdb\u001b[0m \u001b[1;31m# pip install tmdbsimple\u001b[0m\u001b[1;33m\u001b[0m\u001b[0m\n\u001b[0;32m      7\u001b[0m \u001b[1;32mimport\u001b[0m \u001b[0mrtsimple\u001b[0m \u001b[1;32mas\u001b[0m \u001b[0mrt\u001b[0m \u001b[1;31m# pip install rtsimple\u001b[0m\u001b[1;33m\u001b[0m\u001b[0m\n",
        "\u001b[1;31mImportError\u001b[0m: No module named omdb"
       ]
      }
     ],
     "prompt_number": 2
    },
    {
     "cell_type": "heading",
     "level": 2,
     "metadata": {},
     "source": [
      "Download Raw Data"
     ]
    },
    {
     "cell_type": "code",
     "collapsed": false,
     "input": [
      "titles = json.load(open('movie_titles.json', 'r'))\n",
      "len(titles)"
     ],
     "language": "python",
     "metadata": {},
     "outputs": [
      {
       "metadata": {},
       "output_type": "pyout",
       "prompt_number": 2,
       "text": [
        "16433"
       ]
      }
     ],
     "prompt_number": 2
    },
    {
     "cell_type": "code",
     "collapsed": false,
     "input": [
      "movieIds = set()\n",
      "rawMovies = []"
     ],
     "language": "python",
     "metadata": {},
     "outputs": [],
     "prompt_number": 3
    },
    {
     "cell_type": "code",
     "collapsed": false,
     "input": [
      "def getMoviesByTitle(title):\n",
      "    searchResults = tmdb.Search().movie(query=title)['results'] # limited to 20 results!\n",
      "    count = 0\n",
      "    for movie in searchResults:\n",
      "        if movie['id'] not in movieIds:\n",
      "            tmdbData =  tmdb.Movies(movie['id']).info()\n",
      "            imdbId = tmdbData['imdb_id'].replace('tt', '')\n",
      "            movieIds.add(movie['id'])\n",
      "            rawMovies.append(dict({\n",
      "                'rt': rt.Alias().movie(type='imdb', id=imdbId),\n",
      "                'omdb': omdb.imdbid(tmdbData['imdb_id']),\n",
      "                'tmdb': tmdbData\n",
      "            }))\n",
      "            count += 1\n",
      "    return count"
     ],
     "language": "python",
     "metadata": {},
     "outputs": [],
     "prompt_number": 4
    },
    {
     "cell_type": "code",
     "collapsed": false,
     "input": [
      "def getMoviesForRange(titles, start, end):\n",
      "    index = start\n",
      "    for title in titles[start:end]:\n",
      "        j = getMoviesByTitle(title)\n",
      "        print('[' + str(index) + '] Found ' + str(j) + ' new movies for \"' + title + '\"')\n",
      "        index += 1"
     ],
     "language": "python",
     "metadata": {},
     "outputs": [],
     "prompt_number": 5
    },
    {
     "cell_type": "code",
     "collapsed": false,
     "input": [
      "getMoviesForRange(titles, 0, 1)"
     ],
     "language": "python",
     "metadata": {},
     "outputs": [
      {
       "output_type": "stream",
       "stream": "stdout",
       "text": [
        "[0] Found 0 new movies for \"Category:1961\"\n"
       ]
      }
     ],
     "prompt_number": 6
    },
    {
     "cell_type": "code",
     "collapsed": false,
     "input": [
      "filteredMovies = []\n",
      "for m in rawMovies:\n",
      "    if m['tmdb']['id'] not in ids:\n",
      "        ids.add(m['tmdb']['id'])\n",
      "        filteredMovies.append(m)\n",
      "\n",
      "len(filteredMovies)"
     ],
     "language": "python",
     "metadata": {},
     "outputs": [
      {
       "metadata": {},
       "output_type": "pyout",
       "prompt_number": 7,
       "text": [
        "0"
       ]
      }
     ],
     "prompt_number": 7
    },
    {
     "cell_type": "code",
     "collapsed": false,
     "input": [
      "# This file will be greater than the 100MB limit on GitHub...\n",
      "json.dump(filteredMovies, open('raw_movie_data.json', 'w'))"
     ],
     "language": "python",
     "metadata": {},
     "outputs": [],
     "prompt_number": 8
    },
    {
     "cell_type": "heading",
     "level": 2,
     "metadata": {},
     "source": [
      "Format Movie Data"
     ]
    },
    {
     "cell_type": "markdown",
     "metadata": {},
     "source": [
      "http://www.programmableweb.com/news/52-movies-apis-rovi-rotten-tomatoes-and-internet-video-archive/2013/01/22   \n",
      "http://www.omdbapi.com   \n",
      "https://pypi.python.org/pypi/rtsimple"
     ]
    },
    {
     "cell_type": "code",
     "collapsed": false,
     "input": [
      "TMDB_IMAGES = tmdb.Configuration().info()['images']"
     ],
     "language": "python",
     "metadata": {},
     "outputs": [],
     "prompt_number": 25
    },
    {
     "cell_type": "code",
     "collapsed": false,
     "input": [
      "def formatMovieData(fromOmdb, fromRt, fromTmdb):\n",
      "    \n",
      "    result = dict()\n",
      "    \n",
      "    # TITLE\n",
      "    result['title'] = fromTmdb['title']\n",
      "        # fromOmdb['title']\n",
      "        # fromRt['title']\n",
      "        # fromTmdb['original_title']\n",
      "        # tmdb.Movies(fromTmdb['id']).alternative_titles()\n",
      "\n",
      "    # PLOT SYNOPSIS\n",
      "    # Multiple different plots may help NLP\n",
      "    result['plots'] = []\n",
      "    if fromTmdb['overview']: result['plots'].append(fromTmdb['overview'])\n",
      "    if fromRt['synopsis']:   result['plots'].append(fromRt['synopsis'])\n",
      "    if fromOmdb['plot']:     result['plots'].append(fromOmdb['plot'])\n",
      "    result['plot'] = result['plots'][0] or ''\n",
      "\n",
      "    # TAGLINE\n",
      "    if fromTmdb['tagline']: result['tagline'] = fromTmdb['tagline']\n",
      "    \n",
      "    # KEYWORDS\n",
      "    # result['keywords'] = map(lambda x: x['name'], tmdb.Movies(fromTmdb['id']).keywords()['keywords'])\n",
      "\n",
      "    # GENRES\n",
      "    allSectors = fromOmdb['genre'] + ', ' + \\\n",
      "                 string.join(fromRt['genres'], ', ') + ', ' + \\\n",
      "                 string.join(map(lambda x: x['name'], fromTmdb['genres']), ', ')\n",
      "    result['genres'] = list(set(allSectors.replace(' & ', ', ').split(', ')))\n",
      "    result['genre'] = string.join(result['genres'], ', ')\n",
      "\n",
      "    # RUNTIME\n",
      "    runtime = fromTmdb['runtime'] or fromRt['runtime']\n",
      "    if runtime: result['runtime'] = runtime\n",
      "    \n",
      "    # BUDGET AND REVENUE\n",
      "    result['budget'] = fromTmdb['budget'] or None\n",
      "    result['revenue'] = fromTmdb['revenue'] or None\n",
      "\n",
      "    # DATES\n",
      "    result['year'] = fromRt['year']\n",
      "    result['released'] = fromTmdb['release_date']\n",
      "        # fromOmdb['released'] # u'27 Nov 2013'\n",
      "        # fromRt['release_dates'] # {u'dvd': u'2014-03-18', u'theater': u'2013-11-27'}\n",
      "\n",
      "    # LANGUAGES\n",
      "    languages = map(lambda x: x['name'], fromTmdb['spoken_languages'])\n",
      "    if len(languages): result['languages'] = languages\n",
      "        \n",
      "    # COUNTRY\n",
      "    if fromOmdb['country']: result['country'] = fromOmdb['country']\n",
      "        # map(lambda x: x['name'], fromTmdb['production_countries'])\n",
      "        # fromOmdb['language'].split(', ')\n",
      "\n",
      "    # POPULARITY\n",
      "    if fromRt['ratings']['audience_score'] > 0: result['score_rtaudience'] = fromRt['ratings']['audience_score']\n",
      "    if fromRt['ratings']['critics_score'] > 0: result['score_rtcritics'] = fromRt['ratings']['critics_score']\n",
      "    if fromOmdb['imdb_rating'] != 'N/A':result['score_imdb'] = float(fromOmdb['imdb_rating'])\n",
      "    if fromOmdb['metascore'] != 'N/A': result['score_metascore'] = float(fromOmdb['metascore'])\n",
      "        # fromTmdb['popularity'],\n",
      "        # fromTmdb['vote_average']\n",
      "        # fromRt['ratings']['critics_rating']\n",
      "        # fromRt['ratings']['audience_rating']\n",
      "        \n",
      "    # VOTE COUNT\n",
      "    if fromOmdb['imdb_votes'] != 'N/A': result['votes_imdb'] = int(fromOmdb['imdb_votes'].replace(',',''))\n",
      "        # result['votes_rt'] = map(lambda x: x['name'], rt.Movies(fromRt['id']).reviews())\n",
      "        # fromTmdb['vote_count']\n",
      "\n",
      "    # RATINGS AND AWARDS\n",
      "    result['awards'] = fromOmdb['awards']\n",
      "    result['rating'] = fromRt['mpaa_rating'] if fromRt['mpaa_rating'] != 'N/A' else fromOmdb['rated']\n",
      "        # fromTmdb['adult'] # False\n",
      "\n",
      "    # CAST\n",
      "    if 'abridged_cast' in fromRt:\n",
      "        result['actors'] = string.join(map(lambda x: x['name'], fromRt['abridged_cast']), ', ')\n",
      "        result['actors_array'] = map(lambda x: x['name'], fromRt['abridged_cast'])\n",
      "    elif 'actors' in fromOmdb:\n",
      "        result['actors'] = fromOmdb['actors']\n",
      "        result['actors_array'] = fromOmdb['actors'].split(', ')\n",
      "        # map(lambda x: x['name'], rt.Movies(fromRt['id']).cast()['cast'])\n",
      "        # tmdb.Movies(fromTmdb['id']).credits()['cast']\n",
      "\n",
      "    # DIRECTOR\n",
      "    if 'abridged_directors' in fromRt:\n",
      "        result['directors'] = string.join(map(lambda x: x['name'], fromRt['abridged_directors']), ', ')\n",
      "    elif 'directors' in fromOmdb:\n",
      "        result['directors'] = fromOmdb['directors']\n",
      "        \n",
      "    # CREW\n",
      "    # fromOmdb['writer']\n",
      "    # tmdb.Movies(fromTmdb['id']).credits()['crew']\n",
      "\n",
      "    # STUDIO AND PRODUCTION\n",
      "    if 'studio' in fromRt:\n",
      "        result['studio'] = fromRt['studio']\n",
      "    elif len(fromTmdb['production_companies']):\n",
      "        result['studio'] = fromTmdb['production_companies'][0]['name']\n",
      "\n",
      "    # LINKS\n",
      "    if 'alternate' in fromRt['links']: result['link_rt'] = fromRt['links']['alternate'];\n",
      "    if 'imdb' in fromRt['alternate_ids']: result['link_imdb'] = fromRt['alternate_ids']['imdb'];\n",
      "    if fromTmdb['homepage']: result['homepage'] = fromTmdb['homepage']\n",
      "\n",
      "    # IMAGE URLS\n",
      "    if fromOmdb['poster']: result['poster'] = fromOmdb['poster']\n",
      "    if fromTmdb['poster_path']: result['poster_1'] = TMDB_IMAGES['base_url'] + 'w185' + fromTmdb['poster_path']\n",
      "        #     can use 'original', u'w92', 'w154', 'w185', 'w342', 'w500', 'w780'\n",
      "    result['background'] = TMDB_IMAGES['base_url'] + 'original' + str(fromTmdb['backdrop_path'])\n",
      "        # fromRt['posters'] # {u'detailed': u'...', u'original': u'...', u'profile': u'...', u'thumbnail': u'...'}\n",
      "        #     can use 'w300', 'w780', 'w1280' instead of 'original'\n",
      "        # tmdb.Movies(fromTmdb['id']).images()\n",
      "\n",
      "    # VIDEOS\n",
      "    # trailers = [a for a in tmdb.Movies(fromTmdb['id']).videos()['results'] if a['type'] == 'Trailer']\n",
      "    # if len(trailers): result['trailer'] = trailers[0]\n",
      "        # tmdb.Movies(fromTmdb['id']).videos()['results']\n",
      "        # rt.Movies(fromRt['id']).clips()['clips']\n",
      "        \n",
      "    # OTHER\n",
      "    # fromOmdb['type'] # u'movie'\n",
      "    # fromTmdb['status'] # u'Released'\n",
      "\n",
      "    return result"
     ],
     "language": "python",
     "metadata": {},
     "outputs": [],
     "prompt_number": 103
    },
    {
     "cell_type": "code",
     "collapsed": false,
     "input": [
      "len(rawMovies)"
     ],
     "language": "python",
     "metadata": {},
     "outputs": [
      {
       "metadata": {},
       "output_type": "pyout",
       "prompt_number": 104,
       "text": [
        "49954"
       ]
      }
     ],
     "prompt_number": 104
    },
    {
     "cell_type": "code",
     "collapsed": false,
     "input": [
      "movies = []\n",
      "\n",
      "for movie in rawMovies:\n",
      "    if 'title' in movie['omdb'] and 'title' in movie['rt']:\n",
      "        movies.append(formatMovieData(movie['omdb'], movie['rt'], movie['tmdb']))\n",
      "        \n",
      "len(movies)"
     ],
     "language": "python",
     "metadata": {},
     "outputs": [
      {
       "metadata": {},
       "output_type": "pyout",
       "prompt_number": 105,
       "text": [
        "26452"
       ]
      }
     ],
     "prompt_number": 105
    },
    {
     "cell_type": "code",
     "collapsed": false,
     "input": [
      "bestMovies = sorted(movies, key=lambda x: x['revenue'], reverse=True)[0:5000]"
     ],
     "language": "python",
     "metadata": {},
     "outputs": [],
     "prompt_number": 106
    },
    {
     "cell_type": "code",
     "collapsed": false,
     "input": [],
     "language": "python",
     "metadata": {},
     "outputs": []
    },
    {
     "cell_type": "code",
     "collapsed": false,
     "input": [],
     "language": "python",
     "metadata": {},
     "outputs": [],
     "prompt_number": 102
    },
    {
     "cell_type": "code",
     "collapsed": false,
     "input": [],
     "language": "python",
     "metadata": {},
     "outputs": []
    },
    {
     "cell_type": "heading",
     "level": 2,
     "metadata": {},
     "source": [
      "Save Data to Db"
     ]
    },
    {
     "cell_type": "code",
     "collapsed": false,
     "input": [
      "json.dump(bestMovies, open('../meteorApp/private/movie_data.json', 'w'))"
     ],
     "language": "python",
     "metadata": {},
     "outputs": [],
     "prompt_number": 107
    },
    {
     "cell_type": "code",
     "collapsed": false,
     "input": [
      "uri = 'mongodb://localhost/appdb'\n",
      "client = MongoClient(uri)\n",
      "client.appdb.movies.remove()\n",
      "for movie in validMovies:\n",
      "    client.appdb.movies.insert(movie)"
     ],
     "language": "python",
     "metadata": {},
     "outputs": [],
     "prompt_number": 59
    },
    {
     "cell_type": "code",
     "collapsed": false,
     "input": [],
     "language": "python",
     "metadata": {},
     "outputs": [
      {
       "ename": "NameError",
       "evalue": "name 'ObjectId' is not defined",
       "output_type": "pyerr",
       "traceback": [
        "\u001b[0;31m---------------------------------------------------------------------------\u001b[0m\n\u001b[0;31mNameError\u001b[0m                                 Traceback (most recent call last)",
        "\u001b[0;32m<ipython-input-61-1f39195b7576>\u001b[0m in \u001b[0;36m<module>\u001b[0;34m()\u001b[0m\n\u001b[0;32m----> 1\u001b[0;31m \u001b[0mObjectId\u001b[0m\u001b[0;34m(\u001b[0m\u001b[0;34m'54df5c352d0d5eefb71d3e38'\u001b[0m\u001b[0;34m)\u001b[0m\u001b[0;34m\u001b[0m\u001b[0m\n\u001b[0m",
        "\u001b[0;31mNameError\u001b[0m: name 'ObjectId' is not defined"
       ]
      }
     ],
     "prompt_number": 61
    },
    {
     "cell_type": "heading",
     "level": 1,
     "metadata": {},
     "source": [
      "Download all images"
     ]
    },
    {
     "cell_type": "code",
     "collapsed": false,
     "input": [
      "from pymongo import MongoClient\n",
      "import urllib\n"
     ],
     "language": "python",
     "metadata": {},
     "outputs": [],
     "prompt_number": 25
    },
    {
     "cell_type": "code",
     "collapsed": false,
     "input": [
      "uri = 'mongodb://localhost/appdb'\n",
      "client = MongoClient(uri)"
     ],
     "language": "python",
     "metadata": {},
     "outputs": [],
     "prompt_number": 26
    },
    {
     "cell_type": "code",
     "collapsed": false,
     "input": [
      "movies = client.appdb.movies.find().skip(5000)\n",
      "i = 0\n",
      "for movie in movies:\n",
      "    if ('link_imdb' in movie):\n",
      "        if ('poster' in movie):\n",
      "            fname = 'assets/'+str(movie['link_imdb'])+'_poster.jpg'\n",
      "            if (not os.path.isfile(fname) and 'N/A' not in movie['poster']):\n",
      "                f = open(fname,'wb')\n",
      "                f.write(urllib.urlopen(movie['poster']).read())\n",
      "                f.close()\n",
      "        if ('poster_1' in movie):\n",
      "            fname = 'assets/'+str(movie['link_imdb'])+'_poster_1.jpg'\n",
      "            if (not os.path.isfile(fname) and 'N/A' not in movie['poster_1']):\n",
      "                f = open(fname,'wb')\n",
      "                f.write(urllib.urlopen(movie['poster_1']).read())\n",
      "                f.close()\n",
      "        if ('background' in movie):\n",
      "            fname = 'assets/'+str(movie['link_imdb'])+'_background.jpg'\n",
      "            if (not os.path.isfile(fname) and 'N/A' not in movie['background']):\n",
      "                f = open(fname,'wb')\n",
      "                f.write(urllib.urlopen(movie['background']).read())\n",
      "                f.close()\n",
      "    i = i+1\n",
      "    if i > 5000:\n",
      "        print(i)"
     ],
     "language": "python",
     "metadata": {},
     "outputs": [],
     "prompt_number": 35
    },
    {
     "cell_type": "code",
     "collapsed": false,
     "input": [],
     "language": "python",
     "metadata": {},
     "outputs": [],
     "prompt_number": 12
    },
    {
     "cell_type": "code",
     "collapsed": false,
     "input": [],
     "language": "python",
     "metadata": {},
     "outputs": []
    }
   ],
   "metadata": {}
  }
 ]
}