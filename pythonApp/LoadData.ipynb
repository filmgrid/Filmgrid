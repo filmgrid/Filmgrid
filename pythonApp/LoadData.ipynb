{
 "metadata": {
  "name": "",
  "signature": "sha256:612e8f04bb2b471fb7f63605732b4e5b7a05a4a8a54e31f2d78452d1c0a8f9ac"
 },
 "nbformat": 3,
 "nbformat_minor": 0,
 "worksheets": [
  {
   "cells": [
    {
     "cell_type": "code",
     "collapsed": false,
     "input": [
      "import json\n",
      "import pymongo\n",
      "import numpy as np\n",
      "\n",
      "import omdb\n",
      "import tmdbsimple as tmdb # pip install tmdbsimple\n",
      "import rtsimple as rt # pip install rtsimple\n",
      "from pymongo import MongoClient\n",
      "import string\n",
      "\n",
      "tmdb.API_KEY = '2a50430216cd531275198faae3531bb4'\n",
      "rt.API_KEY = 'dbbykgj6pbm3wnfrnvhdbdym'"
     ],
     "language": "python",
     "metadata": {},
     "outputs": [],
     "prompt_number": 54
    },
    {
     "cell_type": "heading",
     "level": 2,
     "metadata": {},
     "source": [
      "Download Raw Data"
     ]
    },
    {
     "cell_type": "code",
     "collapsed": false,
     "input": [
      "titles = json.load(open('movie_titles.json', 'r'))\n",
      "len(titles)"
     ],
     "language": "python",
     "metadata": {},
     "outputs": [
      {
       "metadata": {},
       "output_type": "pyout",
       "prompt_number": 2,
       "text": [
        "16433"
       ]
      }
     ],
     "prompt_number": 2
    },
    {
     "cell_type": "code",
     "collapsed": false,
     "input": [
      "movieIds = set()\n",
      "rawMovies = []"
     ],
     "language": "python",
     "metadata": {},
     "outputs": [],
     "prompt_number": 3
    },
    {
     "cell_type": "code",
     "collapsed": false,
     "input": [
      "def getMoviesByTitle(title):\n",
      "    searchResults = tmdb.Search().movie(query=title)['results'] # limited to 20 results!\n",
      "    count = 0\n",
      "    for movie in searchResults:\n",
      "        if movie['id'] not in movieIds:\n",
      "            tmdbData =  tmdb.Movies(movie['id']).info()\n",
      "            imdbId = tmdbData['imdb_id'].replace('tt', '')\n",
      "            movieIds.add(movie['id'])\n",
      "            rawMovies.append(dict({\n",
      "                'rt': rt.Alias().movie(type='imdb', id=imdbId),\n",
      "                'omdb': omdb.imdbid(tmdbData['imdb_id']),\n",
      "                'tmdb': tmdbData\n",
      "            }))\n",
      "            count += 1\n",
      "    return count"
     ],
     "language": "python",
     "metadata": {},
     "outputs": [],
     "prompt_number": 4
    },
    {
     "cell_type": "code",
     "collapsed": false,
     "input": [
      "def getMoviesForRange(titles, start, end):\n",
      "    index = start\n",
      "    for title in titles[start:end]:\n",
      "        j = getMoviesByTitle(title)\n",
      "        print('[' + str(index) + '] Found ' + str(j) + ' new movies for \"' + title + '\"')\n",
      "        index += 1"
     ],
     "language": "python",
     "metadata": {},
     "outputs": [],
     "prompt_number": 5
    },
    {
     "cell_type": "code",
     "collapsed": false,
     "input": [
      "getMoviesForRange(titles, 0, 1)"
     ],
     "language": "python",
     "metadata": {},
     "outputs": [
      {
       "output_type": "stream",
       "stream": "stdout",
       "text": [
        "[0] Found 0 new movies for \"Category:1961\"\n"
       ]
      }
     ],
     "prompt_number": 6
    },
    {
     "cell_type": "code",
     "collapsed": false,
     "input": [
      "filteredMovies = []\n",
      "for m in rawMovies:\n",
      "    if m['tmdb']['id'] not in ids:\n",
      "        ids.add(m['tmdb']['id'])\n",
      "        filteredMovies.append(m)\n",
      "\n",
      "len(filteredMovies)"
     ],
     "language": "python",
     "metadata": {},
     "outputs": [
      {
       "metadata": {},
       "output_type": "pyout",
       "prompt_number": 7,
       "text": [
        "0"
       ]
      }
     ],
     "prompt_number": 7
    },
    {
     "cell_type": "code",
     "collapsed": false,
     "input": [
      "# This file will be greater than the 100MB limit on GitHub...\n",
      "json.dump(filteredMovies, open('raw_movie_data.json', 'w'))"
     ],
     "language": "python",
     "metadata": {},
     "outputs": [],
     "prompt_number": 8
    },
    {
     "cell_type": "heading",
     "level": 2,
     "metadata": {},
     "source": [
      "Load Keywords and Trailers"
     ]
    },
    {
     "cell_type": "code",
     "collapsed": false,
     "input": [
      "rawMoviesWithKeywords = []\n",
      "x = 0;"
     ],
     "language": "python",
     "metadata": {},
     "outputs": [],
     "prompt_number": 126
    },
    {
     "cell_type": "code",
     "collapsed": false,
     "input": [
      "for i in range(x, len(rawMovies)):\n",
      "    movie = rawMovies[i]\n",
      "    if 'title' in movie['omdb'] and 'title' in movie['rt']:\n",
      "        rawMoviesWithKeywords.append({\n",
      "            'omdb': movie['omdb'],\n",
      "            'rt': movie['rt'],\n",
      "            'tmdb': movie['tmdb'],\n",
      "            'keywords': tmdb.Movies(movie['tmdb']['id']).keywords()['keywords'],\n",
      "            'videos': tmdb.Movies(movie['tmdb']['id']).videos()['results']\n",
      "                      # rt.Movies(fromRt['id']).clips()['clips']\n",
      "     })\n",
      "    x += 1\n",
      "    if ((x % 100) == 0): print(x)"
     ],
     "language": "python",
     "metadata": {},
     "outputs": [
      {
       "output_type": "stream",
       "stream": "stdout",
       "text": [
        "33100\n",
        "33200"
       ]
      },
      {
       "output_type": "stream",
       "stream": "stdout",
       "text": [
        "\n",
        "33300"
       ]
      },
      {
       "output_type": "stream",
       "stream": "stdout",
       "text": [
        "\n",
        "33400"
       ]
      },
      {
       "output_type": "stream",
       "stream": "stdout",
       "text": [
        "\n",
        "33500"
       ]
      },
      {
       "output_type": "stream",
       "stream": "stdout",
       "text": [
        "\n",
        "33600"
       ]
      },
      {
       "output_type": "stream",
       "stream": "stdout",
       "text": [
        "\n",
        "33700"
       ]
      },
      {
       "output_type": "stream",
       "stream": "stdout",
       "text": [
        "\n",
        "33800"
       ]
      },
      {
       "output_type": "stream",
       "stream": "stdout",
       "text": [
        "\n",
        "33900"
       ]
      },
      {
       "output_type": "stream",
       "stream": "stdout",
       "text": [
        "\n",
        "34000"
       ]
      },
      {
       "output_type": "stream",
       "stream": "stdout",
       "text": [
        "\n",
        "34100"
       ]
      },
      {
       "output_type": "stream",
       "stream": "stdout",
       "text": [
        "\n",
        "34200"
       ]
      },
      {
       "output_type": "stream",
       "stream": "stdout",
       "text": [
        "\n",
        "34300"
       ]
      },
      {
       "output_type": "stream",
       "stream": "stdout",
       "text": [
        "\n",
        "34400"
       ]
      },
      {
       "output_type": "stream",
       "stream": "stdout",
       "text": [
        "\n",
        "34500"
       ]
      },
      {
       "output_type": "stream",
       "stream": "stdout",
       "text": [
        "\n",
        "34600"
       ]
      },
      {
       "output_type": "stream",
       "stream": "stdout",
       "text": [
        "\n",
        "34700"
       ]
      },
      {
       "output_type": "stream",
       "stream": "stdout",
       "text": [
        "\n",
        "34800"
       ]
      },
      {
       "output_type": "stream",
       "stream": "stdout",
       "text": [
        "\n",
        "34900"
       ]
      },
      {
       "output_type": "stream",
       "stream": "stdout",
       "text": [
        "\n",
        "35000"
       ]
      },
      {
       "output_type": "stream",
       "stream": "stdout",
       "text": [
        "\n",
        "35100"
       ]
      },
      {
       "output_type": "stream",
       "stream": "stdout",
       "text": [
        "\n",
        "35200"
       ]
      },
      {
       "output_type": "stream",
       "stream": "stdout",
       "text": [
        "\n",
        "35300"
       ]
      },
      {
       "output_type": "stream",
       "stream": "stdout",
       "text": [
        "\n",
        "35400"
       ]
      },
      {
       "output_type": "stream",
       "stream": "stdout",
       "text": [
        "\n",
        "35500"
       ]
      },
      {
       "output_type": "stream",
       "stream": "stdout",
       "text": [
        "\n",
        "35600"
       ]
      },
      {
       "output_type": "stream",
       "stream": "stdout",
       "text": [
        "\n",
        "35700"
       ]
      },
      {
       "output_type": "stream",
       "stream": "stdout",
       "text": [
        "\n",
        "35800"
       ]
      },
      {
       "output_type": "stream",
       "stream": "stdout",
       "text": [
        "\n",
        "35900"
       ]
      },
      {
       "output_type": "stream",
       "stream": "stdout",
       "text": [
        "\n",
        "36000"
       ]
      },
      {
       "output_type": "stream",
       "stream": "stdout",
       "text": [
        "\n",
        "36100"
       ]
      },
      {
       "output_type": "stream",
       "stream": "stdout",
       "text": [
        "\n",
        "36200"
       ]
      },
      {
       "output_type": "stream",
       "stream": "stdout",
       "text": [
        "\n",
        "36300"
       ]
      },
      {
       "output_type": "stream",
       "stream": "stdout",
       "text": [
        "\n",
        "36400"
       ]
      },
      {
       "output_type": "stream",
       "stream": "stdout",
       "text": [
        "\n",
        "36500"
       ]
      },
      {
       "output_type": "stream",
       "stream": "stdout",
       "text": [
        "\n",
        "36600"
       ]
      },
      {
       "output_type": "stream",
       "stream": "stdout",
       "text": [
        "\n",
        "36700"
       ]
      },
      {
       "output_type": "stream",
       "stream": "stdout",
       "text": [
        "\n",
        "36800"
       ]
      },
      {
       "output_type": "stream",
       "stream": "stdout",
       "text": [
        "\n",
        "36900"
       ]
      },
      {
       "output_type": "stream",
       "stream": "stdout",
       "text": [
        "\n",
        "37000"
       ]
      },
      {
       "output_type": "stream",
       "stream": "stdout",
       "text": [
        "\n",
        "37100"
       ]
      },
      {
       "output_type": "stream",
       "stream": "stdout",
       "text": [
        "\n",
        "37200"
       ]
      },
      {
       "output_type": "stream",
       "stream": "stdout",
       "text": [
        "\n",
        "37300"
       ]
      },
      {
       "output_type": "stream",
       "stream": "stdout",
       "text": [
        "\n",
        "37400"
       ]
      },
      {
       "output_type": "stream",
       "stream": "stdout",
       "text": [
        "\n",
        "37500"
       ]
      },
      {
       "output_type": "stream",
       "stream": "stdout",
       "text": [
        "\n",
        "37600"
       ]
      },
      {
       "output_type": "stream",
       "stream": "stdout",
       "text": [
        "\n",
        "37700"
       ]
      },
      {
       "output_type": "stream",
       "stream": "stdout",
       "text": [
        "\n",
        "37800"
       ]
      },
      {
       "output_type": "stream",
       "stream": "stdout",
       "text": [
        "\n",
        "37900"
       ]
      },
      {
       "output_type": "stream",
       "stream": "stdout",
       "text": [
        "\n",
        "38000"
       ]
      },
      {
       "output_type": "stream",
       "stream": "stdout",
       "text": [
        "\n",
        "38100"
       ]
      },
      {
       "output_type": "stream",
       "stream": "stdout",
       "text": [
        "\n",
        "38200"
       ]
      },
      {
       "output_type": "stream",
       "stream": "stdout",
       "text": [
        "\n",
        "38300"
       ]
      },
      {
       "output_type": "stream",
       "stream": "stdout",
       "text": [
        "\n",
        "38400"
       ]
      },
      {
       "output_type": "stream",
       "stream": "stdout",
       "text": [
        "\n",
        "38500"
       ]
      },
      {
       "output_type": "stream",
       "stream": "stdout",
       "text": [
        "\n",
        "38600"
       ]
      },
      {
       "output_type": "stream",
       "stream": "stdout",
       "text": [
        "\n",
        "38700"
       ]
      },
      {
       "output_type": "stream",
       "stream": "stdout",
       "text": [
        "\n",
        "38800"
       ]
      },
      {
       "output_type": "stream",
       "stream": "stdout",
       "text": [
        "\n",
        "38900"
       ]
      },
      {
       "output_type": "stream",
       "stream": "stdout",
       "text": [
        "\n",
        "39000"
       ]
      },
      {
       "output_type": "stream",
       "stream": "stdout",
       "text": [
        "\n",
        "39100"
       ]
      },
      {
       "output_type": "stream",
       "stream": "stdout",
       "text": [
        "\n",
        "39200"
       ]
      },
      {
       "output_type": "stream",
       "stream": "stdout",
       "text": [
        "\n",
        "39300"
       ]
      },
      {
       "output_type": "stream",
       "stream": "stdout",
       "text": [
        "\n",
        "39400"
       ]
      },
      {
       "output_type": "stream",
       "stream": "stdout",
       "text": [
        "\n",
        "39500"
       ]
      },
      {
       "output_type": "stream",
       "stream": "stdout",
       "text": [
        "\n",
        "39600"
       ]
      },
      {
       "output_type": "stream",
       "stream": "stdout",
       "text": [
        "\n",
        "39700"
       ]
      },
      {
       "output_type": "stream",
       "stream": "stdout",
       "text": [
        "\n",
        "39800"
       ]
      },
      {
       "output_type": "stream",
       "stream": "stdout",
       "text": [
        "\n",
        "39900"
       ]
      },
      {
       "output_type": "stream",
       "stream": "stdout",
       "text": [
        "\n",
        "40000"
       ]
      },
      {
       "output_type": "stream",
       "stream": "stdout",
       "text": [
        "\n",
        "40100"
       ]
      },
      {
       "output_type": "stream",
       "stream": "stdout",
       "text": [
        "\n",
        "40200"
       ]
      },
      {
       "output_type": "stream",
       "stream": "stdout",
       "text": [
        "\n",
        "40300"
       ]
      },
      {
       "output_type": "stream",
       "stream": "stdout",
       "text": [
        "\n",
        "40400"
       ]
      },
      {
       "output_type": "stream",
       "stream": "stdout",
       "text": [
        "\n",
        "40500"
       ]
      },
      {
       "output_type": "stream",
       "stream": "stdout",
       "text": [
        "\n",
        "40600"
       ]
      },
      {
       "output_type": "stream",
       "stream": "stdout",
       "text": [
        "\n",
        "40700"
       ]
      },
      {
       "output_type": "stream",
       "stream": "stdout",
       "text": [
        "\n",
        "40800"
       ]
      },
      {
       "output_type": "stream",
       "stream": "stdout",
       "text": [
        "\n",
        "40900"
       ]
      },
      {
       "output_type": "stream",
       "stream": "stdout",
       "text": [
        "\n",
        "41000"
       ]
      },
      {
       "output_type": "stream",
       "stream": "stdout",
       "text": [
        "\n",
        "41100"
       ]
      },
      {
       "output_type": "stream",
       "stream": "stdout",
       "text": [
        "\n",
        "41200"
       ]
      },
      {
       "output_type": "stream",
       "stream": "stdout",
       "text": [
        "\n",
        "41300"
       ]
      },
      {
       "output_type": "stream",
       "stream": "stdout",
       "text": [
        "\n",
        "41400"
       ]
      },
      {
       "output_type": "stream",
       "stream": "stdout",
       "text": [
        "\n",
        "41500"
       ]
      },
      {
       "output_type": "stream",
       "stream": "stdout",
       "text": [
        "\n",
        "41600"
       ]
      },
      {
       "output_type": "stream",
       "stream": "stdout",
       "text": [
        "\n",
        "41700"
       ]
      },
      {
       "output_type": "stream",
       "stream": "stdout",
       "text": [
        "\n",
        "41800"
       ]
      },
      {
       "output_type": "stream",
       "stream": "stdout",
       "text": [
        "\n",
        "41900"
       ]
      },
      {
       "output_type": "stream",
       "stream": "stdout",
       "text": [
        "\n",
        "42000"
       ]
      },
      {
       "output_type": "stream",
       "stream": "stdout",
       "text": [
        "\n",
        "42100"
       ]
      },
      {
       "output_type": "stream",
       "stream": "stdout",
       "text": [
        "\n",
        "42200"
       ]
      },
      {
       "output_type": "stream",
       "stream": "stdout",
       "text": [
        "\n",
        "42300"
       ]
      },
      {
       "output_type": "stream",
       "stream": "stdout",
       "text": [
        "\n",
        "42400"
       ]
      },
      {
       "output_type": "stream",
       "stream": "stdout",
       "text": [
        "\n",
        "42500"
       ]
      },
      {
       "output_type": "stream",
       "stream": "stdout",
       "text": [
        "\n",
        "42600"
       ]
      },
      {
       "output_type": "stream",
       "stream": "stdout",
       "text": [
        "\n",
        "42700"
       ]
      },
      {
       "output_type": "stream",
       "stream": "stdout",
       "text": [
        "\n",
        "42800"
       ]
      },
      {
       "output_type": "stream",
       "stream": "stdout",
       "text": [
        "\n",
        "42900"
       ]
      },
      {
       "output_type": "stream",
       "stream": "stdout",
       "text": [
        "\n",
        "43000"
       ]
      },
      {
       "output_type": "stream",
       "stream": "stdout",
       "text": [
        "\n",
        "43100"
       ]
      },
      {
       "output_type": "stream",
       "stream": "stdout",
       "text": [
        "\n",
        "43200"
       ]
      },
      {
       "output_type": "stream",
       "stream": "stdout",
       "text": [
        "\n",
        "43300"
       ]
      },
      {
       "output_type": "stream",
       "stream": "stdout",
       "text": [
        "\n",
        "43400"
       ]
      },
      {
       "output_type": "stream",
       "stream": "stdout",
       "text": [
        "\n",
        "43500"
       ]
      },
      {
       "output_type": "stream",
       "stream": "stdout",
       "text": [
        "\n",
        "43600"
       ]
      },
      {
       "output_type": "stream",
       "stream": "stdout",
       "text": [
        "\n",
        "43700"
       ]
      },
      {
       "output_type": "stream",
       "stream": "stdout",
       "text": [
        "\n",
        "43800"
       ]
      },
      {
       "output_type": "stream",
       "stream": "stdout",
       "text": [
        "\n",
        "43900"
       ]
      },
      {
       "output_type": "stream",
       "stream": "stdout",
       "text": [
        "\n",
        "44000"
       ]
      },
      {
       "output_type": "stream",
       "stream": "stdout",
       "text": [
        "\n",
        "44100"
       ]
      },
      {
       "output_type": "stream",
       "stream": "stdout",
       "text": [
        "\n",
        "44200"
       ]
      },
      {
       "output_type": "stream",
       "stream": "stdout",
       "text": [
        "\n",
        "44300"
       ]
      },
      {
       "output_type": "stream",
       "stream": "stdout",
       "text": [
        "\n",
        "44400"
       ]
      },
      {
       "output_type": "stream",
       "stream": "stdout",
       "text": [
        "\n",
        "44500"
       ]
      },
      {
       "output_type": "stream",
       "stream": "stdout",
       "text": [
        "\n",
        "44600"
       ]
      },
      {
       "output_type": "stream",
       "stream": "stdout",
       "text": [
        "\n",
        "44700"
       ]
      },
      {
       "output_type": "stream",
       "stream": "stdout",
       "text": [
        "\n",
        "44800"
       ]
      },
      {
       "output_type": "stream",
       "stream": "stdout",
       "text": [
        "\n",
        "44900"
       ]
      },
      {
       "output_type": "stream",
       "stream": "stdout",
       "text": [
        "\n",
        "45000"
       ]
      },
      {
       "output_type": "stream",
       "stream": "stdout",
       "text": [
        "\n",
        "45100"
       ]
      },
      {
       "output_type": "stream",
       "stream": "stdout",
       "text": [
        "\n",
        "45200"
       ]
      },
      {
       "output_type": "stream",
       "stream": "stdout",
       "text": [
        "\n",
        "45300"
       ]
      },
      {
       "output_type": "stream",
       "stream": "stdout",
       "text": [
        "\n",
        "45400"
       ]
      },
      {
       "output_type": "stream",
       "stream": "stdout",
       "text": [
        "\n",
        "45500"
       ]
      },
      {
       "output_type": "stream",
       "stream": "stdout",
       "text": [
        "\n",
        "45600"
       ]
      },
      {
       "output_type": "stream",
       "stream": "stdout",
       "text": [
        "\n",
        "45700"
       ]
      },
      {
       "output_type": "stream",
       "stream": "stdout",
       "text": [
        "\n",
        "45800"
       ]
      },
      {
       "output_type": "stream",
       "stream": "stdout",
       "text": [
        "\n",
        "45900"
       ]
      },
      {
       "output_type": "stream",
       "stream": "stdout",
       "text": [
        "\n",
        "46000"
       ]
      },
      {
       "output_type": "stream",
       "stream": "stdout",
       "text": [
        "\n",
        "46100"
       ]
      },
      {
       "output_type": "stream",
       "stream": "stdout",
       "text": [
        "\n",
        "46200"
       ]
      },
      {
       "output_type": "stream",
       "stream": "stdout",
       "text": [
        "\n",
        "46300"
       ]
      },
      {
       "output_type": "stream",
       "stream": "stdout",
       "text": [
        "\n",
        "46400"
       ]
      },
      {
       "output_type": "stream",
       "stream": "stdout",
       "text": [
        "\n",
        "46500"
       ]
      },
      {
       "output_type": "stream",
       "stream": "stdout",
       "text": [
        "\n",
        "46600"
       ]
      },
      {
       "output_type": "stream",
       "stream": "stdout",
       "text": [
        "\n",
        "46700"
       ]
      },
      {
       "output_type": "stream",
       "stream": "stdout",
       "text": [
        "\n",
        "46800"
       ]
      },
      {
       "output_type": "stream",
       "stream": "stdout",
       "text": [
        "\n",
        "46900"
       ]
      },
      {
       "output_type": "stream",
       "stream": "stdout",
       "text": [
        "\n",
        "47000"
       ]
      },
      {
       "output_type": "stream",
       "stream": "stdout",
       "text": [
        "\n",
        "47100"
       ]
      },
      {
       "output_type": "stream",
       "stream": "stdout",
       "text": [
        "\n",
        "47200"
       ]
      },
      {
       "output_type": "stream",
       "stream": "stdout",
       "text": [
        "\n",
        "47300"
       ]
      },
      {
       "output_type": "stream",
       "stream": "stdout",
       "text": [
        "\n",
        "47400"
       ]
      },
      {
       "output_type": "stream",
       "stream": "stdout",
       "text": [
        "\n",
        "47500"
       ]
      },
      {
       "output_type": "stream",
       "stream": "stdout",
       "text": [
        "\n",
        "47600"
       ]
      },
      {
       "output_type": "stream",
       "stream": "stdout",
       "text": [
        "\n",
        "47700"
       ]
      },
      {
       "output_type": "stream",
       "stream": "stdout",
       "text": [
        "\n",
        "47800"
       ]
      },
      {
       "output_type": "stream",
       "stream": "stdout",
       "text": [
        "\n",
        "47900"
       ]
      },
      {
       "output_type": "stream",
       "stream": "stdout",
       "text": [
        "\n",
        "48000"
       ]
      },
      {
       "output_type": "stream",
       "stream": "stdout",
       "text": [
        "\n",
        "48100"
       ]
      },
      {
       "output_type": "stream",
       "stream": "stdout",
       "text": [
        "\n",
        "48200"
       ]
      },
      {
       "output_type": "stream",
       "stream": "stdout",
       "text": [
        "\n",
        "48300"
       ]
      },
      {
       "output_type": "stream",
       "stream": "stdout",
       "text": [
        "\n",
        "48400"
       ]
      },
      {
       "output_type": "stream",
       "stream": "stdout",
       "text": [
        "\n",
        "48500"
       ]
      },
      {
       "output_type": "stream",
       "stream": "stdout",
       "text": [
        "\n",
        "48600"
       ]
      },
      {
       "output_type": "stream",
       "stream": "stdout",
       "text": [
        "\n",
        "48700"
       ]
      },
      {
       "output_type": "stream",
       "stream": "stdout",
       "text": [
        "\n",
        "48800"
       ]
      },
      {
       "output_type": "stream",
       "stream": "stdout",
       "text": [
        "\n",
        "48900"
       ]
      },
      {
       "output_type": "stream",
       "stream": "stdout",
       "text": [
        "\n",
        "49000"
       ]
      },
      {
       "output_type": "stream",
       "stream": "stdout",
       "text": [
        "\n",
        "49100"
       ]
      },
      {
       "output_type": "stream",
       "stream": "stdout",
       "text": [
        "\n",
        "49200"
       ]
      },
      {
       "output_type": "stream",
       "stream": "stdout",
       "text": [
        "\n",
        "49300"
       ]
      },
      {
       "output_type": "stream",
       "stream": "stdout",
       "text": [
        "\n",
        "49400"
       ]
      },
      {
       "output_type": "stream",
       "stream": "stdout",
       "text": [
        "\n",
        "49500"
       ]
      },
      {
       "output_type": "stream",
       "stream": "stdout",
       "text": [
        "\n",
        "49600"
       ]
      },
      {
       "output_type": "stream",
       "stream": "stdout",
       "text": [
        "\n",
        "49700"
       ]
      },
      {
       "output_type": "stream",
       "stream": "stdout",
       "text": [
        "\n",
        "49800"
       ]
      },
      {
       "output_type": "stream",
       "stream": "stdout",
       "text": [
        "\n",
        "49900"
       ]
      },
      {
       "output_type": "stream",
       "stream": "stdout",
       "text": [
        "\n"
       ]
      }
     ],
     "prompt_number": 151
    },
    {
     "cell_type": "code",
     "collapsed": false,
     "input": [
      "len(rawMoviesWithKeywords)"
     ],
     "language": "python",
     "metadata": {},
     "outputs": [
      {
       "metadata": {},
       "output_type": "pyout",
       "prompt_number": 152,
       "text": [
        "26447"
       ]
      }
     ],
     "prompt_number": 152
    },
    {
     "cell_type": "code",
     "collapsed": false,
     "input": [
      "json.dump(rawMoviesWithKeywords, open('raw_movie_extended_data.json', 'w'))"
     ],
     "language": "python",
     "metadata": {},
     "outputs": [],
     "prompt_number": 153
    },
    {
     "cell_type": "heading",
     "level": 2,
     "metadata": {},
     "source": [
      "Format Movie Data"
     ]
    },
    {
     "cell_type": "markdown",
     "metadata": {},
     "source": [
      "http://www.programmableweb.com/news/52-movies-apis-rovi-rotten-tomatoes-and-internet-video-archive/2013/01/22   \n",
      "http://www.omdbapi.com   \n",
      "https://pypi.python.org/pypi/rtsimple"
     ]
    },
    {
     "cell_type": "code",
     "collapsed": false,
     "input": [
      "TMDB_IMAGES = tmdb.Configuration().info()['images']"
     ],
     "language": "python",
     "metadata": {},
     "outputs": [],
     "prompt_number": 25
    },
    {
     "cell_type": "code",
     "collapsed": false,
     "input": [
      "def formatMovieData(fromOmdb, fromRt, fromTmdb, keywords, videos):\n",
      "    \n",
      "    result = dict()\n",
      "    \n",
      "    # TITLE\n",
      "    result['title'] = fromTmdb['title']\n",
      "        # fromOmdb['title']\n",
      "        # fromRt['title']\n",
      "        # fromTmdb['original_title']\n",
      "        # tmdb.Movies(fromTmdb['id']).alternative_titles()\n",
      "\n",
      "    # PLOT SYNOPSIS\n",
      "    # Multiple different plots may help NLP\n",
      "    result['plots'] = []\n",
      "    if fromTmdb['overview']: result['plots'].append(fromTmdb['overview'])\n",
      "    if fromRt['synopsis']:   result['plots'].append(fromRt['synopsis'])\n",
      "    if fromOmdb['plot']:     result['plots'].append(fromOmdb['plot'])\n",
      "    result['plot'] = result['plots'][0] or ''\n",
      "\n",
      "    # TAGLINE\n",
      "    if fromTmdb['tagline']: result['tagline'] = fromTmdb['tagline']\n",
      "    \n",
      "    # KEYWORDS\n",
      "    result['keywords'] = map(lambda x: x['name'], keywords)\n",
      "\n",
      "    # GENRES\n",
      "    allSectors = fromOmdb['genre'] + ', ' + \\\n",
      "                 string.join(fromRt['genres'], ', ') + ', ' + \\\n",
      "                 string.join(map(lambda x: x['name'], fromTmdb['genres']), ', ')\n",
      "    result['genres'] = list(set(allSectors.replace(' & ', ', ').split(', ')))\n",
      "    result['genre'] = string.join(result['genres'], ', ')\n",
      "\n",
      "    # RUNTIME\n",
      "    runtime = fromTmdb['runtime'] or fromRt['runtime']\n",
      "    if runtime: result['runtime'] = runtime\n",
      "    \n",
      "    # BUDGET AND REVENUE\n",
      "    result['budget'] = fromTmdb['budget'] or None\n",
      "    result['revenue'] = fromTmdb['revenue'] or None\n",
      "\n",
      "    # DATES\n",
      "    result['year'] = fromRt['year']\n",
      "    result['released'] = fromTmdb['release_date']\n",
      "        # fromOmdb['released'] # u'27 Nov 2013'\n",
      "        # fromRt['release_dates'] # {u'dvd': u'2014-03-18', u'theater': u'2013-11-27'}\n",
      "\n",
      "    # LANGUAGES\n",
      "    languages = map(lambda x: x['name'], fromTmdb['spoken_languages'])\n",
      "    if len(languages): result['languages'] = languages\n",
      "        \n",
      "    # COUNTRY\n",
      "    if fromOmdb['country']: result['country'] = fromOmdb['country']\n",
      "        # map(lambda x: x['name'], fromTmdb['production_countries'])\n",
      "        # fromOmdb['language'].split(', ')\n",
      "\n",
      "    # POPULARITY\n",
      "    if fromRt['ratings']['audience_score'] > 0: result['score_rtaudience'] = fromRt['ratings']['audience_score']\n",
      "    if fromRt['ratings']['critics_score'] > 0: result['score_rtcritics'] = fromRt['ratings']['critics_score']\n",
      "    if fromOmdb['imdb_rating'] != 'N/A':result['score_imdb'] = float(fromOmdb['imdb_rating'])\n",
      "    if fromOmdb['metascore'] != 'N/A': result['score_metascore'] = float(fromOmdb['metascore'])\n",
      "        # fromTmdb['popularity'],\n",
      "        # fromTmdb['vote_average']\n",
      "        # fromRt['ratings']['critics_rating']\n",
      "        # fromRt['ratings']['audience_rating']\n",
      "        \n",
      "    # VOTE COUNT\n",
      "    if fromOmdb['imdb_votes'] != 'N/A': result['votes_imdb'] = int(fromOmdb['imdb_votes'].replace(',',''))\n",
      "        # result['votes_rt'] = map(lambda x: x['name'], rt.Movies(fromRt['id']).reviews())\n",
      "        # fromTmdb['vote_count']\n",
      "\n",
      "    # RATINGS AND AWARDS\n",
      "    result['awards'] = fromOmdb['awards']\n",
      "    result['rating'] = fromRt['mpaa_rating'] if fromRt['mpaa_rating'] != 'N/A' else fromOmdb['rated']\n",
      "        # fromTmdb['adult'] # False\n",
      "\n",
      "    # CAST\n",
      "    if 'abridged_cast' in fromRt:\n",
      "        result['actors'] = string.join(map(lambda x: x['name'], fromRt['abridged_cast']), ', ')\n",
      "        result['actors_array'] = map(lambda x: x['name'], fromRt['abridged_cast'])\n",
      "    elif 'actors' in fromOmdb:\n",
      "        result['actors'] = fromOmdb['actors']\n",
      "        result['actors_array'] = fromOmdb['actors'].split(', ')\n",
      "        # map(lambda x: x['name'], rt.Movies(fromRt['id']).cast()['cast'])\n",
      "        # tmdb.Movies(fromTmdb['id']).credits()['cast']\n",
      "\n",
      "    # DIRECTOR\n",
      "    if 'abridged_directors' in fromRt:\n",
      "        result['directors'] = string.join(map(lambda x: x['name'], fromRt['abridged_directors']), ', ')\n",
      "        result['directors_array'] = map(lambda x: x['name'], fromRt['abridged_directors'])\n",
      "    elif 'directors' in fromOmdb:\n",
      "        result['directors'] = fromOmdb['directors']\n",
      "        result['directors_array'] = fromOmdb['directors'].split(', ')\n",
      "        \n",
      "    # CREW\n",
      "    # fromOmdb['writer']\n",
      "    # tmdb.Movies(fromTmdb['id']).credits()['crew']\n",
      "\n",
      "    # STUDIO AND PRODUCTION\n",
      "    if 'studio' in fromRt:\n",
      "        result['studio'] = fromRt['studio']\n",
      "    elif len(fromTmdb['production_companies']):\n",
      "        result['studio'] = fromTmdb['production_companies'][0]['name']\n",
      "\n",
      "    # LINKS\n",
      "    if 'alternate' in fromRt['links']: result['link_rt'] = fromRt['links']['alternate'];\n",
      "    if 'imdb' in fromRt['alternate_ids']: result['link_imdb'] = fromRt['alternate_ids']['imdb'];\n",
      "    if fromTmdb['homepage']: result['homepage'] = fromTmdb['homepage']\n",
      "\n",
      "    # IMAGE URLS\n",
      "    if fromOmdb['poster']: result['poster'] = fromOmdb['poster']\n",
      "    if fromTmdb['poster_path']: result['poster_1'] = TMDB_IMAGES['base_url'] + 'w185' + fromTmdb['poster_path']\n",
      "        #     can use 'original', u'w92', 'w154', 'w185', 'w342', 'w500', 'w780'\n",
      "    result['background'] = TMDB_IMAGES['base_url'] + 'original' + str(fromTmdb['backdrop_path'])\n",
      "        # fromRt['posters'] # {u'detailed': u'...', u'original': u'...', u'profile': u'...', u'thumbnail': u'...'}\n",
      "        #     can use 'w300', 'w780', 'w1280' instead of 'original'\n",
      "        # tmdb.Movies(fromTmdb['id']).images()\n",
      "\n",
      "    # VIDEOS\n",
      "    trailers = [a for a in videos if a['type'] == 'Trailer']\n",
      "    if len(trailers) and trailers[-1]['site'] == 'YouTube':\n",
      "        result['trailer_youtube'] = trailers[-1]['key']        \n",
      "        \n",
      "    # OTHER\n",
      "    # fromOmdb['type'] # u'movie'\n",
      "    # fromTmdb['status'] # u'Released'\n",
      "\n",
      "    return result"
     ],
     "language": "python",
     "metadata": {},
     "outputs": [],
     "prompt_number": 169
    },
    {
     "cell_type": "code",
     "collapsed": false,
     "input": [
      "len(rawMoviesWithKeywords)"
     ],
     "language": "python",
     "metadata": {},
     "outputs": [
      {
       "metadata": {},
       "output_type": "pyout",
       "prompt_number": 154,
       "text": [
        "26447"
       ]
      }
     ],
     "prompt_number": 154
    },
    {
     "cell_type": "code",
     "collapsed": false,
     "input": [
      "movies = []\n",
      "\n",
      "for movie in rawMoviesWithKeywords:\n",
      "    if 'title' in movie['omdb'] and 'title' in movie['rt']:\n",
      "        movies.append(formatMovieData(movie['omdb'],\n",
      "                                      movie['rt'],\n",
      "                                      movie['tmdb'],\n",
      "                                      movie['keywords'],\n",
      "                                      movie['videos']))\n",
      "        \n",
      "len(movies)"
     ],
     "language": "python",
     "metadata": {},
     "outputs": [
      {
       "metadata": {},
       "output_type": "pyout",
       "prompt_number": 170,
       "text": [
        "26447"
       ]
      }
     ],
     "prompt_number": 170
    },
    {
     "cell_type": "code",
     "collapsed": false,
     "input": [
      "bestMovies = sorted(movies, key=lambda x: x['revenue'], reverse=True)[0:5000]"
     ],
     "language": "python",
     "metadata": {},
     "outputs": [],
     "prompt_number": 172
    },
    {
     "cell_type": "heading",
     "level": 2,
     "metadata": {},
     "source": [
      "Save Data to Db"
     ]
    },
    {
     "cell_type": "code",
     "collapsed": false,
     "input": [
      "json.dump(bestMovies, open('../meteorApp/private/movie_data.json', 'w'))"
     ],
     "language": "python",
     "metadata": {},
     "outputs": [],
     "prompt_number": 173
    },
    {
     "cell_type": "code",
     "collapsed": false,
     "input": [
      "uri = 'mongodb://localhost/appdb'\n",
      "client = MongoClient(uri)\n",
      "client.appdb.movies.remove()\n",
      "for movie in validMovies:\n",
      "    client.appdb.movies.insert(movie)"
     ],
     "language": "python",
     "metadata": {},
     "outputs": [],
     "prompt_number": 59
    },
    {
     "cell_type": "code",
     "collapsed": false,
     "input": [],
     "language": "python",
     "metadata": {},
     "outputs": []
    }
   ],
   "metadata": {}
  }
 ]
}