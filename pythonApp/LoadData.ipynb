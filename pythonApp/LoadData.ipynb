{
 "metadata": {
  "name": "",
  "signature": "sha256:cd33c1de30b449a337620608547e20d5fac10e1234db363ed41a4057405de7a7"
 },
 "nbformat": 3,
 "nbformat_minor": 0,
 "worksheets": [
  {
   "cells": [
    {
     "cell_type": "code",
     "collapsed": false,
     "input": [
      "import json\n",
      "import urllib\n",
      "import urllib2\n",
      "import requests\n",
      "import csv\n",
      "import sys\n",
      "import difflib\n",
      "import string\n",
      "import time\n",
      "import re\n",
      "\n",
      "from IPython.display import display, clear_output\n",
      "from pymongo import MongoClient\n",
      "from functools import partial"
     ],
     "language": "python",
     "metadata": {},
     "outputs": [],
     "prompt_number": 2
    },
    {
     "cell_type": "heading",
     "level": 2,
     "metadata": {},
     "source": [
      "Utilities"
     ]
    },
    {
     "cell_type": "code",
     "collapsed": false,
     "input": [
      "def readcsv(path):\n",
      "    f = open(path, \"rb\")\n",
      "    rawdata = csv.reader(f, delimiter=\"\\t\")\n",
      "    data = []\n",
      "    keys = rawdata.next()\n",
      "    for row in rawdata:\n",
      "        item = dict()\n",
      "        for i in range(len(keys)):\n",
      "            if len(row) > i:\n",
      "                item[keys[i]] = row[i].decode(\"utf-8\", \"ignore\").strip()\n",
      "            else:\n",
      "                item[keys[i]] = None\n",
      "        data.append(item)\n",
      "    return data"
     ],
     "language": "python",
     "metadata": {},
     "outputs": [],
     "prompt_number": 2
    },
    {
     "cell_type": "heading",
     "level": 2,
     "metadata": {},
     "source": [
      "Download OMDb Data"
     ]
    },
    {
     "cell_type": "markdown",
     "metadata": {},
     "source": [
      "http://www.omdbapi.com"
     ]
    },
    {
     "cell_type": "code",
     "collapsed": false,
     "input": [
      "urllib.urlretrieve(\"http://beforethecode.com/projects/omdb/download.aspx?e=philipp@legner.com&tsv=movies\", \"omdb.zip\")\n",
      "# You have to manually unzip 'omdb.zip'"
     ],
     "language": "python",
     "metadata": {},
     "outputs": [],
     "prompt_number": 3
    },
    {
     "cell_type": "code",
     "collapsed": false,
     "input": [
      "omdbFile = \"omdb0515/omdbMovies.txt\""
     ],
     "language": "python",
     "metadata": {},
     "outputs": [],
     "prompt_number": 4
    },
    {
     "cell_type": "code",
     "collapsed": false,
     "input": [
      "def loadFromOmdb():\n",
      "    return [\n",
      "        dict({\n",
      "            \"Awards\":     m[\"Awards\"] or None,\n",
      "            \"Cast\":       m[\"Awards\"].split(\", \"),\n",
      "            \"Country\":    m[\"Country\"] or None,\n",
      "            \"Directors\":  m[\"Director\"].split(\", \"),\n",
      "            \"FullPlot\":   m[\"FullPlot\"] or None,\n",
      "            \"Genres\":     m[\"Genre\"].split(\", \"),\n",
      "            \"Languages\":  m[\"Language\"].split(\", \"),\n",
      "            \"Metacritic\": int(m[\"Metacritic\"] or 0),\n",
      "            \"Plot\":       m[\"Plot\"] or None,\n",
      "            \"Poster\":     m[\"Poster\"] or None,\n",
      "            \"Rating\":     m[\"Rating\"].replace(\"NOT RATED\", \"\") or None,\n",
      "            \"Released\":   m[\"Released\"] or None,\n",
      "            \"Runtime\":    m[\"Runtime\"] or None,\n",
      "            \"Title\":      m[\"Title\"] or None,\n",
      "            \"Writers\":    m[\"Writer\"].split(\", \"),\n",
      "            \"Year\":       int(m[\"Year\"]),\n",
      "            \"ImdbID\":     m[\"imdbID\"].replace(\"tt\", \"\"),\n",
      "            \"ImdbRating\": float(m[\"imdbRating\"] or 0),\n",
      "            \"ImdbVotes\":  int(m[\"imdbVotes\"] or 0)\n",
      "        })\n",
      "        for m in readcsv(omdbFile)\n",
      "        if m[\"imdbID\"] and m[\"Year\"] and int(m[\"Year\"]) > 1950 and m[\"Poster\"]\n",
      "            and m['imdbVotes'] and int(m['imdbVotes']) > 100\n",
      "    ]"
     ],
     "language": "python",
     "metadata": {},
     "outputs": [],
     "prompt_number": 9
    },
    {
     "cell_type": "code",
     "collapsed": false,
     "input": [
      "omdbMovies = loadFromOmdb()\n",
      "\n",
      "len(omdbMovies)"
     ],
     "language": "python",
     "metadata": {},
     "outputs": [
      {
       "metadata": {},
       "output_type": "pyout",
       "prompt_number": 10,
       "text": [
        "53852"
       ]
      }
     ],
     "prompt_number": 10
    },
    {
     "cell_type": "code",
     "collapsed": false,
     "input": [
      "json.dump(omdbMovies, open('raw_omdb.json', 'w'))"
     ],
     "language": "python",
     "metadata": {},
     "outputs": [],
     "prompt_number": 11
    },
    {
     "cell_type": "code",
     "collapsed": false,
     "input": [
      "omdbMovies = json.load(open('raw_omdb.json', 'r'))"
     ],
     "language": "python",
     "metadata": {},
     "outputs": [],
     "prompt_number": 3
    },
    {
     "cell_type": "heading",
     "level": 2,
     "metadata": {},
     "source": [
      "Download TMDb Data"
     ]
    },
    {
     "cell_type": "code",
     "collapsed": false,
     "input": [
      "import tmdbsimple as tmdb  # pip install tmdbsimple\n",
      "tmdb.API_KEY = '2a50430216cd531275198faae3531bb4'\n",
      "tmdbImages = tmdb.Configuration().info()['images']"
     ],
     "language": "python",
     "metadata": {},
     "outputs": [],
     "prompt_number": 23
    },
    {
     "cell_type": "code",
     "collapsed": false,
     "input": [
      "tmdbMovies = dict({})"
     ],
     "language": "python",
     "metadata": {},
     "outputs": [],
     "prompt_number": 14
    },
    {
     "cell_type": "code",
     "collapsed": false,
     "input": [
      "def loadFromTmdb():\n",
      "    i = 0\n",
      "    for m in omdbMovies:\n",
      "        i += 1\n",
      "   \n",
      "        imdbID = m[\"ImdbID\"]\n",
      "        if (imdbID in tmdbMovies): continue\n",
      "\n",
      "        clear_output(wait=True)\n",
      "        print(i)\n",
      "        sys.stdout.flush()\n",
      "\n",
      "        data = keywords = videos = None\n",
      "        try:\n",
      "            data = tmdb.Movies(\"tt\" + imdbID).info()\n",
      "            keywords = tmdb.Movies(data['id']).keywords()['keywords']\n",
      "            videos = tmdb.Movies(data['id']).videos()['results']\n",
      "            # titles = tmdb.Movies(data['id']).alternative_titles()\n",
      "            # cast = tmdb.Movies(fromTmdb['id']).credits()['cast']\n",
      "            # crew = tmdb.Movies(fromTmdb['id']).credits()['crew']\n",
      "            # images = tmdb.Movies(fromTmdb['id']).images()\n",
      "        except requests.HTTPError as e:\n",
      "            if e.message == '404 Client Error: Not Found':\n",
      "                tmdbMovies[imdbID] = False\n",
      "                continue\n",
      "            else:\n",
      "                print('HTTP Error')\n",
      "                return\n",
      "\n",
      "        tmdbMovies[imdbID] = dict({\n",
      "            \"Adult\":      data[\"adult\"] or None,\n",
      "            \"Backdrop\":   tmdbImages['base_url'] + 'original' + str(data['backdrop_path']) if data[\"backdrop_path\"] else None,\n",
      "            \"Budget\":     data[\"budget\"] or None,\n",
      "            \"Genres\":     [g[\"name\"] for g in data[\"genres\"]],\n",
      "            \"Homepage\":   data[\"homepage\"] or None,\n",
      "            \"Languages\":  [g[\"name\"] for g in data[\"spoken_languages\"]],\n",
      "            \"Tagline\":    data[\"tagline\"] or None,\n",
      "            \"Title\":      data[\"title\"] or None,\n",
      "            \"Poster\":     tmdbImages['base_url'] + 'w185' + data[\"poster_path\"] if data[\"poster_path\"] else None,\n",
      "                          # can use 'original', u'w92', 'w154', 'w185', 'w342', 'w500', 'w780'\n",
      "            \"Studios\":    [g[\"name\"] for g in data[\"production_companies\"]],\n",
      "            \"Overview\":   data[\"overview\"] or None,\n",
      "            \"Popularity\": data[\"popularity\"] or None,\n",
      "            \"Released\":   data[\"release_date\"] or None,\n",
      "            \"Revenue\":    data[\"revenue\"] or None,\n",
      "            \"Runtime\":    data[\"runtime\"] or None,\n",
      "            \"TmdbRating\": data[\"vote_average\"] or None,\n",
      "            \"TmdbVotes\":  data[\"vote_count\"] or None,\n",
      "            \"Keywords\":   [k[\"name\"] for k in keywords],\n",
      "            \"Videos\":     [dict({ \"key\": v[\"key\"], \"type\": v[\"type\"], \"site\": v[\"site\"] }) for v in videos]\n",
      "        });"
     ],
     "language": "python",
     "metadata": {},
     "outputs": [],
     "prompt_number": 15
    },
    {
     "cell_type": "code",
     "collapsed": false,
     "input": [
      "loadFromTmdb()\n",
      "len(tmdbMovies)"
     ],
     "language": "python",
     "metadata": {},
     "outputs": [
      {
       "metadata": {},
       "output_type": "pyout",
       "prompt_number": 17,
       "text": [
        "56764"
       ]
      }
     ],
     "prompt_number": 17
    },
    {
     "cell_type": "code",
     "collapsed": false,
     "input": [
      "json.dump(tmdbMovies, open('raw_tmdb.json', 'w'))"
     ],
     "language": "python",
     "metadata": {},
     "outputs": [],
     "prompt_number": 18
    },
    {
     "cell_type": "code",
     "collapsed": false,
     "input": [
      "tmdbMovies = json.load(open('raw_tmdb.json', 'r'))"
     ],
     "language": "python",
     "metadata": {},
     "outputs": [],
     "prompt_number": 4
    },
    {
     "cell_type": "heading",
     "level": 2,
     "metadata": {},
     "source": [
      "Download Rotten Tomatoes Data"
     ]
    },
    {
     "cell_type": "markdown",
     "metadata": {},
     "source": [
      "http://www.programmableweb.com/news/52-movies-apis-rovi-rotten-tomatoes-and-internet-video-archive/2013/01/22\n",
      "https://pypi.python.org/pypi/rtsimple"
     ]
    },
    {
     "cell_type": "code",
     "collapsed": false,
     "input": [
      "import rtsimple as rt  # pip install rtsimple\n",
      "rt.API_KEY = 'dbbykgj6pbm3wnfrnvhdbdym'"
     ],
     "language": "python",
     "metadata": {},
     "outputs": [],
     "prompt_number": 75
    },
    {
     "cell_type": "code",
     "collapsed": false,
     "input": [
      "rtMovies = dict();"
     ],
     "language": "python",
     "metadata": {},
     "outputs": [],
     "prompt_number": 76
    },
    {
     "cell_type": "code",
     "collapsed": false,
     "input": [
      "def loadFromRt():\n",
      "    i = 0\n",
      "    for m in omdbMovies:\n",
      "        i += 1\n",
      "\n",
      "        imdbID = m[\"ImdbID\"]\n",
      "        if (imdbID in rtMovies): continue\n",
      "        \n",
      "        clear_output(wait=True)\n",
      "        print(i)\n",
      "        sys.stdout.flush()\n",
      "        \n",
      "        print(imdbID)\n",
      "        data = rt.Alias().movie(type='imdb', id=imdbID)\n",
      "        if \"error\" in data:\n",
      "            rtMovies[imdbID] = False\n",
      "            continue\n",
      "        rtID = data['id'];\n",
      "        \n",
      "        # videos = rt.Movies(rtID).clips()['clips']\n",
      "        # reviews = rt.Movies(fromRt['id']).reviews()\n",
      "        # cast = rt.Movies(fromRt['id']).cast()['cast']\n",
      "        \n",
      "        rtMovies[imdbID] = dict({\n",
      "            \"Cast\":        [dict({ \"name\": c[\"name\"], \"character\": c[\"characters\"] if \"characters\" in c else None })\n",
      "                            for c in data[\"abridged_cast\"]],\n",
      "            \"Directors\":   [g[\"name\"] for g in data[\"abridged_directors\"]] if \"abridged_directors\" in data else [],\n",
      "            \"Genres\":      data[\"genres\"] or [],\n",
      "            \"RtID\":        data[\"id\"],\n",
      "            \"Rating\":      data[\"mpaa_rating\"].replace(\"N/A\", \"\") or None,\n",
      "            \"Consensus\":   (data[\"critics_consensus\"] or None) if \"critics_consensus\" in data else None,\n",
      "            \"Posters\":     data[\"posters\"],\n",
      "            \"LinkRt\":      data['links']['alternate'] if 'alternate' in data['links'] else None,\n",
      "\n",
      "            \"RtAudience\":  data[\"ratings\"][\"audience_score\"] if data[\"ratings\"][\"audience_score\"] > 0 else None,\n",
      "            \"RtCritics\":   data[\"ratings\"][\"critics_score\"] if data[\"ratings\"][\"critics_score\"] > 0 else None,\n",
      "\n",
      "            \"ReleasedDVD\": data[\"release_dates\"][\"dvd\"] if \"dvd\" in data[\"release_dates\"] else None,\n",
      "            \"Released\":    data[\"release_dates\"][\"theater\"] if \"theater\" in data[\"release_dates\"] else None,\n",
      "\n",
      "            \"Runtime\":     data[\"runtime\"] or None,\n",
      "            \"Studio\":      data[\"studio\"] if \"studio\" in data else None,\n",
      "            \"Synopsis\":    data[\"synopsis\"] or None,\n",
      "            \"Title\":       data[\"title\"] or None,\n",
      "            \"Year\":        data[\"year\"] or None\n",
      "        });"
     ],
     "language": "python",
     "metadata": {},
     "outputs": [],
     "prompt_number": 80
    },
    {
     "cell_type": "code",
     "collapsed": false,
     "input": [
      "rtMovies['0088199'] = False"
     ],
     "language": "python",
     "metadata": {},
     "outputs": [],
     "prompt_number": 40
    },
    {
     "cell_type": "code",
     "collapsed": false,
     "input": [
      "loadFromRt()\n",
      "len(rtMovies)"
     ],
     "language": "python",
     "metadata": {},
     "outputs": [
      {
       "output_type": "stream",
       "stream": "stdout",
       "text": [
        "42916\n"
       ]
      },
      {
       "output_type": "stream",
       "stream": "stdout",
       "text": [
        "1316577\n"
       ]
      },
      {
       "ename": "HTTPError",
       "evalue": "403 Client Error: Forbidden",
       "output_type": "pyerr",
       "traceback": [
        "\u001b[0;31m---------------------------------------------------------------------------\u001b[0m\n\u001b[0;31mHTTPError\u001b[0m                                 Traceback (most recent call last)",
        "\u001b[0;32m<ipython-input-86-8cd92f3e77ef>\u001b[0m in \u001b[0;36m<module>\u001b[0;34m()\u001b[0m\n\u001b[0;32m----> 1\u001b[0;31m \u001b[0mloadFromRt\u001b[0m\u001b[0;34m(\u001b[0m\u001b[0;34m)\u001b[0m\u001b[0;34m\u001b[0m\u001b[0m\n\u001b[0m\u001b[1;32m      2\u001b[0m \u001b[0mlen\u001b[0m\u001b[0;34m(\u001b[0m\u001b[0mrtMovies\u001b[0m\u001b[0;34m)\u001b[0m\u001b[0;34m\u001b[0m\u001b[0m\n",
        "\u001b[0;32m<ipython-input-80-d369f8a7e363>\u001b[0m in \u001b[0;36mloadFromRt\u001b[0;34m()\u001b[0m\n\u001b[1;32m     12\u001b[0m \u001b[0;34m\u001b[0m\u001b[0m\n\u001b[1;32m     13\u001b[0m         \u001b[0;32mprint\u001b[0m\u001b[0;34m(\u001b[0m\u001b[0mimdbID\u001b[0m\u001b[0;34m)\u001b[0m\u001b[0;34m\u001b[0m\u001b[0m\n\u001b[0;32m---> 14\u001b[0;31m         \u001b[0mdata\u001b[0m \u001b[0;34m=\u001b[0m \u001b[0mrt\u001b[0m\u001b[0;34m.\u001b[0m\u001b[0mAlias\u001b[0m\u001b[0;34m(\u001b[0m\u001b[0;34m)\u001b[0m\u001b[0;34m.\u001b[0m\u001b[0mmovie\u001b[0m\u001b[0;34m(\u001b[0m\u001b[0mtype\u001b[0m\u001b[0;34m=\u001b[0m\u001b[0;34m'imdb'\u001b[0m\u001b[0;34m,\u001b[0m \u001b[0mid\u001b[0m\u001b[0;34m=\u001b[0m\u001b[0mimdbID\u001b[0m\u001b[0;34m)\u001b[0m\u001b[0;34m\u001b[0m\u001b[0m\n\u001b[0m\u001b[1;32m     15\u001b[0m         \u001b[0;32mif\u001b[0m \u001b[0;34m\"error\"\u001b[0m \u001b[0;32min\u001b[0m \u001b[0mdata\u001b[0m\u001b[0;34m:\u001b[0m\u001b[0;34m\u001b[0m\u001b[0m\n\u001b[1;32m     16\u001b[0m             \u001b[0mrtMovies\u001b[0m\u001b[0;34m[\u001b[0m\u001b[0mimdbID\u001b[0m\u001b[0;34m]\u001b[0m \u001b[0;34m=\u001b[0m \u001b[0mFalse\u001b[0m\u001b[0;34m\u001b[0m\u001b[0m\n",
        "\u001b[0;32m/Library/Python/2.7/site-packages/rtsimple/alias.pyc\u001b[0m in \u001b[0;36mmovie\u001b[0;34m(self, **kwargs)\u001b[0m\n\u001b[1;32m     34\u001b[0m         \u001b[0mpath\u001b[0m \u001b[0;34m=\u001b[0m \u001b[0mself\u001b[0m\u001b[0;34m.\u001b[0m\u001b[0m_get_path\u001b[0m\u001b[0;34m(\u001b[0m\u001b[0;34m'movie'\u001b[0m\u001b[0;34m)\u001b[0m\u001b[0;34m\u001b[0m\u001b[0m\n\u001b[1;32m     35\u001b[0m \u001b[0;34m\u001b[0m\u001b[0m\n\u001b[0;32m---> 36\u001b[0;31m         \u001b[0mresponse\u001b[0m \u001b[0;34m=\u001b[0m \u001b[0mself\u001b[0m\u001b[0;34m.\u001b[0m\u001b[0m_GET\u001b[0m\u001b[0;34m(\u001b[0m\u001b[0mpath\u001b[0m\u001b[0;34m,\u001b[0m \u001b[0mkwargs\u001b[0m\u001b[0;34m)\u001b[0m\u001b[0;34m\u001b[0m\u001b[0m\n\u001b[0m\u001b[1;32m     37\u001b[0m         \u001b[0mself\u001b[0m\u001b[0;34m.\u001b[0m\u001b[0m_set_attrs_to_values\u001b[0m\u001b[0;34m(\u001b[0m\u001b[0mresponse\u001b[0m\u001b[0;34m)\u001b[0m\u001b[0;34m\u001b[0m\u001b[0m\n\u001b[1;32m     38\u001b[0m         \u001b[0;32mreturn\u001b[0m \u001b[0mresponse\u001b[0m\u001b[0;34m\u001b[0m\u001b[0m\n",
        "\u001b[0;32m/Library/Python/2.7/site-packages/rtsimple/base.pyc\u001b[0m in \u001b[0;36m_GET\u001b[0;34m(self, path, params)\u001b[0m\n\u001b[1;32m     63\u001b[0m \u001b[0;34m\u001b[0m\u001b[0m\n\u001b[1;32m     64\u001b[0m     \u001b[0;32mdef\u001b[0m \u001b[0m_GET\u001b[0m\u001b[0;34m(\u001b[0m\u001b[0mself\u001b[0m\u001b[0;34m,\u001b[0m \u001b[0mpath\u001b[0m\u001b[0;34m,\u001b[0m \u001b[0mparams\u001b[0m\u001b[0;34m=\u001b[0m\u001b[0mNone\u001b[0m\u001b[0;34m)\u001b[0m\u001b[0;34m:\u001b[0m\u001b[0;34m\u001b[0m\u001b[0m\n\u001b[0;32m---> 65\u001b[0;31m         \u001b[0;32mreturn\u001b[0m \u001b[0mself\u001b[0m\u001b[0;34m.\u001b[0m\u001b[0m_request\u001b[0m\u001b[0;34m(\u001b[0m\u001b[0;34m'GET'\u001b[0m\u001b[0;34m,\u001b[0m \u001b[0mpath\u001b[0m\u001b[0;34m,\u001b[0m \u001b[0mparams\u001b[0m\u001b[0;34m=\u001b[0m\u001b[0mparams\u001b[0m\u001b[0;34m)\u001b[0m\u001b[0;34m\u001b[0m\u001b[0m\n\u001b[0m\u001b[1;32m     66\u001b[0m \u001b[0;34m\u001b[0m\u001b[0m\n\u001b[1;32m     67\u001b[0m     \u001b[0;32mdef\u001b[0m \u001b[0m_set_attrs_to_values\u001b[0m\u001b[0;34m(\u001b[0m\u001b[0mself\u001b[0m\u001b[0;34m,\u001b[0m \u001b[0mresponse\u001b[0m\u001b[0;34m=\u001b[0m\u001b[0;34m{\u001b[0m\u001b[0;34m}\u001b[0m\u001b[0;34m)\u001b[0m\u001b[0;34m:\u001b[0m\u001b[0;34m\u001b[0m\u001b[0m\n",
        "\u001b[0;32m/Library/Python/2.7/site-packages/rtsimple/base.pyc\u001b[0m in \u001b[0;36m_request\u001b[0;34m(self, method, path, params, payload)\u001b[0m\n\u001b[1;32m     58\u001b[0m                                     headers=self.headers)\n\u001b[1;32m     59\u001b[0m \u001b[0;34m\u001b[0m\u001b[0m\n\u001b[0;32m---> 60\u001b[0;31m         \u001b[0mresponse\u001b[0m\u001b[0;34m.\u001b[0m\u001b[0mraise_for_status\u001b[0m\u001b[0;34m(\u001b[0m\u001b[0;34m)\u001b[0m\u001b[0;34m\u001b[0m\u001b[0m\n\u001b[0m\u001b[1;32m     61\u001b[0m         \u001b[0mresponse\u001b[0m\u001b[0;34m.\u001b[0m\u001b[0mencoding\u001b[0m \u001b[0;34m=\u001b[0m \u001b[0;34m'utf-8'\u001b[0m\u001b[0;34m\u001b[0m\u001b[0m\n\u001b[1;32m     62\u001b[0m         \u001b[0;32mreturn\u001b[0m \u001b[0mresponse\u001b[0m\u001b[0;34m.\u001b[0m\u001b[0mjson\u001b[0m\u001b[0;34m(\u001b[0m\u001b[0;34m)\u001b[0m\u001b[0;34m\u001b[0m\u001b[0m\n",
        "\u001b[0;32m/Library/Python/2.7/site-packages/requests/models.pyc\u001b[0m in \u001b[0;36mraise_for_status\u001b[0;34m(self)\u001b[0m\n\u001b[1;32m    827\u001b[0m \u001b[0;34m\u001b[0m\u001b[0m\n\u001b[1;32m    828\u001b[0m         \u001b[0;32mif\u001b[0m \u001b[0mhttp_error_msg\u001b[0m\u001b[0;34m:\u001b[0m\u001b[0;34m\u001b[0m\u001b[0m\n\u001b[0;32m--> 829\u001b[0;31m             \u001b[0;32mraise\u001b[0m \u001b[0mHTTPError\u001b[0m\u001b[0;34m(\u001b[0m\u001b[0mhttp_error_msg\u001b[0m\u001b[0;34m,\u001b[0m \u001b[0mresponse\u001b[0m\u001b[0;34m=\u001b[0m\u001b[0mself\u001b[0m\u001b[0;34m)\u001b[0m\u001b[0;34m\u001b[0m\u001b[0m\n\u001b[0m\u001b[1;32m    830\u001b[0m \u001b[0;34m\u001b[0m\u001b[0m\n\u001b[1;32m    831\u001b[0m     \u001b[0;32mdef\u001b[0m \u001b[0mclose\u001b[0m\u001b[0;34m(\u001b[0m\u001b[0mself\u001b[0m\u001b[0;34m)\u001b[0m\u001b[0;34m:\u001b[0m\u001b[0;34m\u001b[0m\u001b[0m\n",
        "\u001b[0;31mHTTPError\u001b[0m: 403 Client Error: Forbidden"
       ]
      }
     ],
     "prompt_number": 86
    },
    {
     "cell_type": "code",
     "collapsed": false,
     "input": [
      "json.dump(rtMovies, open('raw_rt.json', 'w'))"
     ],
     "language": "python",
     "metadata": {},
     "outputs": [],
     "prompt_number": 50
    },
    {
     "cell_type": "code",
     "collapsed": false,
     "input": [
      "rtMovies = json.load(open('raw_rt.json', 'r'))"
     ],
     "language": "python",
     "metadata": {},
     "outputs": [],
     "prompt_number": 79
    },
    {
     "cell_type": "heading",
     "level": 2,
     "metadata": {},
     "source": [
      "Download Netflix and Hulu Data"
     ]
    },
    {
     "cell_type": "code",
     "collapsed": false,
     "input": [
      "netflixUrl = {\n",
      "    'us': 'http://www.allflicks.net/wp-content/themes/responsive/processing/processing_us.php',\n",
      "    'uk': 'http://www.allflicks.net/wp-content/themes/responsive/processing/processing_uk.php',\n",
      "    'fr': 'http://www.allflicks.fr/wp-content/themes/responsive/processing/processing.php',\n",
      "    'de': 'http://www.allflicks.de/wp-content/themes/responsive/processing/processing.php',\n",
      "    'ca': 'http://www.allflicks.net/wp-content/themes/responsive/processing/processing_ca.php',\n",
      "    'au': 'http://au.allflicks.net/wp-content/themes/responsive/processing/processing_au.php',\n",
      "    'nz': 'http://nz.allflicks.net/wp-content/themes/responsive/processing/processing_nz.php',\n",
      "    'hulu': 'http://somethingtostream.com/hulu/wp-content/themes/responsive/processing/processing_movies.php'\n",
      "}\n",
      "    \n",
      "netflixDetail = {\n",
      "    'us': 'http://www.allflicks.net/movies/',\n",
      "    'uk': 'http://www.allflicks.net/movies-uk/',\n",
      "    'fr': 'http://www.allflicks.fr/film/',\n",
      "    'de': 'http://www.allflicks.de/film/',\n",
      "    'ca': 'http://www.allflicks.net/movies-canada/',\n",
      "    'au': 'http://au.allflicks.net/movies/',\n",
      "    'nz': 'http://nz.allflicks.net/movies/',\n",
      "    'hulu': 'http://somethingtostream.com/hulu/movie/'\n",
      "}\n",
      "\n",
      "netflixCountries = ['us', 'uk', 'fr', 'de', 'ca', 'au', 'nz', 'hulu']"
     ],
     "language": "python",
     "metadata": {},
     "outputs": [],
     "prompt_number": 58
    },
    {
     "cell_type": "code",
     "collapsed": false,
     "input": [
      "netflixMovies = dict();"
     ],
     "language": "python",
     "metadata": {},
     "outputs": [],
     "prompt_number": 59
    },
    {
     "cell_type": "code",
     "collapsed": false,
     "input": [
      "def loadNetflixForCountry(country):\n",
      "    response = urllib2.urlopen(netflixUrl[country] + \"?shows=false&movies=true&length=1&start=0\")\n",
      "    length = json.load(response)['recordsTotal']\n",
      "    response = urllib2.urlopen(netflixUrl[country] + \"?shows=false&movies=true&length=\" + str(length+1) + \"&start=0\")\n",
      "    return json.load(response)['data']\n",
      "\n",
      "def addNetflixMovie(cache, country, movie):\n",
      "    if movie['id'] in cache:\n",
      "        cache[movie['id']]['Countries'].append(country)\n",
      "    else:\n",
      "        cache[movie['id']] = dict({\n",
      "            'Title': movie['title'],\n",
      "            'Year': int(movie['year'].replace('-','0') or 0) or None,\n",
      "            'Countries': [country]\n",
      "        })\n",
      "\n",
      "def getImdbIdForNetflix(allflixID, movie, omdbTitleCache):\n",
      "    \n",
      "    # title and year match\n",
      "    title = re.sub('[^A-Za-z0-9\\s]+', '', movie['Title']).lower()\n",
      "    if title in omdbTitleCache:\n",
      "        canidates = [x for x in omdbTitleCache[title] if x['Year'] == movie['Year']]\n",
      "        if len(canidates) == 1:\n",
      "            return canidates[0]['ImdbID']\n",
      "    \n",
      "    # tmdb lookup\n",
      "    return None\n",
      "    tmdb.Search().movie(query = movie['title'])\n",
      "    \n",
      "    # allflicks lookup\n",
      "    html = urllib2.urlopen(netflixDetail[movie['Countries'][0]] + str(allflixID)).read()\n",
      "    start = string.find(html, 'imdb')\n",
      "    if start >= 0:\n",
      "        html = html[start+15:]\n",
      "        return html[:string.find(html, '/')]\n",
      "            \n",
      "    return None"
     ],
     "language": "python",
     "metadata": {},
     "outputs": [],
     "prompt_number": 76
    },
    {
     "cell_type": "code",
     "collapsed": false,
     "input": [
      "def loadFromNetflix():\n",
      "    netflixIdCache = dict({});\n",
      "    omdbTitleCache = dict({});\n",
      "\n",
      "    for c in netflixCountries:\n",
      "        movies = loadNetflixForCountry(c);\n",
      "        for m in movies:\n",
      "            addNetflixMovie(netflixIdCache, c, m)\n",
      "\n",
      "    for m in omdbMovies:\n",
      "        title = re.sub('[^A-Za-z0-9\\s]+', '', m['Title']).lower()\n",
      "        if (title not in omdbTitleCache): omdbTitleCache[title] = [];\n",
      "        omdbTitleCache[title].append(m);\n",
      "\n",
      "    for m in netflixIdCache:\n",
      "        imdb = getImdbIdForNetflix(m, netflixIdCache[m], omdbTitleCache)\n",
      "        if imdb: netflixMovies[imdb] = netflixIdCache[m]"
     ],
     "language": "python",
     "metadata": {},
     "outputs": [],
     "prompt_number": 66
    },
    {
     "cell_type": "code",
     "collapsed": false,
     "input": [
      "loadFromNetflix()\n",
      "len(netflixMovies)"
     ],
     "language": "python",
     "metadata": {},
     "outputs": [
      {
       "metadata": {},
       "output_type": "pyout",
       "prompt_number": 77,
       "text": [
        "8037"
       ]
      }
     ],
     "prompt_number": 77
    },
    {
     "cell_type": "code",
     "collapsed": false,
     "input": [
      "json.dump(netflixMovies, open('raw_netflix.json', 'w'))"
     ],
     "language": "python",
     "metadata": {},
     "outputs": [],
     "prompt_number": 78
    },
    {
     "cell_type": "code",
     "collapsed": false,
     "input": [
      "netflixMovies = json.load(open('raw_netflix.json', 'r'))"
     ],
     "language": "python",
     "metadata": {},
     "outputs": [],
     "prompt_number": 79
    },
    {
     "cell_type": "heading",
     "level": 2,
     "metadata": {},
     "source": [
      "Download Amazon Instant Video Data"
     ]
    },
    {
     "cell_type": "code",
     "collapsed": false,
     "input": [],
     "language": "python",
     "metadata": {},
     "outputs": []
    },
    {
     "cell_type": "code",
     "collapsed": false,
     "input": [],
     "language": "python",
     "metadata": {},
     "outputs": []
    },
    {
     "cell_type": "heading",
     "level": 2,
     "metadata": {},
     "source": [
      "Combine Movie Data"
     ]
    },
    {
     "cell_type": "code",
     "collapsed": false,
     "input": [
      "def formatMovie(imdbID, fromOmdb, fromRt, fromTmdb):\n",
      "    result = dict()\n",
      "    \n",
      "    result['title'] = fromTmdb['Title']\n",
      "    result['plot'] = fromTmdb['Overview'] or fromOmdb['Plot'] or fromRt['Synopsis']\n",
      "    result['keywords'] = fromTmdb['Keywords']\n",
      "    result['runtime'] = fromTmdb['Runtime'] or fromRt['Runtime']\n",
      "    result['budget'] = fromTmdb['Budget']\n",
      "    result['revenue'] = fromTmdb['Revenue']\n",
      "    result['tagline'] = fromTmdb['Tagline']\n",
      "    result['year'] = fromRt['Year']\n",
      "    result['released'] = fromTmdb['Released']\n",
      "    result['languages'] = fromTmdb['Languages']\n",
      "    result['country'] = fromOmdb['Country']\n",
      "    fromTmdb['Studios'].append(None)\n",
      "    result['studio'] = fromRt['Studio'] or fromTmdb['Studios'][0]  # TODO\n",
      "    result['cast'] = fromOmdb['Cast'] or fromOmdb['Cast']\n",
      "    result['directors'] = fromOmdb['Directors'] or fromOmdb['Directors']\n",
      "    result['homepage'] = fromTmdb['Homepage']\n",
      "    \n",
      "    result['awards'] = fromOmdb['Awards']\n",
      "    result['rating'] = fromRt['Rating'] or fromOmdb['Rating']\n",
      "\n",
      "    result['score_rtaudience'] = fromRt['RtAudience']\n",
      "    result['score_rtcritics'] = fromRt['RtCritics']\n",
      "    result['score_metacritic'] = fromOmdb['Metacritic']\n",
      "    result['score_imdb'] = fromOmdb['ImdbRating']\n",
      "    result['votes_imdb'] = fromOmdb['ImdbVotes']\n",
      "    result['score'] = (fromRt['RtCritics'] or 0) + (fromRt['RtAudience'] or 0) + (fromOmdb['ImdbRating'] or 0)*10\n",
      "\n",
      "    result['poster'] = fromOmdb['Poster'] or fromTmdb['Poster']\n",
      "    result['background'] = fromTmdb['Backdrop']\n",
      "\n",
      "    result['link_rt'] = fromRt['LinkRt']\n",
      "    result['link_imdb'] = 'tt' + imdbID\n",
      "\n",
      "    # Genres\n",
      "    genres = set(fromTmdb['Genres'])\n",
      "    if 'Kids' in genres:\n",
      "        genres.remove('Kids')\n",
      "        genres.add('Family')\n",
      "    if 'TV Movie' in genres:\n",
      "        genres.remove('TV Movie')\n",
      "    result['genres'] = list(genres)\n",
      "\n",
      "    # Trailer\n",
      "    trailers = [a for a in fromTmdb['Videos'] if a['type'] == 'Trailer']\n",
      "    if len(trailers) and trailers[-1]['site'] == 'YouTube':\n",
      "        result['trailer_youtube'] = trailers[-1]['key']\n",
      "    else :\n",
      "        result['trailer_youtube'] = None\n",
      "\n",
      "    # Search String\n",
      "    result['search_str'] = (result['title'] + ' ' + ' '.join(result['cast']) + ' '.join(result['directors']) + ' '.join(result['keywords'])).lower()\n",
      "        \n",
      "    # Streaming\n",
      "    result['streaming'] = dict()\n",
      "    \n",
      "    return result"
     ],
     "language": "python",
     "metadata": {},
     "outputs": [],
     "prompt_number": 42
    },
    {
     "cell_type": "code",
     "collapsed": false,
     "input": [
      "movies = []\n",
      "for m in omdbMovies:\n",
      "    imdbID = m['ImdbID']\n",
      "    if imdbID in tmdbMovies and imdbID in rtMovies and tmdbMovies[imdbID] and rtMovies[imdbID]:\n",
      "        movies.append(formatMovie(imdbID, m, rtMovies[imdbID], tmdbMovies[imdbID]))\n",
      "len(movies)"
     ],
     "language": "python",
     "metadata": {},
     "outputs": [
      {
       "metadata": {},
       "output_type": "pyout",
       "prompt_number": 82,
       "text": [
        "33830"
       ]
      }
     ],
     "prompt_number": 82
    },
    {
     "cell_type": "code",
     "collapsed": false,
     "input": [
      "json.dump(movies, open('../meteorApp/private/movie_data.json', 'w'))"
     ],
     "language": "python",
     "metadata": {},
     "outputs": [],
     "prompt_number": 83
    },
    {
     "cell_type": "code",
     "collapsed": false,
     "input": [
      "# Don't run this, use Meteor instead!\n",
      "uri = 'mongodb://localhost/appdb'\n",
      "client = MongoClient(uri)\n",
      "client.appdb.movies.remove()\n",
      "for movie in movies:\n",
      "    client.appdb.movies.insert(movie)"
     ],
     "language": "python",
     "metadata": {},
     "outputs": [],
     "prompt_number": 59
    },
    {
     "cell_type": "code",
     "collapsed": false,
     "input": [],
     "language": "python",
     "metadata": {},
     "outputs": []
    }
   ],
   "metadata": {}
  }
 ]
}