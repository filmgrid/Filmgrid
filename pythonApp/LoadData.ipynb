{
 "cells": [
  {
   "cell_type": "code",
   "execution_count": 1,
   "metadata": {
    "collapsed": false
   },
   "outputs": [],
   "source": [
    "import json\n",
    "import urllib\n",
    "import urllib2\n",
    "import requests\n",
    "import zipfile\n",
    "import csv\n",
    "import sys\n",
    "import difflib\n",
    "import string\n",
    "import time\n",
    "import re\n",
    "import tmdbsimple as tmdb  # pip install tmdbsimple\n",
    "import rtsimple as rt  # pip install rtsimple\n",
    "\n",
    "from IPython.display import display, clear_output\n",
    "from pymongo import MongoClient\n",
    "from functools import partial"
   ]
  },
  {
   "cell_type": "markdown",
   "metadata": {},
   "source": [
    "## Utilities"
   ]
  },
  {
   "cell_type": "code",
   "execution_count": 2,
   "metadata": {
    "collapsed": false
   },
   "outputs": [],
   "source": [
    "def readcsv(path):\n",
    "    f = open(path, \"rb\")\n",
    "    rawdata = csv.reader(f, delimiter=\"\\t\")\n",
    "    data = []\n",
    "    keys = rawdata.next()\n",
    "    for row in rawdata:\n",
    "        item = dict()\n",
    "        for i in range(len(keys)):\n",
    "            if len(row) > i:\n",
    "                item[keys[i]] = row[i].decode(\"utf-8\", \"ignore\").strip()\n",
    "            else:\n",
    "                item[keys[i]] = None\n",
    "        data.append(item)\n",
    "    return data"
   ]
  },
  {
   "cell_type": "markdown",
   "metadata": {},
   "source": [
    "## Constants"
   ]
  },
  {
   "cell_type": "code",
   "execution_count": 3,
   "metadata": {
    "collapsed": false
   },
   "outputs": [],
   "source": [
    "omdbFile     = \"omdb/omdbMovies.txt\"\n",
    "rawOmdbFile  = \"raw_omdb.json\"\n",
    "rawTmdbFile  = \"raw_tmdb.json\"\n",
    "rawRtFile    = \"raw_rt.json\"\n",
    "movieFile    = \"movie_data.json\"\n",
    "meteorPath   = \"../meteorApp/private/movie_data.json\"\n",
    "uri          = 'mongodb://localhost/appdb'\n",
    "\n",
    "tmdb.API_KEY = '2a50430216cd531275198faae3531bb4'\n",
    "tmdbImages = tmdb.Configuration().info()['images']\n",
    "rt.API_KEY = 'dbbykgj6pbm3wnfrnvhdbdym'"
   ]
  },
  {
   "cell_type": "markdown",
   "metadata": {},
   "source": [
    "## Run update"
   ]
  },
  {
   "cell_type": "code",
   "execution_count": null,
   "metadata": {
    "collapsed": false
   },
   "outputs": [
    {
     "name": "stdout",
     "output_type": "stream",
     "text": [
      "Downloading the movies from OMDB...\n",
      "OMDB movies downloaded and extracted to omdb/omdbMovies.txt.\n",
      "Loading and filtering the movies from OMDB...\n",
      "(55339, 'Movies loaded from OMDB.')\n",
      "Saving the OMDB filtered movies to raw_omdb.json ...\n",
      "OMDB movies saved.\n",
      "Loading TMDB movies, hardReset:0 ...\n",
      "(58327, ' movies loaded from TMDB.')\n",
      "Saving the TMDB movies to raw_tmdb.json ...\n",
      "TMDB Movies saved.\n",
      "Loading Rotten Tomatoes movies, hardReset:0 ...\n",
      "Rotten Tomatoes 0043666\n",
      "success\n",
      "Rotten Tomatoes 0044036\n",
      "error\n",
      "Rotten Tomatoes 0044155\n",
      "success\n",
      "Rotten Tomatoes 0044755\n",
      "error\n",
      "Rotten Tomatoes 0044963\n",
      "error\n",
      "Rotten Tomatoes 0045331\n",
      "error\n",
      "Rotten Tomatoes 0045498\n",
      "success\n",
      "Rotten Tomatoes 0045763\n",
      "success\n",
      "Rotten Tomatoes 0046057\n",
      "success\n",
      "Rotten Tomatoes 0046194\n",
      "success\n",
      "Rotten Tomatoes 0046443\n",
      "error\n",
      "Rotten Tomatoes 0046728\n",
      "success\n",
      "Rotten Tomatoes 0046942\n",
      "success\n",
      "Rotten Tomatoes 0047192\n",
      "success\n",
      "Rotten Tomatoes 0044963\n",
      "error\n",
      "Rotten Tomatoes 0047325\n",
      "error\n",
      "Rotten Tomatoes 0047467\n",
      "success\n",
      "Rotten Tomatoes 0048047\n",
      "error\n",
      "Rotten Tomatoes 0048341\n",
      "error\n",
      "Rotten Tomatoes 0048623\n",
      "error\n",
      "Rotten Tomatoes 0048814\n",
      "success\n",
      "Rotten Tomatoes 0049011\n",
      "error\n",
      "Rotten Tomatoes 0049084\n",
      "success\n",
      "Rotten Tomatoes 0049283\n",
      "success\n",
      "Rotten Tomatoes 0049376\n",
      "error\n",
      "Rotten Tomatoes 0049635\n",
      "success\n",
      "Rotten Tomatoes 0049748\n"
     ]
    }
   ],
   "source": [
    "loadData(0)"
   ]
  },
  {
   "cell_type": "markdown",
   "metadata": {},
   "source": [
    "## Load Existing Data"
   ]
  },
  {
   "cell_type": "code",
   "execution_count": 27,
   "metadata": {
    "collapsed": false
   },
   "outputs": [],
   "source": [
    "# We first get the latest data from OMDb\n",
    "def loadData(hardReset):\n",
    "\n",
    "    fromOmdb = json.load(open(rawOmdbFile, 'r'))\n",
    "    \n",
    "    # OMDB\n",
    "    print(\"Downloading the movies from OMDB...\")\n",
    "    #downloadOmdbData()\n",
    "    print(\"OMDB movies downloaded and extracted to \"+omdbFile+\".\")\n",
    "    print(\"Loading and filtering the movies from OMDB...\")\n",
    "    #fromOmdb = loadFromOmdb(omdbFile)\n",
    "    print(len(fromOmdb), \"Movies loaded from OMDB.\")\n",
    "    print(\"Saving the OMDB filtered movies to \"+rawOmdbFile+\" ...\")\n",
    "    #saveOmdb(fromOmdb, rawOmdbFile)\n",
    "    print(\"OMDB movies saved.\")\n",
    "\n",
    "    # Tmdb\n",
    "    print(\"Loading TMDB movies, hardReset:\"+str(hardReset)+\" ...\")\n",
    "    fromTmdb = loadFromTmdb(rawTmdbFile, hardReset, fromOmdb)\n",
    "    print(len(fromTmdb), \" movies loaded from TMDB.\")\n",
    "    print(\"Saving the TMDB movies to \"+rawTmdbFile+\" ...\")\n",
    "    saveTmdb(fromTmdb, rawTmdbFile)\n",
    "    print(\"TMDB Movies saved.\")\n",
    "\n",
    "    # Rt\n",
    "    print(\"Loading Rotten Tomatoes movies, hardReset:\"+str(hardReset)+\" ...\")\n",
    "    fromRt = loadFromRt(rawRtFile, hardReset, fromOmdb)\n",
    "    print(len(fromRt), \" movies loaded from Rotten Tomatoes.\")\n",
    "    print(\"Saving the Rotten Tomatoes movies to \"+rawRtFile+\" ...\")\n",
    "    saveRt(fromRt, rawRtFile)\n",
    "    print(\"Rotten Tomatoes movies saved.\")\n",
    "    \n",
    "    # Netflix\n",
    "    \n",
    "    # Amazon\n",
    "\n",
    "    # Saving and updating the movies\n",
    "    print(\"Combining data from OMDB, TMDB, RT...\")\n",
    "    movies = sanitize(fromOmdb, fromTmdb, fromRt)\n",
    "    print(len(movies),\" movies combined.\")\n",
    "    print(\"Saving movies to \"+movieFile+\" and \"+meteorPath+\" ...\")\n",
    "    saveMovies(movies, movieFile, meteorPath)\n",
    "    print(\"Movies saved.\")\n",
    "    print(\"Updating the mongo db with the latest information...\")\n",
    "    updateMovies(movies)\n",
    "    print(\"Mongodb updated.\")\n"
   ]
  },
  {
   "cell_type": "markdown",
   "metadata": {},
   "source": [
    "##  OMDb Data"
   ]
  },
  {
   "cell_type": "markdown",
   "metadata": {},
   "source": [
    "http://www.omdbapi.com"
   ]
  },
  {
   "cell_type": "code",
   "execution_count": 23,
   "metadata": {
    "collapsed": false
   },
   "outputs": [],
   "source": [
    "def downloadOmdbData():\n",
    "    urllib.urlretrieve(\"http://beforethecode.com/projects/omdb/download.aspx?e=philipp@legner.com&tsv=movies\", \"omdb.zip\")\n",
    "    with zipfile.ZipFile('omdb.zip', \"r\") as z:\n",
    "        z.extractall(\"omdb\")\n",
    "\n",
    "def loadFromOmdb(omdbFile):\n",
    "    return [\n",
    "        dict({\n",
    "            \"Awards\":     m[\"Awards\"] or None,\n",
    "            \"Cast\":       m[\"Awards\"].split(\", \"),\n",
    "            \"Country\":    m[\"Country\"] or None,\n",
    "            \"Directors\":  m[\"Director\"].split(\", \"),\n",
    "            \"FullPlot\":   m[\"FullPlot\"] or None,\n",
    "            \"Genres\":     m[\"Genre\"].split(\", \"),\n",
    "            \"Languages\":  m[\"Language\"].split(\", \"),\n",
    "            \"Metacritic\": int(m[\"Metacritic\"] or 0),\n",
    "            \"Plot\":       m[\"Plot\"] or None,\n",
    "            \"Poster\":     m[\"Poster\"] or None,\n",
    "            \"Rating\":     m[\"Rating\"].replace(\"NOT RATED\", \"\") or None,\n",
    "            \"Released\":   m[\"Released\"] or None,\n",
    "            \"Runtime\":    m[\"Runtime\"] or None,\n",
    "            \"Title\":      m[\"Title\"] or None,\n",
    "            \"Writers\":    m[\"Writer\"].split(\", \"),\n",
    "            \"Year\":       int(m[\"Year\"]),\n",
    "            \"ImdbID\":     m[\"imdbID\"].replace(\"tt\", \"\"),\n",
    "            \"ImdbRating\": float(m[\"imdbRating\"] or 0),\n",
    "            \"ImdbVotes\":  int(m[\"imdbVotes\"] or 0)\n",
    "        })\n",
    "        for m in readcsv(omdbFile)\n",
    "        if m[\"imdbID\"] and m[\"Year\"] and int(m[\"Year\"]) > 1950 and m[\"Poster\"]\n",
    "            and m['imdbVotes'] and int(m['imdbVotes']) > 100\n",
    "    ]\n",
    "\n",
    "def saveOmdb(fromOmdb, filePath):\n",
    "    json.dump(fromOmdb, open(filePath, 'w'), indent=1)\n",
    "    "
   ]
  },
  {
   "cell_type": "markdown",
   "metadata": {},
   "source": [
    "##  TMDb Data"
   ]
  },
  {
   "cell_type": "code",
   "execution_count": 24,
   "metadata": {
    "collapsed": false
   },
   "outputs": [],
   "source": [
    "def loadFromTmdb(filePath, hardReset, omdbMovies):\n",
    "    \n",
    "    if not hardReset:\n",
    "        tmdbMovies = json.load(open(filePath, 'r'))\n",
    "    else:\n",
    "        tmdbMovies = dict()\n",
    "        \n",
    "    \n",
    "    i = 0\n",
    "    for m in omdbMovies:\n",
    "        i += 1\n",
    "   \n",
    "        imdbID = m[\"ImdbID\"]\n",
    "        if (imdbID in tmdbMovies): continue\n",
    "\n",
    "        print(\"tmdb\" + str(i))\n",
    "        sys.stdout.flush()\n",
    "\n",
    "        data = keywords = videos = None\n",
    "        try:\n",
    "            data = tmdb.Movies(\"tt\" + imdbID).info()\n",
    "            keywords = tmdb.Movies(data['id']).keywords()['keywords']\n",
    "            videos = tmdb.Movies(data['id']).videos()['results']\n",
    "            # titles = tmdb.Movies(data['id']).alternative_titles()\n",
    "            # cast = tmdb.Movies(fromTmdb['id']).credits()['cast']\n",
    "            # crew = tmdb.Movies(fromTmdb['id']).credits()['crew']\n",
    "            # images = tmdb.Movies(fromTmdb['id']).images()\n",
    "        except requests.HTTPError as e:\n",
    "            if e.message == '404 Client Error: Not Found':\n",
    "                tmdbMovies[imdbID] = False\n",
    "                continue\n",
    "            else:\n",
    "                print('HTTP Error')\n",
    "                return\n",
    "\n",
    "        tmdbMovies[imdbID] = dict({\n",
    "            \"Adult\":      data[\"adult\"] or None,\n",
    "            \"Backdrop\":   tmdbImages['base_url'] + 'original' + str(data['backdrop_path']) if data[\"backdrop_path\"] else None,\n",
    "            \"Budget\":     data[\"budget\"] or None,\n",
    "            \"Genres\":     [g[\"name\"] for g in data[\"genres\"]],\n",
    "            \"Homepage\":   data[\"homepage\"] or None,\n",
    "            \"Languages\":  [g[\"name\"] for g in data[\"spoken_languages\"]],\n",
    "            \"Tagline\":    data[\"tagline\"] or None,\n",
    "            \"Title\":      data[\"title\"] or None,\n",
    "            \"Poster\":     tmdbImages['base_url'] + 'w185' + data[\"poster_path\"] if data[\"poster_path\"] else None,\n",
    "                          # can use 'original', u'w92', 'w154', 'w185', 'w342', 'w500', 'w780'\n",
    "            \"Studios\":    [g[\"name\"] for g in data[\"production_companies\"]],\n",
    "            \"Overview\":   data[\"overview\"] or None,\n",
    "            \"Popularity\": data[\"popularity\"] or None,\n",
    "            \"Released\":   data[\"release_date\"] or None,\n",
    "            \"Revenue\":    data[\"revenue\"] or None,\n",
    "            \"Runtime\":    data[\"runtime\"] or None,\n",
    "            \"TmdbRating\": data[\"vote_average\"] or None,\n",
    "            \"TmdbVotes\":  data[\"vote_count\"] or None,\n",
    "            \"Keywords\":   [k[\"name\"] for k in keywords],\n",
    "            \"Videos\":     [dict({ \"key\": v[\"key\"], \"type\": v[\"type\"], \"site\": v[\"site\"] }) for v in videos]\n",
    "        });\n",
    "    return tmdbMovies\n",
    "\n",
    "def saveTmdb(tmdbMovies, filePath):\n",
    "    json.dump(tmdbMovies, open(filePath, 'w'), indent=1)"
   ]
  },
  {
   "cell_type": "markdown",
   "metadata": {},
   "source": [
    "## Rotten Tomatoes Data"
   ]
  },
  {
   "cell_type": "markdown",
   "metadata": {},
   "source": [
    "http://www.programmableweb.com/news/52-movies-apis-rovi-rotten-tomatoes-and-internet-video-archive/2013/01/22\n",
    "https://pypi.python.org/pypi/rtsimple"
   ]
  },
  {
   "cell_type": "code",
   "execution_count": 29,
   "metadata": {
    "collapsed": false
   },
   "outputs": [],
   "source": [
    "def loadFromRt(filePath, hardReset, omdbMovies):\n",
    "    \n",
    "    if not hardReset:\n",
    "        rtMovies = json.load(open(filePath, 'r'))\n",
    "    else:\n",
    "        rtMovies = dict()\n",
    "        \n",
    "    i = 0\n",
    "    errorCount = 0\n",
    "    for m in omdbMovies:\n",
    "        i += 1\n",
    "        \n",
    "        if errorCount >= 10:\n",
    "            return rtMovies\n",
    "        \n",
    "        imdbID = m[\"ImdbID\"]\n",
    "        if (imdbID in rtMovies): continue\n",
    "        print(\"Rotten Tomatoes \" + imdbID)\n",
    "        sys.stdout.flush()\n",
    "        \n",
    "        try:\n",
    "            data = rt.Alias().movie(type='imdb', id=imdbID)\n",
    "        except requests.HTTPError as e:\n",
    "            rtMovies[imdbID] = False\n",
    "            print(\"HTTPError\")\n",
    "            errorCount = errorCount + 1\n",
    "            continue\n",
    "            \n",
    "        if ('error' in data):\n",
    "            print('error')\n",
    "            continue;\n",
    "        else:\n",
    "            print('success')\n",
    "        rtID = data['id'];\n",
    "        \n",
    "        # videos = rt.Movies(rtID).clips()['clips']\n",
    "        # reviews = rt.Movies(fromRt['id']).reviews()\n",
    "        # cast = rt.Movies(fromRt['id']).cast()['cast']\n",
    "        \n",
    "        rtMovies[imdbID] = dict({\n",
    "            \"Cast\":        [dict({ \"name\": c[\"name\"], \"character\": c[\"characters\"] if \"characters\" in c else None })\n",
    "                            for c in data[\"abridged_cast\"]],\n",
    "            \"Directors\":   [g[\"name\"] for g in data[\"abridged_directors\"]] if \"abridged_directors\" in data else [],\n",
    "            \"Genres\":      data[\"genres\"] or [],\n",
    "            \"RtID\":        data[\"id\"],\n",
    "            \"Rating\":      data[\"mpaa_rating\"].replace(\"N/A\", \"\") or None,\n",
    "            \"Consensus\":   (data[\"critics_consensus\"] or None) if \"critics_consensus\" in data else None,\n",
    "            \"Posters\":     data[\"posters\"],\n",
    "            \"LinkRt\":      data['links']['alternate'] if 'alternate' in data['links'] else None,\n",
    "\n",
    "            \"RtAudience\":  data[\"ratings\"][\"audience_score\"] if data[\"ratings\"][\"audience_score\"] > 0 else None,\n",
    "            \"RtCritics\":   data[\"ratings\"][\"critics_score\"] if data[\"ratings\"][\"critics_score\"] > 0 else None,\n",
    "\n",
    "            \"ReleasedDVD\": data[\"release_dates\"][\"dvd\"] if \"dvd\" in data[\"release_dates\"] else None,\n",
    "            \"Released\":    data[\"release_dates\"][\"theater\"] if \"theater\" in data[\"release_dates\"] else None,\n",
    "\n",
    "            \"Runtime\":     data[\"runtime\"] or None,\n",
    "            \"Studio\":      data[\"studio\"] if \"studio\" in data else None,\n",
    "            \"Synopsis\":    data[\"synopsis\"] or None,\n",
    "            \"Title\":       data[\"title\"] or None,\n",
    "            \"Year\":        data[\"year\"] or None\n",
    "        });\n",
    "    rtMovies['0088199'] = False #automagic\n",
    "    return rtMovies\n",
    "\n",
    "def saveRt(fromRt, filePath):\n",
    "    json.dump(fromRt, open(filePath, 'w'), indent=1)"
   ]
  },
  {
   "cell_type": "markdown",
   "metadata": {},
   "source": [
    "## Sanitize Data"
   ]
  },
  {
   "cell_type": "code",
   "execution_count": 26,
   "metadata": {
    "collapsed": false
   },
   "outputs": [],
   "source": [
    "def sanitize(fromOmdb, fromTmdb, fromRt):\n",
    "    movies = []\n",
    "    for m in fromOmdb:\n",
    "        imdbID = m['ImdbID']\n",
    "        if imdbID in fromTmdb and imdbID in fromRt and fromRt[imdbID] and fromTmdb[imdbID]:\n",
    "            movies.append(formatMovie(imdbID, m, fromRt[imdbID], fromTmdb[imdbID]))\n",
    "    return movies        \n",
    "\n",
    "def saveMovies(movies, filePath, meteorPath):\n",
    "    json.dump(movies, open(filePath, 'w'), indent=1)\n",
    "    json.dump(movies, open(meteorPath, 'w'), indent=1)\n",
    "    \n",
    "def updateMovies(movies):\n",
    "    #Don't run this, use Meteor instead!\n",
    "    client = MongoClient(uri)\n",
    "    \n",
    "    for movie in movies:\n",
    "        cursor = client.appdb.movies.find({\"link_imdb\": movie['link_imdb']})\n",
    "        if cursor.count() == 0:\n",
    "            movie['firstInserted'] = time.time()\n",
    "            movie['lastUpdated'] = time.time()\n",
    "            client.appdb.movies.insert(movie)\n",
    "        else:\n",
    "            movie['lastUpdated'] = time.time()\n",
    "            client.appdb.movies.replace_one({\"link_imdb\" : movie['link_imdb']}, movie)\n",
    "        \n",
    "def formatMovie(imdbID, fromOmdb, fromRt, fromTmdb):\n",
    "    result = dict()\n",
    "    result['title'] = fromTmdb['Title']\n",
    "    result['plot'] = fromTmdb['Overview'] or fromOmdb['Plot'] or fromRt['Synopsis']\n",
    "    result['keywords'] = fromTmdb['Keywords']\n",
    "    result['runtime'] = fromTmdb['Runtime'] or fromRt['Runtime']\n",
    "    result['budget'] = fromTmdb['Budget']\n",
    "    result['revenue'] = fromTmdb['Revenue']\n",
    "    result['tagline'] = fromTmdb['Tagline']\n",
    "    result['year'] = fromOmdb['Year']\n",
    "    result['released'] = fromTmdb['Released']\n",
    "    result['languages'] = fromTmdb['Languages']\n",
    "    result['country'] = fromOmdb['Country']\n",
    "    fromTmdb['Studios'].append(None)\n",
    "    result['studio'] = fromRt['Studio'] or fromTmdb['Studios'][0]  # TODO\n",
    "    result['cast'] = fromOmdb['Cast'] or fromOmdb['Cast']\n",
    "    result['directors'] = fromOmdb['Directors'] or fromOmdb['Directors']\n",
    "    result['homepage'] = fromTmdb['Homepage']\n",
    "    \n",
    "    result['awards'] = fromOmdb['Awards']\n",
    "    result['rating'] = fromRt['Rating'] or fromOmdb['Rating']\n",
    "\n",
    "    result['score_rtaudience'] = fromRt['RtAudience']\n",
    "    result['score_rtcritics'] = fromRt['RtCritics']\n",
    "    result['score_metacritic'] = fromOmdb['Metacritic']\n",
    "    result['score_imdb'] = fromOmdb['ImdbRating']\n",
    "    result['votes_imdb'] = fromOmdb['ImdbVotes']\n",
    "    result['score'] = (fromRt['RtCritics'] or 0) + (fromRt['RtAudience'] or 0) + (fromOmdb['ImdbRating'] or 0)*10\n",
    "\n",
    "    result['poster'] = fromOmdb['Poster'] or fromTmdb['Poster']\n",
    "    result['background'] = fromTmdb['Backdrop']\n",
    "\n",
    "    result['link_rt'] = fromRt['LinkRt']\n",
    "    result['link_imdb'] = 'tt' + imdbID\n",
    "\n",
    "    # Genres\n",
    "    genres = set(fromTmdb['Genres'])\n",
    "    if 'Kids' in genres:\n",
    "        genres.remove('Kids')\n",
    "        genres.add('Family')\n",
    "    if 'TV Movie' in genres:\n",
    "        genres.remove('TV Movie')\n",
    "    result['genres'] = list(genres)\n",
    "\n",
    "    # Trailer\n",
    "    trailers = [a for a in fromTmdb['Videos'] if a['type'] == 'Trailer']\n",
    "    if len(trailers) and trailers[-1]['site'] == 'YouTube':\n",
    "        result['trailer_youtube'] = trailers[-1]['key']\n",
    "    else :\n",
    "        result['trailer_youtube'] = None\n",
    "\n",
    "    # Search String\n",
    "    result['search_str'] = (result['title'] + ' ' + ' '.join(result['cast']) + ' '.join(result['directors']) + ' '.join(result['keywords'])).lower()\n",
    "        \n",
    "    # Streaming\n",
    "    result['streaming'] = dict()\n",
    "    \n",
    "    return result\n",
    "    "
   ]
  },
  {
   "cell_type": "markdown",
   "metadata": {},
   "source": [
    "## Download Netflix and Hulu Data"
   ]
  },
  {
   "cell_type": "code",
   "execution_count": 16,
   "metadata": {
    "collapsed": false
   },
   "outputs": [],
   "source": [
    "netflixUrl = {\n",
    "    'us': 'http://www.allflicks.net/wp-content/themes/responsive/processing/processing_us.php',\n",
    "    'uk': 'http://www.allflicks.net/wp-content/themes/responsive/processing/processing_uk.php',\n",
    "    'fr': 'http://www.allflicks.fr/wp-content/themes/responsive/processing/processing.php',\n",
    "    'de': 'http://www.allflicks.de/wp-content/themes/responsive/processing/processing.php',\n",
    "    'ca': 'http://www.allflicks.net/wp-content/themes/responsive/processing/processing_ca.php',\n",
    "    'au': 'http://au.allflicks.net/wp-content/themes/responsive/processing/processing_au.php',\n",
    "    'nz': 'http://nz.allflicks.net/wp-content/themes/responsive/processing/processing_nz.php',\n",
    "    'hulu': 'http://somethingtostream.com/hulu/wp-content/themes/responsive/processing/processing_movies.php'\n",
    "}\n",
    "    \n",
    "netflixDetail = {\n",
    "    'us': 'http://www.allflicks.net/movies/',\n",
    "    'uk': 'http://www.allflicks.net/movies-uk/',\n",
    "    'fr': 'http://www.allflicks.fr/film/',\n",
    "    'de': 'http://www.allflicks.de/film/',\n",
    "    'ca': 'http://www.allflicks.net/movies-canada/',\n",
    "    'au': 'http://au.allflicks.net/movies/',\n",
    "    'nz': 'http://nz.allflicks.net/movies/',\n",
    "    'hulu': 'http://somethingtostream.com/hulu/movie/'\n",
    "}\n",
    "\n",
    "netflixCountries = ['us', 'uk', 'fr', 'de', 'ca', 'au', 'nz', 'hulu']"
   ]
  },
  {
   "cell_type": "code",
   "execution_count": 59,
   "metadata": {
    "collapsed": false
   },
   "outputs": [],
   "source": [
    "netflixMovies = dict();"
   ]
  },
  {
   "cell_type": "code",
   "execution_count": 76,
   "metadata": {
    "collapsed": false
   },
   "outputs": [],
   "source": [
    "def loadNetflixForCountry(country):\n",
    "    response = urllib2.urlopen(netflixUrl[country] + \"?shows=false&movies=true&length=1&start=0\")\n",
    "    length = json.load(response)['recordsTotal']\n",
    "    response = urllib2.urlopen(netflixUrl[country] + \"?shows=false&movies=true&length=\" + str(length+1) + \"&start=0\")\n",
    "    return json.load(response)['data']\n",
    "\n",
    "def addNetflixMovie(cache, country, movie):\n",
    "    if movie['id'] in cache:\n",
    "        cache[movie['id']]['Countries'].append(country)\n",
    "    else:\n",
    "        cache[movie['id']] = dict({\n",
    "            'Title': movie['title'],\n",
    "            'Year': int(movie['year'].replace('-','0') or 0) or None,\n",
    "            'Countries': [country]\n",
    "        })\n",
    "\n",
    "def getImdbIdForNetflix(allflixID, movie, omdbTitleCache):\n",
    "    \n",
    "    # title and year match\n",
    "    title = re.sub('[^A-Za-z0-9\\s]+', '', movie['Title']).lower()\n",
    "    if title in omdbTitleCache:\n",
    "        canidates = [x for x in omdbTitleCache[title] if x['Year'] == movie['Year']]\n",
    "        if len(canidates) == 1:\n",
    "            return canidates[0]['ImdbID']\n",
    "    \n",
    "    # tmdb lookup\n",
    "    return None\n",
    "    tmdb.Search().movie(query = movie['title'])\n",
    "    \n",
    "    # allflicks lookup\n",
    "    html = urllib2.urlopen(netflixDetail[movie['Countries'][0]] + str(allflixID)).read()\n",
    "    start = string.find(html, 'imdb')\n",
    "    if start >= 0:\n",
    "        html = html[start+15:]\n",
    "        return html[:string.find(html, '/')]\n",
    "            \n",
    "    return None"
   ]
  },
  {
   "cell_type": "code",
   "execution_count": 66,
   "metadata": {
    "collapsed": false
   },
   "outputs": [],
   "source": [
    "def loadFromNetflix():\n",
    "    netflixIdCache = dict({});\n",
    "    omdbTitleCache = dict({});\n",
    "\n",
    "    for c in netflixCountries:\n",
    "        movies = loadNetflixForCountry(c);\n",
    "        for m in movies:\n",
    "            addNetflixMovie(netflixIdCache, c, m)\n",
    "\n",
    "    for m in omdbMovies:\n",
    "        title = re.sub('[^A-Za-z0-9\\s]+', '', m['Title']).lower()\n",
    "        if (title not in omdbTitleCache): omdbTitleCache[title] = [];\n",
    "        omdbTitleCache[title].append(m);\n",
    "\n",
    "    for m in netflixIdCache:\n",
    "        imdb = getImdbIdForNetflix(m, netflixIdCache[m], omdbTitleCache)\n",
    "        if imdb: netflixMovies[imdb] = netflixIdCache[m]"
   ]
  },
  {
   "cell_type": "code",
   "execution_count": null,
   "metadata": {
    "collapsed": false
   },
   "outputs": [],
   "source": []
  },
  {
   "cell_type": "code",
   "execution_count": 81,
   "metadata": {
    "collapsed": false
   },
   "outputs": [],
   "source": [
    "    netflixIdCache = dict({});\n",
    "\n",
    "    for c in netflixCountries:\n",
    "        movies = loadNetflixForCountry(c);\n",
    "        for m in movies:\n",
    "            addNetflixMovie(netflixIdCache, c, m)"
   ]
  },
  {
   "cell_type": "code",
   "execution_count": 82,
   "metadata": {
    "collapsed": false
   },
   "outputs": [
    {
     "data": {
      "text/plain": [
       "19492"
      ]
     },
     "execution_count": 82,
     "metadata": {},
     "output_type": "execute_result"
    }
   ],
   "source": [
    "len(netflixIdCache)"
   ]
  },
  {
   "cell_type": "code",
   "execution_count": null,
   "metadata": {
    "collapsed": false
   },
   "outputs": [],
   "source": []
  },
  {
   "cell_type": "code",
   "execution_count": null,
   "metadata": {
    "collapsed": false
   },
   "outputs": [],
   "source": []
  },
  {
   "cell_type": "code",
   "execution_count": 77,
   "metadata": {
    "collapsed": false
   },
   "outputs": [
    {
     "data": {
      "text/plain": [
       "8037"
      ]
     },
     "execution_count": 77,
     "metadata": {},
     "output_type": "execute_result"
    }
   ],
   "source": [
    "loadFromNetflix()\n",
    "len(netflixMovies)"
   ]
  },
  {
   "cell_type": "code",
   "execution_count": 78,
   "metadata": {
    "collapsed": false
   },
   "outputs": [],
   "source": [
    "json.dump(netflixMovies, open('raw_netflix.json', 'w'))"
   ]
  },
  {
   "cell_type": "code",
   "execution_count": 79,
   "metadata": {
    "collapsed": false
   },
   "outputs": [],
   "source": [
    "netflixMovies = json.load(open('raw_netflix.json', 'r'))"
   ]
  }
 ],
 "metadata": {
  "kernelspec": {
   "display_name": "Python 2",
   "language": "python",
   "name": "python2"
  },
  "language_info": {
   "codemirror_mode": {
    "name": "ipython",
    "version": 2
   },
   "file_extension": ".py",
   "mimetype": "text/x-python",
   "name": "python",
   "nbconvert_exporter": "python",
   "pygments_lexer": "ipython2",
   "version": "2.7.10"
  }
 },
 "nbformat": 4,
 "nbformat_minor": 0
}
