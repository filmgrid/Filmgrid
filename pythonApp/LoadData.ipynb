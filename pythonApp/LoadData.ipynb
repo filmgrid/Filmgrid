{
 "metadata": {
  "name": "",
  "signature": "sha256:15cebb21c82ee2aaa56fe43e8d98d1d222918982e0e76f14b5b94517233674ff"
 },
 "nbformat": 3,
 "nbformat_minor": 0,
 "worksheets": [
  {
   "cells": [
    {
     "cell_type": "code",
     "collapsed": false,
     "input": [
      "import json\n",
      "import pymongo\n",
      "import numpy as np\n",
      "\n",
      "import omdb\n",
      "import tmdbsimple as tmdb # pip install tmdbsimple\n",
      "import rtsimple as rt # pip install rtsimple\n",
      "from pymongo import MongoClient\n",
      "\n",
      "tmdb.API_KEY = '2a50430216cd531275198faae3531bb4'\n",
      "rt.API_KEY = 'dbbykgj6pbm3wnfrnvhdbdym'"
     ],
     "language": "python",
     "metadata": {},
     "outputs": [],
     "prompt_number": 1
    },
    {
     "cell_type": "heading",
     "level": 2,
     "metadata": {},
     "source": [
      "Download Raw Data"
     ]
    },
    {
     "cell_type": "code",
     "collapsed": false,
     "input": [
      "titles = json.load(open('movie_titles.json', 'r'))\n",
      "len(titles)"
     ],
     "language": "python",
     "metadata": {},
     "outputs": [
      {
       "metadata": {},
       "output_type": "pyout",
       "prompt_number": 2,
       "text": [
        "16433"
       ]
      }
     ],
     "prompt_number": 2
    },
    {
     "cell_type": "code",
     "collapsed": false,
     "input": [
      "movieIds = set()\n",
      "rawMovies = []"
     ],
     "language": "python",
     "metadata": {},
     "outputs": [],
     "prompt_number": 3
    },
    {
     "cell_type": "code",
     "collapsed": false,
     "input": [
      "def getMoviesByTitle(title):\n",
      "    searchResults = tmdb.Search().movie(query=title)['results'] # limited to 20 results!\n",
      "    count = 0\n",
      "    for movie in searchResults:\n",
      "        if movie['id'] not in movieIds:\n",
      "            tmdbData =  tmdb.Movies(movie['id']).info()\n",
      "            imdbId = tmdbData['imdb_id'].replace('tt', '')\n",
      "            movieIds.add(movie['id'])\n",
      "            rawMovies.append(dict({\n",
      "                'rt': rt.Alias().movie(type='imdb', id=imdbId),\n",
      "                'omdb': omdb.imdbid(tmdbData['imdb_id']),\n",
      "                'tmdb': tmdbData\n",
      "            }))\n",
      "            count += 1\n",
      "    return count"
     ],
     "language": "python",
     "metadata": {},
     "outputs": [],
     "prompt_number": 4
    },
    {
     "cell_type": "code",
     "collapsed": false,
     "input": [
      "def getMoviesForRange(titles, start, end):\n",
      "    index = start\n",
      "    for title in titles[start:end]:\n",
      "        j = getMoviesByTitle(title)\n",
      "        print('[' + str(index) + '] Found ' + str(j) + ' new movies for \"' + title + '\"')\n",
      "        index += 1"
     ],
     "language": "python",
     "metadata": {},
     "outputs": [],
     "prompt_number": 5
    },
    {
     "cell_type": "code",
     "collapsed": false,
     "input": [
      "getMoviesForRange(titles, 0, 1)"
     ],
     "language": "python",
     "metadata": {},
     "outputs": [
      {
       "output_type": "stream",
       "stream": "stdout",
       "text": [
        "[0] Found 0 new movies for \"Category:1961\"\n"
       ]
      }
     ],
     "prompt_number": 6
    },
    {
     "cell_type": "code",
     "collapsed": false,
     "input": [
      "filteredMovies = []\n",
      "for m in rawMovies:\n",
      "    if m['tmdb']['id'] not in ids:\n",
      "        ids.add(m['tmdb']['id'])\n",
      "        filteredMovies.append(m)\n",
      "\n",
      "len(filteredMovies)"
     ],
     "language": "python",
     "metadata": {},
     "outputs": [
      {
       "metadata": {},
       "output_type": "pyout",
       "prompt_number": 7,
       "text": [
        "0"
       ]
      }
     ],
     "prompt_number": 7
    },
    {
     "cell_type": "code",
     "collapsed": false,
     "input": [
      "# This file will be greater than the 100MB limit on GitHub...\n",
      "json.dump(filteredMovies, open('raw_movie_data.json', 'w'))"
     ],
     "language": "python",
     "metadata": {},
     "outputs": [],
     "prompt_number": 8
    },
    {
     "cell_type": "heading",
     "level": 2,
     "metadata": {},
     "source": [
      "Format Movie Data"
     ]
    },
    {
     "cell_type": "markdown",
     "metadata": {},
     "source": [
      "http://www.programmableweb.com/news/52-movies-apis-rovi-rotten-tomatoes-and-internet-video-archive/2013/01/22   \n",
      "http://www.omdbapi.com   \n",
      "https://pypi.python.org/pypi/rtsimple"
     ]
    },
    {
     "cell_type": "code",
     "collapsed": false,
     "input": [
      "TMDB_IMAGES = tmdb.Configuration().info()['images']"
     ],
     "language": "python",
     "metadata": {},
     "outputs": [],
     "prompt_number": 9
    },
    {
     "cell_type": "code",
     "collapsed": false,
     "input": [
      "def formatMovieData(fromOmdb, fromRt, fromTmdb):\n",
      "    \n",
      "    result = dict()\n",
      "    \n",
      "    # TITLE\n",
      "    result['title'] = fromTmdb['title']\n",
      "        # fromOmdb['title']\n",
      "        # fromRt['title']\n",
      "        # fromTmdb['original_title']\n",
      "        # tmdb.Movies(fromTmdb['id']).alternative_titles()\n",
      "\n",
      "    # PLOT SYNOPSIS\n",
      "    # Multiple different plots may help NLP\n",
      "    result['plots'] = [fromOmdb['plot'], fromRt['synopsis'], fromTmdb['overview']]\n",
      "\n",
      "    # TAGLINE\n",
      "    result['tagline'] = fromTmdb['tagline']\n",
      "    \n",
      "    # KEYWORDS\n",
      "    # result['keywords'] = map(lambda x: x['name'], tmdb.Movies(fromTmdb['id']).keywords()['keywords'])\n",
      "\n",
      "    # GENRES\n",
      "    result['genres'] = list(set(\n",
      "        fromOmdb['genre'].split(', ') +\n",
      "        fromRt['genres'] + \n",
      "        map(lambda x: x['name'], fromTmdb['genres'])\n",
      "    ))\n",
      "\n",
      "    # RUNTIME\n",
      "    result['runtime'] = fromTmdb['runtime'] or fromRt['runtime']\n",
      "    \n",
      "    # BUDGET AND REVENUE\n",
      "    result['budget'] = fromTmdb['budget']\n",
      "    result['revenue'] = fromTmdb['revenue']\n",
      "\n",
      "    # DATES\n",
      "    result['year'] = fromRt['year']\n",
      "    result['released'] = fromTmdb['release_date']\n",
      "        # fromOmdb['released'] # u'27 Nov 2013'\n",
      "        # fromRt['release_dates'] # {u'dvd': u'2014-03-18', u'theater': u'2013-11-27'}\n",
      "\n",
      "    # LANGUAGES AND COUNTRY\n",
      "    result['languages'] = map(lambda x: x['name'], fromTmdb['spoken_languages'])\n",
      "    result['country'] = fromOmdb['country'] # u'USA'\n",
      "        # map(lambda x: x['name'], fromTmdb['production_countries'])\n",
      "        # fromOmdb['language'].split(', ')\n",
      "\n",
      "    # POPULARITY\n",
      "    votes = [\n",
      "        float(fromRt['ratings']['audience_score']) / 100,\n",
      "        float(fromRt['ratings']['critics_score']) / 100,\n",
      "        fromTmdb['popularity'],\n",
      "        fromTmdb['vote_average']\n",
      "    ]\n",
      "    if fromOmdb['metascore'] != 'N/A': votes.append(float(fromOmdb['metascore']) / 100)\n",
      "    if fromOmdb['imdb_rating'] != 'N/A': votes.append(float(fromOmdb['imdb_rating']))\n",
      "    result['popularity'] = np.mean(votes)\n",
      "\n",
      "    # VOTE COUNT\n",
      "    result['popularity'] = int(fromOmdb['imdb_votes'].replace(',','')) if fromOmdb['imdb_votes'] != 'N/A' else None\n",
      "        # fromTmdb['vote_count']\n",
      "        # map(lambda x: x['name'], rt.Movies(fromRt['id']).reviews())\n",
      "\n",
      "    # RATINGS AND AWARDS\n",
      "    result['awards'] = fromOmdb['awards']\n",
      "    result['rating'] = fromRt['mpaa_rating'] or fromOmdb['rated']\n",
      "        # fromTmdb['adult'] # False\n",
      "\n",
      "    # CAST\n",
      "    if 'abridged_cast' in fromRt:\n",
      "        result['actors'] = map(lambda x: x['name'], fromRt['abridged_cast'])\n",
      "    elif 'actors' in fromOmdb:\n",
      "        result['actors'] = fromOmdb['actors'].split(', ')\n",
      "    else:\n",
      "        result['actors'] = []\n",
      "        # map(lambda x: x['name'], rt.Movies(fromRt['id']).cast()['cast'])\n",
      "        # tmdb.Movies(fromTmdb['id']).credits()['cast']\n",
      "    \n",
      "    # DIRECTOR AND CREW\n",
      "    if 'abridged_directors' in fromRt:\n",
      "        result['directors'] = map(lambda x: x['name'], fromRt['abridged_directors'])\n",
      "    elif 'directors' in fromOmdb:\n",
      "        result['directors'] = fromOmdb['directors'].split(', ')\n",
      "    else:\n",
      "        result['directors'] = []\n",
      "        # fromOmdb['writer'].split(', ')\n",
      "        # tmdb.Movies(fromTmdb['id']).credits()['crew']\n",
      "\n",
      "    # STUDIO AND PRODUCTION\n",
      "    if 'studio' in fromRt:\n",
      "        result['studio'] = fromRt['studio']\n",
      "    elif len(fromTmdb['production_companies']):\n",
      "        result['studio'] = fromTmdb['production_companies'][0]['name']\n",
      "    else:\n",
      "        result['studio'] = ''\n",
      "\n",
      "    # IMAGE URLS\n",
      "    result['poster'] = fromOmdb['poster']\n",
      "    result['background'] = TMDB_IMAGES['base_url'] + 'original' + str(fromTmdb['backdrop_path'])\n",
      "        # fromRt['posters'] # {u'detailed': u'...', u'original': u'...', u'profile': u'...', u'thumbnail': u'...'}\n",
      "        #     can use 'w300', 'w780', 'w1280' instead of 'original'\n",
      "        # TMDB_IMAGES['base_url'] + 'original' + fromTmdb['poster_path'] # 'http://...'\n",
      "        #     can use u'w92', 'w154', 'w185', 'w342', 'w500', 'w780' instead of 'original'\n",
      "        # tmdb.Movies(fromTmdb['id']).images()\n",
      "\n",
      "    # VIDEOS\n",
      "    # trailers = [a for a in tmdb.Movies(fromTmdb['id']).videos()['results'] if a['type'] == 'Trailer']\n",
      "    # if len(trailers): result['trailer'] = trailers[0]\n",
      "        # tmdb.Movies(fromTmdb['id']).videos()['results']\n",
      "        # rt.Movies(fromRt['id']).clips()['clips']\n",
      "        \n",
      "    # OTHER\n",
      "    result['homepage'] = fromTmdb['homepage'] # u'http://movies.disney.com/frozen'\n",
      "        # fromOmdb['type'] # u'movie'\n",
      "        # fromTmdb['status'] # u'Released'\n",
      "\n",
      "    return result"
     ],
     "language": "python",
     "metadata": {},
     "outputs": [],
     "prompt_number": 10
    },
    {
     "cell_type": "code",
     "collapsed": false,
     "input": [
      "rawMovies = json.load(open('raw_movie_data.json', 'r'))\n",
      "len(rawMovies)"
     ],
     "language": "python",
     "metadata": {},
     "outputs": [
      {
       "metadata": {},
       "output_type": "pyout",
       "prompt_number": 11,
       "text": [
        "49954"
       ]
      }
     ],
     "prompt_number": 11
    },
    {
     "cell_type": "code",
     "collapsed": false,
     "input": [
      "movies = []\n",
      "\n",
      "for movie in rawMovies:\n",
      "    if 'title' in movie['omdb'] and 'title' in movie['rt']:\n",
      "        movies.append(formatMovieData(movie['omdb'], movie['rt'], movie['tmdb']))\n",
      "        \n",
      "len(movies)"
     ],
     "language": "python",
     "metadata": {},
     "outputs": [
      {
       "metadata": {},
       "output_type": "pyout",
       "prompt_number": 12,
       "text": [
        "26452"
       ]
      }
     ],
     "prompt_number": 12
    },
    {
     "cell_type": "heading",
     "level": 2,
     "metadata": {},
     "source": [
      "Save Data to Db"
     ]
    },
    {
     "cell_type": "code",
     "collapsed": false,
     "input": [
      "json.dump(movies, open('movie_data.json', 'w'))"
     ],
     "language": "python",
     "metadata": {},
     "outputs": [],
     "prompt_number": 13
    },
    {
     "cell_type": "code",
     "collapsed": false,
     "input": [
      "uri = 'mongodb://localhost/appdb'\n",
      "client = MongoClient(uri)\n",
      "client.appdb.movies.remove()\n",
      "for movie in movies:\n",
      "    client.appdb.movies.insert(movie)"
     ],
     "language": "python",
     "metadata": {},
     "outputs": []
    }
   ],
   "metadata": {}
  }
 ]
}