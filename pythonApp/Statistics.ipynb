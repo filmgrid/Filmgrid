{
 "metadata": {
  "name": "",
  "signature": "sha256:568de85016f13b89aabeaf851fc975e8869a6ea06c3dc97c52aaa8d3afbf66f7"
 },
 "nbformat": 3,
 "nbformat_minor": 0,
 "worksheets": [
  {
   "cells": [
    {
     "cell_type": "code",
     "collapsed": false,
     "input": [
      "import json\n",
      "\n",
      "import numpy as np\n",
      "import matplotlib.pyplot as plt\n",
      "%matplotlib inline"
     ],
     "language": "python",
     "metadata": {},
     "outputs": [],
     "prompt_number": 1
    },
    {
     "cell_type": "code",
     "collapsed": false,
     "input": [
      "movies = json.load(open('movie_data.json', 'r'))\n",
      "len(movies)"
     ],
     "language": "python",
     "metadata": {},
     "outputs": [
      {
       "metadata": {},
       "output_type": "pyout",
       "prompt_number": 2,
       "text": [
        "26452"
       ]
      }
     ],
     "prompt_number": 2
    },
    {
     "cell_type": "heading",
     "level": 2,
     "metadata": {},
     "source": [
      "Visualisations"
     ]
    },
    {
     "cell_type": "code",
     "collapsed": false,
     "input": [
      "def visualise(category):\n",
      "    valid = [m for m in movies if m[category]]\n",
      "    data = [int(m[category]) for m in valid]\n",
      "    sort = sorted(valid, key=lambda m: m[category], reverse=True)\n",
      "    for i in range(5):\n",
      "        print(str(sort[i]['title']) + ': ' + str(sort[i][category]))\n",
      "    plt.hist(data, 124)\n",
      "    plt.show()"
     ],
     "language": "python",
     "metadata": {},
     "outputs": [],
     "prompt_number": 7
    },
    {
     "cell_type": "code",
     "collapsed": false,
     "input": [
      "visualise('year')"
     ],
     "language": "python",
     "metadata": {},
     "outputs": [
      {
       "output_type": "stream",
       "stream": "stdout",
       "text": [
        "The Amazing Spider-Man 4: 2018\n",
        "Avatar 4: 2018\n",
        "Avatar 3: 2017\n",
        "The Lego Movie 2: 2017\n",
        "The Best Man Wedding: 2016\n"
       ]
      },
      {
       "metadata": {},
       "output_type": "display_data",
       "png": "[encoded data removed]",
       "text": [
        "<matplotlib.figure.Figure at 0x10ef44fd0>"
       ]
      }
     ],
     "prompt_number": 8
    },
    {
     "cell_type": "code",
     "collapsed": false,
     "input": [
      "visualise('popularity')"
     ],
     "language": "python",
     "metadata": {},
     "outputs": [
      {
       "output_type": "stream",
       "stream": "stdout",
       "text": [
        "The Shawshank Redemption: 1330582\n",
        "The Dark Knight: 1299062\n",
        "Inception: 1094254\n",
        "Fight Club: 1023209\n",
        "Pulp Fiction: 1019982\n"
       ]
      },
      {
       "metadata": {},
       "output_type": "display_data",
       "png": "[encoded data removed]",
       "text": [
        "<matplotlib.figure.Figure at 0x103de1710>"
       ]
      }
     ],
     "prompt_number": 9
    },
    {
     "cell_type": "code",
     "collapsed": false,
     "input": [
      "visualise('revenue')"
     ],
     "language": "python",
     "metadata": {},
     "outputs": [
      {
       "output_type": "stream",
       "stream": "stdout",
       "text": [
        "Avatar: 2781505847\n",
        "Titanic: 1845034188\n",
        "The Avengers: 1518594910\n",
        "Harry Potter and the Deathly Hallows: Part 2: 1327817822\n",
        "Frozen: 1274219009\n"
       ]
      },
      {
       "metadata": {},
       "output_type": "display_data",
       "png": "[encoded data removed]",
       "text": [
        "<matplotlib.figure.Figure at 0x103de1710>"
       ]
      }
     ],
     "prompt_number": 10
    },
    {
     "cell_type": "code",
     "collapsed": false,
     "input": [
      "visualise('budget')"
     ],
     "language": "python",
     "metadata": {},
     "outputs": [
      {
       "output_type": "stream",
       "stream": "stdout",
       "text": [
        "Pirates of the Caribbean: At World's End: 300000000\n",
        "Superman Returns: 270000000\n",
        "The Twilight Saga: Breaking Dawn - Part 1: 263000000\n",
        "Tangled: 260000000\n",
        "Spider-Man 3: 258000000\n"
       ]
      },
      {
       "metadata": {},
       "output_type": "display_data",
       "png": "[encoded data removed]",
       "text": [
        "<matplotlib.figure.Figure at 0x10ebd2a90>"
       ]
      }
     ],
     "prompt_number": 11
    },
    {
     "cell_type": "code",
     "collapsed": false,
     "input": [
      "visualise('runtime')"
     ],
     "language": "python",
     "metadata": {},
     "outputs": [
      {
       "output_type": "stream",
       "stream": "stdout",
       "text": [
        "The Cure For Insomnia: 5220\n",
        "Terror Tract: 2000\n",
        "Taken: 877\n",
        "The War: 874\n",
        "The Journey: 873\n"
       ]
      },
      {
       "metadata": {},
       "output_type": "display_data",
       "png": "[encoded data removed]",
       "text": [
        "<matplotlib.figure.Figure at 0x10eefde10>"
       ]
      }
     ],
     "prompt_number": 15
    },
    {
     "cell_type": "heading",
     "level": 2,
     "metadata": {},
     "source": [
      "Search"
     ]
    },
    {
     "cell_type": "code",
     "collapsed": false,
     "input": [
      "def findByActor(name):\n",
      "    for m in [m for m in movies if name in m['actors']]:\n",
      "        print(str(m['title']))"
     ],
     "language": "python",
     "metadata": {},
     "outputs": [],
     "prompt_number": 12
    },
    {
     "cell_type": "code",
     "collapsed": false,
     "input": [
      "findByActor('Johnny Depp')"
     ],
     "language": "python",
     "metadata": {},
     "outputs": [
      {
       "output_type": "stream",
       "stream": "stdout",
       "text": [
        "Alice in Wonderland\n",
        "Pirates of the Caribbean: On Stranger Tides\n",
        "Finding Neverland\n",
        "Pirates of the Caribbean: Dead Man's Chest\n",
        "The Night Stalker\n",
        "Arizona Dream\n",
        "Sweeney Todd: The Demon Barber of Fleet Street\n",
        "Pirates of the Caribbean: The Curse of the Black Pearl\n",
        "Pirates of the Caribbean: At World's End\n",
        "The Ninth Gate\n",
        "Private Resort\n",
        "Dark Shadows\n",
        "Chocolat\n",
        "Cry-Baby\n",
        "Edward Scissorhands\n",
        "Charlie and the Chocolate Factory\n",
        "The Imaginarium of Doctor Parnassus\n",
        "Ed Wood\n",
        "Don Juan DeMarco\n",
        "Once Upon a Time in Mexico\n",
        "Nick of Time\n",
        "Dead Man\n",
        "The Astronaut's Wife\n",
        "Fear and Loathing in Las Vegas\n",
        "The Man Who Cried\n",
        "What's Eating Gilbert Grape\n",
        "Benny & Joon\n",
        "Sleepy Hollow\n",
        "Donnie Brasco\n",
        "Before Night Falls\n",
        "Secret Window\n",
        "Blow\n",
        "From Hell\n",
        "Corpse Bride\n",
        "Slow Burn\n",
        "Public Enemies\n",
        "The Rum Diary\n",
        "When You're Strange\n",
        "The Tourist\n",
        "Mortdecai\n",
        "Rango\n",
        "The Libertine\n",
        "The Brave\n",
        "The Lone Ranger\n",
        "Transcendence\n",
        "Tusk\n"
       ]
      }
     ],
     "prompt_number": 13
    },
    {
     "cell_type": "code",
     "collapsed": false,
     "input": [],
     "language": "python",
     "metadata": {},
     "outputs": [],
     "prompt_number": 15
    },
    {
     "cell_type": "code",
     "collapsed": false,
     "input": [],
     "language": "python",
     "metadata": {},
     "outputs": []
    }
   ],
   "metadata": {}
  }
 ]
}