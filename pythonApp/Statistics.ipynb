{
 "metadata": {
  "name": "",
  "signature": "sha256:14b8881e708f82d95abcccd4a9abed307ee28f120b8a6ae07f1a72fa5d1d4151"
 },
 "nbformat": 3,
 "nbformat_minor": 0,
 "worksheets": [
  {
   "cells": [
    {
     "cell_type": "code",
     "collapsed": false,
     "input": [
      "import json\n",
      "import string\n",
      "import numpy as np\n",
      "import matplotlib.pyplot as plt\n",
      "from IPython.display import display, HTML \n",
      "%matplotlib inline"
     ],
     "language": "python",
     "metadata": {},
     "outputs": [],
     "prompt_number": 67
    },
    {
     "cell_type": "code",
     "collapsed": false,
     "input": [
      "movies = json.load(open('../meteorApp/private/movie_data.json', 'r'))\n",
      "len(movies)"
     ],
     "language": "python",
     "metadata": {},
     "outputs": [
      {
       "metadata": {},
       "output_type": "pyout",
       "prompt_number": 2,
       "text": [
        "26447"
       ]
      }
     ],
     "prompt_number": 2
    },
    {
     "cell_type": "heading",
     "level": 2,
     "metadata": {},
     "source": [
      "Helper Functions"
     ]
    },
    {
     "cell_type": "code",
     "collapsed": false,
     "input": [
      "def sortBy(array, prop):\n",
      "    valid = [m for m in movies if prop in m and m[prop]]\n",
      "    return sorted(valid, key=lambda x: x[prop], reverse=True)"
     ],
     "language": "python",
     "metadata": {},
     "outputs": [],
     "prompt_number": 74
    },
    {
     "cell_type": "code",
     "collapsed": false,
     "input": [
      "def table(rows, array):\n",
      "    html = '<table>'\n",
      "    for i in range(len(array)):\n",
      "        html += '<tr>'\n",
      "        html += '<td><strong>' + rows[i] + ':</strong></td>'\n",
      "        for cell in array[i]:\n",
      "            html += '<td>' + str(cell) + '</td>'\n",
      "        html += '</tr>'\n",
      "    html += '</table>'\n",
      "    return HTML(html)"
     ],
     "language": "python",
     "metadata": {},
     "outputs": [],
     "prompt_number": 75
    },
    {
     "cell_type": "code",
     "collapsed": false,
     "input": [
      "def analyze(category):\n",
      "    sort = sortBy(movies, category);\n",
      "    data = [float(m[category]) for m in sort]\n",
      "    titles = [m['title'] for m in sort]\n",
      "\n",
      "    return {\n",
      "        'min':     min(data),\n",
      "        'max':     max(data),\n",
      "        'mean':    np.mean(data),\n",
      "        'median':  np.median(data),\n",
      "        'top':     string.join(titles[0:5], '<br>'),\n",
      "        'invalid': len(movies) - len(sort),\n",
      "        'm/m':     np.mean(data) / np.median(data)\n",
      "    }"
     ],
     "language": "python",
     "metadata": {},
     "outputs": [],
     "prompt_number": 95
    },
    {
     "cell_type": "code",
     "collapsed": false,
     "input": [
      "def visualise(category):\n",
      "    valid = [m for m in movies if category in m and m[category]]\n",
      "    data = [int(m[category]) for m in valid]\n",
      "    plt.hist(data, 124)\n",
      "    plt.show()"
     ],
     "language": "python",
     "metadata": {},
     "outputs": [],
     "prompt_number": 87
    },
    {
     "cell_type": "code",
     "collapsed": false,
     "input": [
      "def compare(props):\n",
      "    stats = dict()\n",
      "    for p in props: stats[p] = analyze(p)\n",
      "        \n",
      "    rows = ['min','max','mean','median','invalid', 'top', 'm/m']\n",
      "    data = [[stats[p][r] for p in props] for r in rows]\n",
      "        \n",
      "    display(table(rows, data))"
     ],
     "language": "python",
     "metadata": {},
     "outputs": [],
     "prompt_number": 96
    },
    {
     "cell_type": "heading",
     "level": 2,
     "metadata": {},
     "source": [
      "Analysis"
     ]
    },
    {
     "cell_type": "code",
     "collapsed": false,
     "input": [
      "def formatScore(movie, prop, maximum):\n",
      "    if prop in movie and movie[prop]:\n",
      "        return float(movie[prop])/maximum\n",
      "    else:\n",
      "        return none"
     ],
     "language": "python",
     "metadata": {},
     "outputs": [],
     "prompt_number": 93
    },
    {
     "cell_type": "code",
     "collapsed": false,
     "input": [
      "def formatLogScore(movie, prop, maximum):\n",
      "    if prop in movie and movie[prop]:\n",
      "        return 10.0 * math.log(prop) / math.log(maximum)\n",
      "    else:\n",
      "        return none;        "
     ],
     "language": "python",
     "metadata": {},
     "outputs": [],
     "prompt_number": 93
    },
    {
     "cell_type": "code",
     "collapsed": false,
     "input": [],
     "language": "python",
     "metadata": {},
     "outputs": []
    },
    {
     "cell_type": "code",
     "collapsed": false,
     "input": [],
     "language": "python",
     "metadata": {},
     "outputs": []
    },
    {
     "cell_type": "code",
     "collapsed": false,
     "input": [],
     "language": "python",
     "metadata": {},
     "outputs": []
    },
    {
     "cell_type": "code",
     "collapsed": false,
     "input": [],
     "language": "python",
     "metadata": {},
     "outputs": []
    },
    {
     "cell_type": "code",
     "collapsed": false,
     "input": [
      "movieScore.hello(1)"
     ],
     "language": "python",
     "metadata": {},
     "outputs": [
      {
       "ename": "TypeError",
       "evalue": "unbound method hello() must be called with movieScore instance as first argument (got int instance instead)",
       "output_type": "pyerr",
       "traceback": [
        "\u001b[0;31m---------------------------------------------------------------------------\u001b[0m\n\u001b[0;31mTypeError\u001b[0m                                 Traceback (most recent call last)",
        "\u001b[0;32m<ipython-input-94-4521f3c9e4e7>\u001b[0m in \u001b[0;36m<module>\u001b[0;34m()\u001b[0m\n\u001b[0;32m----> 1\u001b[0;31m \u001b[0mmovieScore\u001b[0m\u001b[0;34m.\u001b[0m\u001b[0mhello\u001b[0m\u001b[0;34m(\u001b[0m\u001b[0;36m1\u001b[0m\u001b[0;34m)\u001b[0m\u001b[0;34m\u001b[0m\u001b[0m\n\u001b[0m",
        "\u001b[0;31mTypeError\u001b[0m: unbound method hello() must be called with movieScore instance as first argument (got int instance instead)"
       ]
      }
     ],
     "prompt_number": 94
    },
    {
     "cell_type": "code",
     "collapsed": false,
     "input": [],
     "language": "python",
     "metadata": {},
     "outputs": []
    },
    {
     "cell_type": "code",
     "collapsed": false,
     "input": [
      "compare(['score_imdb', 'votes_imdb', 'score_rtaudience', 'score_rtcritics','score_metascore', 'budget', 'revenue'])"
     ],
     "language": "python",
     "metadata": {},
     "outputs": [
      {
       "html": [
        "<table><tr><td><strong>min:</strong></td><td>1.0</td><td>5.0</td><td>2.0</td><td>1.0</td><td>1.0</td><td>1.0</td><td>-50.0</td></tr><tr><td><strong>max:</strong></td><td>9.6</td><td>1330582.0</td><td>100.0</td><td>100.0</td><td>100.0</td><td>300000000.0</td><td>2781505847.0</td></tr><tr><td><strong>mean:</strong></td><td>6.30378399081</td><td>15338.9246237</td><td>60.6672398608</td><td>62.4324395604</td><td>56.1373102718</td><td>28240732.0627</td><td>87336356.563</td></tr><tr><td><strong>median:</strong></td><td>6.5</td><td>1055.0</td><td>63.0</td><td>67.0</td><td>57.0</td><td>14000000.0</td><td>29624145.5</td></tr><tr><td><strong>invalid:</strong></td><td>337</td><td>338</td><td>2604</td><td>15072</td><td>20781</td><td>21580</td><td>22367</td></tr><tr><td><strong>top:</strong></td><td>Joanna Makes a Friend<br>Outrageous Class<br>Well Now You're Here, There's No Way Back<br>Young Abraham<br>The Shawshank Redemption</td><td>The Shawshank Redemption<br>The Dark Knight<br>Inception<br>Fight Club<br>Pulp Fiction</td><td>Spider-Man<br>Mission: Impossible II<br>I, Robot<br>Downfall<br>Transporter 2</td><td>Toy Story 2<br>Toy Story<br>The Godfather<br>Mary Poppins<br>Pinocchio</td><td>The Godfather<br>Lawrence of Arabia<br>Boyhood<br>The Wizard of Oz<br>Fanny and Alexander</td><td>Pirates of the Caribbean: At World's End<br>Superman Returns<br>The Twilight Saga: Breaking Dawn - Part 1<br>Tangled<br>Spider-Man 3</td><td>Avatar<br>Titanic<br>The Avengers<br>Harry Potter and the Deathly Hallows: Part 2<br>Frozen</td></tr><tr><td><strong>m/m:</strong></td><td>0.969812921663</td><td>14.5392650462</td><td>0.962972061282</td><td>0.931827456126</td><td>0.984865092488</td><td>2.01719514733</td><td>2.94814770482</td></tr></table>"
       ],
       "metadata": {},
       "output_type": "display_data",
       "text": [
        "<IPython.core.display.HTML at 0x1087fb750>"
       ]
      }
     ],
     "prompt_number": 97
    },
    {
     "cell_type": "heading",
     "level": 2,
     "metadata": {},
     "source": [
      "Recommendations"
     ]
    },
    {
     "cell_type": "code",
     "collapsed": false,
     "input": [
      "def score(movie, prop, data):\n",
      "    s = 100\n",
      "    \n",
      "    rtAudienceScore = movie['score_rtaudience'] if 'score_rtaudience' in  movie else 60\n",
      "    s *= rtAudienceScore\n",
      "    \n",
      "    rtCriticsScore = movie['score_rtcritics'] if 'score_rtcritics' in  movie else 60\n",
      "    s *= rtCriticsScore\n",
      "    \n",
      "    \n",
      "    \n",
      "    \n",
      "    return s"
     ],
     "language": "python",
     "metadata": {},
     "outputs": []
    },
    {
     "cell_type": "code",
     "collapsed": false,
     "input": [],
     "language": "python",
     "metadata": {},
     "outputs": []
    },
    {
     "cell_type": "code",
     "collapsed": false,
     "input": [],
     "language": "python",
     "metadata": {},
     "outputs": []
    },
    {
     "cell_type": "code",
     "collapsed": false,
     "input": [],
     "language": "python",
     "metadata": {},
     "outputs": []
    },
    {
     "cell_type": "code",
     "collapsed": false,
     "input": [],
     "language": "python",
     "metadata": {},
     "outputs": []
    },
    {
     "cell_type": "code",
     "collapsed": false,
     "input": [],
     "language": "python",
     "metadata": {},
     "outputs": []
    },
    {
     "cell_type": "code",
     "collapsed": false,
     "input": [],
     "language": "python",
     "metadata": {},
     "outputs": []
    },
    {
     "cell_type": "code",
     "collapsed": false,
     "input": [],
     "language": "python",
     "metadata": {},
     "outputs": []
    },
    {
     "cell_type": "heading",
     "level": 2,
     "metadata": {},
     "source": [
      "Visualisations"
     ]
    },
    {
     "cell_type": "code",
     "collapsed": false,
     "input": [
      "def visualise(category):\n",
      "    valid = [m for m in movies if category in m and m[category]]\n",
      "    data = [int(m[category]) for m in valid]\n",
      "    sort = sorted(valid, key=lambda m: m[category], reverse=True)\n",
      "    for i in range(5):\n",
      "        print(str(sort[i]['title']) + ': ' + str(sort[i][category]))\n",
      "    plt.hist(data, 124)\n",
      "    plt.show()"
     ],
     "language": "python",
     "metadata": {},
     "outputs": [],
     "prompt_number": 23
    },
    {
     "cell_type": "code",
     "collapsed": false,
     "input": [
      "visualise('year')"
     ],
     "language": "python",
     "metadata": {},
     "outputs": [
      {
       "output_type": "stream",
       "stream": "stdout",
       "text": [
        "The Amazing Spider-Man 4: 2018\n",
        "Avatar 4: 2018\n",
        "Avatar 3: 2017\n",
        "The Lego Movie 2: 2017\n",
        "The Best Man Wedding: 2016\n"
       ]
      },
      {
       "metadata": {},
       "output_type": "display_data",
       "png": "[encoded data removed]",
       "text": [
        "<matplotlib.figure.Figure at 0xa7b80b8c>"
       ]
      }
     ],
     "prompt_number": 4
    },
    {
     "cell_type": "code",
     "collapsed": false,
     "input": [
      "visualise('popularity')"
     ],
     "language": "python",
     "metadata": {},
     "outputs": [
      {
       "output_type": "stream",
       "stream": "stdout",
       "text": [
        "The Shawshank Redemption: 1330582\n",
        "The Dark Knight: 1299062\n",
        "Inception: 1094254\n",
        "Fight Club: 1023209\n",
        "Pulp Fiction: 1019982\n"
       ]
      },
      {
       "metadata": {},
       "output_type": "display_data",
       "png": "[encoded data removed]",
       "text": [
        "<matplotlib.figure.Figure at 0xaf746b0c>"
       ]
      }
     ],
     "prompt_number": 5
    },
    {
     "cell_type": "code",
     "collapsed": false,
     "input": [
      "visualise('revenue')"
     ],
     "language": "python",
     "metadata": {},
     "outputs": [
      {
       "output_type": "stream",
       "stream": "stdout",
       "text": [
        "Avatar: 2781505847\n",
        "Titanic: 1845034188\n",
        "The Avengers: 1518594910\n",
        "Harry Potter and the Deathly Hallows: Part 2: 1327817822\n",
        "Frozen: 1274219009\n"
       ]
      },
      {
       "metadata": {},
       "output_type": "display_data",
       "png": "[encoded data removed]",
       "text": [
        "<matplotlib.figure.Figure at 0xaf4ed8ec>"
       ]
      }
     ],
     "prompt_number": 6
    },
    {
     "cell_type": "code",
     "collapsed": false,
     "input": [
      "visualise('budget')"
     ],
     "language": "python",
     "metadata": {},
     "outputs": [
      {
       "output_type": "stream",
       "stream": "stdout",
       "text": [
        "Pirates of the Caribbean: At World's End: 300000000\n",
        "Superman Returns: 270000000\n",
        "The Twilight Saga: Breaking Dawn - Part 1: 263000000\n",
        "Tangled: 260000000\n",
        "Spider-Man 3: 258000000\n"
       ]
      },
      {
       "metadata": {},
       "output_type": "display_data",
       "png": "[encoded data removed]",
       "text": [
        "<matplotlib.figure.Figure at 0xaf45dc0c>"
       ]
      }
     ],
     "prompt_number": 7
    },
    {
     "cell_type": "code",
     "collapsed": false,
     "input": [
      "visualise('runtime')"
     ],
     "language": "python",
     "metadata": {},
     "outputs": [
      {
       "output_type": "stream",
       "stream": "stdout",
       "text": [
        "The Cure For Insomnia: 5220\n",
        "Terror Tract: 2000\n",
        "Taken: 877\n",
        "The War: 874\n",
        "The Journey: 873\n"
       ]
      },
      {
       "metadata": {},
       "output_type": "display_data",
       "png": "[encoded data removed]",
       "text": [
        "<matplotlib.figure.Figure at 0xaf33a88c>"
       ]
      }
     ],
     "prompt_number": 8
    },
    {
     "cell_type": "heading",
     "level": 2,
     "metadata": {},
     "source": [
      "Search"
     ]
    },
    {
     "cell_type": "code",
     "collapsed": false,
     "input": [
      "def findByActor(name):\n",
      "    for m in [m for m in movies if name in m['actors']]:\n",
      "        print(str(m['title']))"
     ],
     "language": "python",
     "metadata": {},
     "outputs": [],
     "prompt_number": 9
    },
    {
     "cell_type": "code",
     "collapsed": false,
     "input": [
      "findByActor('Johnny Depp')"
     ],
     "language": "python",
     "metadata": {},
     "outputs": [
      {
       "output_type": "stream",
       "stream": "stdout",
       "text": [
        "Alice in Wonderland\n",
        "Pirates of the Caribbean: On Stranger Tides\n",
        "Finding Neverland\n",
        "Pirates of the Caribbean: Dead Man's Chest\n",
        "The Night Stalker\n",
        "Arizona Dream\n",
        "Sweeney Todd: The Demon Barber of Fleet Street\n",
        "Pirates of the Caribbean: The Curse of the Black Pearl\n",
        "Pirates of the Caribbean: At World's End\n",
        "The Ninth Gate\n",
        "Private Resort\n",
        "Dark Shadows\n",
        "Chocolat\n",
        "Cry-Baby\n",
        "Edward Scissorhands\n",
        "Charlie and the Chocolate Factory\n",
        "The Imaginarium of Doctor Parnassus\n",
        "Ed Wood\n",
        "Don Juan DeMarco\n",
        "Once Upon a Time in Mexico\n",
        "Nick of Time\n",
        "Dead Man\n",
        "The Astronaut's Wife\n",
        "Fear and Loathing in Las Vegas\n",
        "The Man Who Cried\n",
        "What's Eating Gilbert Grape\n",
        "Benny & Joon\n",
        "Sleepy Hollow\n",
        "Donnie Brasco\n",
        "Before Night Falls\n",
        "Secret Window\n",
        "Blow\n",
        "From Hell\n",
        "Corpse Bride\n",
        "Slow Burn\n",
        "Public Enemies\n",
        "The Rum Diary\n",
        "When You're Strange\n",
        "The Tourist\n",
        "Mortdecai\n",
        "Rango\n",
        "The Libertine\n",
        "The Brave\n",
        "The Lone Ranger\n",
        "Transcendence\n",
        "Tusk\n"
       ]
      }
     ],
     "prompt_number": 10
    },
    {
     "cell_type": "code",
     "collapsed": false,
     "input": [],
     "language": "python",
     "metadata": {},
     "outputs": [],
     "prompt_number": 10
    },
    {
     "cell_type": "code",
     "collapsed": false,
     "input": [],
     "language": "python",
     "metadata": {},
     "outputs": [],
     "prompt_number": 10
    },
    {
     "cell_type": "code",
     "collapsed": false,
     "input": [],
     "language": "python",
     "metadata": {},
     "outputs": [],
     "prompt_number": 10
    },
    {
     "cell_type": "code",
     "collapsed": false,
     "input": [],
     "language": "python",
     "metadata": {},
     "outputs": []
    }
   ],
   "metadata": {}
  }
 ]
}