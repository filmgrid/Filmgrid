{
 "metadata": {
  "name": "",
  "signature": "sha256:fcd13ced5c8d0efbbbcd30619db3eef06b7425fb6487369224f240e5618b2c32"
 },
 "nbformat": 3,
 "nbformat_minor": 0,
 "worksheets": [
  {
   "cells": [
    {
     "cell_type": "code",
     "collapsed": false,
     "input": [
      "import json\n",
      "import numpy as np\n",
      "\n",
      "from sklearn.cluster import DBSCAN\n",
      "from sklearn.cluster import KMeans\n",
      "from sklearn.datasets import load_digits\n",
      "from sklearn.decomposition import PCA\n",
      "from sklearn.preprocessing import scale"
     ],
     "language": "python",
     "metadata": {},
     "outputs": [],
     "prompt_number": 136
    },
    {
     "cell_type": "code",
     "collapsed": false,
     "input": [
      "movies = json.load(open('../meteorApp/private/movie_data.json', 'r'))\n",
      "len(movies)"
     ],
     "language": "python",
     "metadata": {},
     "outputs": [
      {
       "metadata": {},
       "output_type": "pyout",
       "prompt_number": 79,
       "text": [
        "5000"
       ]
      }
     ],
     "prompt_number": 79
    },
    {
     "cell_type": "heading",
     "level": 2,
     "metadata": {},
     "source": [
      "Distance Functions"
     ]
    },
    {
     "cell_type": "code",
     "collapsed": false,
     "input": [
      "def arrayDistance(a1, a2):\n",
      "    if len(a1) + len(a2) == 0: return 0.5\n",
      "    both = list(set(a1) & set(a2))\n",
      "    return 1 - 2.0 * len(both) / (len(a1) + len(a2))"
     ],
     "language": "python",
     "metadata": {},
     "outputs": [],
     "prompt_number": 96
    },
    {
     "cell_type": "code",
     "collapsed": false,
     "input": [
      "def movieDistance(m1, m2):\n",
      "    d1 = arrayDistance(m1['genres'], m2['genres'])\n",
      "    d2 = arrayDistance(m1['keywords'], m2['keywords'])\n",
      "    return 2*d1 + d2"
     ],
     "language": "python",
     "metadata": {},
     "outputs": [],
     "prompt_number": 166
    },
    {
     "cell_type": "heading",
     "level": 2,
     "metadata": {},
     "source": [
      "Movie Clustering"
     ]
    },
    {
     "cell_type": "code",
     "collapsed": false,
     "input": [
      "movieDistanceMatrix = np.zeros((len(movies), len(movies)))\n",
      "\n",
      "for i in range(len(movies)):\n",
      "    for j in range(i):\n",
      "        movieDistanceMatrix[i][j] = movieDistanceMatrix[j][i] = movieDistance(movies[i], movies[j])"
     ],
     "language": "python",
     "metadata": {},
     "outputs": [],
     "prompt_number": 138
    },
    {
     "cell_type": "code",
     "collapsed": false,
     "input": [
      "db = DBSCAN(min_samples=2, metric=\"precomputed\")\n",
      "db.fit(movieDistanceMatrix)\n",
      "result = db.labels_"
     ],
     "language": "python",
     "metadata": {},
     "outputs": [],
     "prompt_number": 149
    },
    {
     "cell_type": "code",
     "collapsed": false,
     "input": [
      "clusters = [[] for x in range(max(result))]\n",
      "\n",
      "for i in range(len(movies)):\n",
      "    if result[i] > 0:\n",
      "        clusters[result[i]-1].append(movies[i])"
     ],
     "language": "python",
     "metadata": {},
     "outputs": [],
     "prompt_number": 150
    },
    {
     "cell_type": "code",
     "collapsed": false,
     "input": [
      "map(lambda x: x['title'], clusters[5])"
     ],
     "language": "python",
     "metadata": {},
     "outputs": [
      {
       "metadata": {},
       "output_type": "pyout",
       "prompt_number": 165,
       "text": [
        "[u'The Nuns of Saint Archangel',\n",
        " u'The Effect of Gamma Rays on Man-in-the-Moon Marigolds',\n",
        " u'Mourning Becomes Electra']"
       ]
      }
     ],
     "prompt_number": 165
    },
    {
     "cell_type": "code",
     "collapsed": false,
     "input": [
      "len(clusters)"
     ],
     "language": "python",
     "metadata": {},
     "outputs": [
      {
       "metadata": {},
       "output_type": "pyout",
       "prompt_number": 151,
       "text": [
        "141"
       ]
      }
     ],
     "prompt_number": 151
    },
    {
     "cell_type": "heading",
     "level": 2,
     "metadata": {},
     "source": [
      "Sorting"
     ]
    },
    {
     "cell_type": "code",
     "collapsed": false,
     "input": [
      "favourites = []\n",
      "for i in range(len(movies)):\n",
      "    if movies[i]['title'].find(\"Potter\") != -1:\n",
      "        favourites.append(i)\n",
      "        print(i, movies[i]['title'])"
     ],
     "language": "python",
     "metadata": {},
     "outputs": [
      {
       "output_type": "stream",
       "stream": "stdout",
       "text": [
        "(3, u'Harry Potter and the Deathly Hallows: Part 2')\n",
        "(16, u\"Harry Potter and the Philosopher's Stone\")\n",
        "(20, u'Harry Potter and the Deathly Hallows: Part 1')\n",
        "(21, u'Harry Potter and the Order of the Phoenix')\n",
        "(22, u'Harry Potter and the Half-Blood Prince')\n",
        "(27, u'Harry Potter and the Goblet of Fire')\n",
        "(28, u'Harry Potter and the Chamber of Secrets')\n",
        "(41, u'Harry Potter and the Prisoner of Azkaban')\n"
       ]
      }
     ],
     "prompt_number": 171
    },
    {
     "cell_type": "code",
     "collapsed": false,
     "input": [
      "similarity = [sum(map(lambda x: movieDistanceMatrix[x][i], favourites)) for i in range(len(movies))]"
     ],
     "language": "python",
     "metadata": {},
     "outputs": [],
     "prompt_number": 172
    },
    {
     "cell_type": "code",
     "collapsed": false,
     "input": [
      "sortedMovies = [x for (y,x) in sorted(zip(similarity, movies))]"
     ],
     "language": "python",
     "metadata": {},
     "outputs": [],
     "prompt_number": 176
    },
    {
     "cell_type": "code",
     "collapsed": false,
     "input": [
      "map(lambda x: x['title'], sortedMovies[0:20])"
     ],
     "language": "python",
     "metadata": {},
     "outputs": [
      {
       "metadata": {},
       "output_type": "pyout",
       "prompt_number": 179,
       "text": [
        "[u'Harry Potter and the Order of the Phoenix',\n",
        " u'Harry Potter and the Goblet of Fire',\n",
        " u\"Harry Potter and the Philosopher's Stone\",\n",
        " u'Harry Potter and the Half-Blood Prince',\n",
        " u'Harry Potter and the Chamber of Secrets',\n",
        " u'Harry Potter and the Prisoner of Azkaban',\n",
        " u'Harry Potter and the Deathly Hallows: Part 1',\n",
        " u'Harry Potter and the Deathly Hallows: Part 2',\n",
        " u'The Ewok Adventure',\n",
        " u'The New Adventures of Pippi Longstocking',\n",
        " u'The Last Airbender',\n",
        " u'The Thief of Bagdad',\n",
        " u'The Monkey King',\n",
        " u'The Black Hole',\n",
        " u'Inkheart',\n",
        " u'Return to Oz',\n",
        " u'The Chronicles of Narnia: The Voyage of the Dawn Treader',\n",
        " u'Mighty Morphin Power Rangers: The Movie',\n",
        " u'The Chronicles of Narnia: Prince Caspian',\n",
        " u'Alice in Wonderland']"
       ]
      }
     ],
     "prompt_number": 179
    },
    {
     "cell_type": "code",
     "collapsed": false,
     "input": [
      "sortedMovies[3]['keywords']"
     ],
     "language": "python",
     "metadata": {},
     "outputs": [
      {
       "metadata": {},
       "output_type": "pyout",
       "prompt_number": 183,
       "text": [
        "[u'witch',\n",
        " u'broom',\n",
        " u'school of witchcraft',\n",
        " u'magic wand',\n",
        " u'magic broomstick',\n",
        " u'magic potion',\n",
        " u'wizardry',\n",
        " u'apparition',\n",
        " u'teenage crush',\n",
        " u'werewolf']"
       ]
      }
     ],
     "prompt_number": 183
    },
    {
     "cell_type": "code",
     "collapsed": false,
     "input": [],
     "language": "python",
     "metadata": {},
     "outputs": []
    }
   ],
   "metadata": {}
  }
 ]
}