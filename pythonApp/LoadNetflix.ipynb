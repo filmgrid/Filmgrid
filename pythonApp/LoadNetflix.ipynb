{
 "metadata": {
  "name": "",
  "signature": "sha256:4c9b63465b2f4d961c3060457c8708da41c907024b4442ba784f06f95a182726"
 },
 "nbformat": 3,
 "nbformat_minor": 0,
 "worksheets": [
  {
   "cells": [
    {
     "cell_type": "code",
     "collapsed": false,
     "input": [
      "import urllib2\n",
      "import json\n",
      "import difflib\n",
      "import string\n",
      "import sys\n",
      "import time\n",
      "from IPython.display import display, clear_output"
     ],
     "language": "python",
     "metadata": {},
     "outputs": [],
     "prompt_number": 1
    },
    {
     "cell_type": "heading",
     "level": 2,
     "metadata": {},
     "source": [
      "Our Movies"
     ]
    },
    {
     "cell_type": "code",
     "collapsed": false,
     "input": [
      "filmgridMovies = json.load(open('../meteorApp/private/movie_data.json', 'r'))\n",
      "len(filmgridMovies)"
     ],
     "language": "python",
     "metadata": {},
     "outputs": [
      {
       "metadata": {},
       "output_type": "pyout",
       "prompt_number": 25,
       "text": [
        "26447"
       ]
      }
     ],
     "prompt_number": 25
    },
    {
     "cell_type": "code",
     "collapsed": false,
     "input": [
      "filmgridMovieDict = dict();\n",
      "for m in filmgridMovies:\n",
      "    filmgridMovieDict['tt' + m['link_imdb']] = m"
     ],
     "language": "python",
     "metadata": {},
     "outputs": [],
     "prompt_number": 26
    },
    {
     "cell_type": "heading",
     "level": 2,
     "metadata": {},
     "source": [
      "Netflix Movies"
     ]
    },
    {
     "cell_type": "code",
     "collapsed": false,
     "input": [
      "netflixList = {\n",
      "    'us': 'http://www.allflicks.net/wp-content/themes/responsive/processing/processing_us.php',\n",
      "    'uk': 'http://www.allflicks.net/wp-content/themes/responsive/processing/processing_uk.php',\n",
      "    'fr': 'http://www.allflicks.fr/wp-content/themes/responsive/processing/processing.php',\n",
      "    'de': 'http://www.allflicks.de/wp-content/themes/responsive/processing/processing.php',\n",
      "    'ca': 'http://www.allflicks.net/wp-content/themes/responsive/processing/processing_ca.php',\n",
      "    'au': 'http://au.allflicks.net/wp-content/themes/responsive/processing/processing_au.php',\n",
      "    'nz': 'http://nz.allflicks.net/wp-content/themes/responsive/processing/processing_nz.php'\n",
      "}\n",
      "    \n",
      "netflixDetail = {\n",
      "    'us': 'http://www.allflicks.net/movies/',\n",
      "    'uk': 'http://www.allflicks.net/movies-uk/',\n",
      "    'fr': 'http://www.allflicks.fr/film/',\n",
      "    'de': 'http://www.allflicks.de/film/',\n",
      "    'ca': 'http://www.allflicks.net/movies-canada/',\n",
      "    'au': 'http://au.allflicks.net/movies/',\n",
      "    'nz': 'http://nz.allflicks.net/movies/'\n",
      "}\n",
      "\n",
      "netflixCountries = ['us', 'uk', 'fr', 'de', 'ca', 'au', 'nz']"
     ],
     "language": "python",
     "metadata": {},
     "outputs": [],
     "prompt_number": 4
    },
    {
     "cell_type": "code",
     "collapsed": false,
     "input": [
      "def addNetflixMovie(cache, country, movieId, title, year):\n",
      "    if movieId in netflixCache:\n",
      "        cache[movieId]['countries'].append(country)\n",
      "    else:\n",
      "        cache[movieId] = {\n",
      "            'title': title,\n",
      "            'year': year,\n",
      "            'countries': [country]\n",
      "        }\n",
      "        \n",
      "def loadNetflixForCountry(country):\n",
      "    response = urllib2.urlopen(netflixList[country] + \"?shows=false&movies=true&length=1&start=0\")\n",
      "    length = json.load(response)['recordsTotal']\n",
      "    response = urllib2.urlopen(netflixList[country] + \"?shows=false&movies=true&length=\" + str(length+1) + \"&start=0\")\n",
      "    return json.load(response)['data']\n",
      "\n",
      "def loadNetflix(cache):\n",
      "    for c in netflixCountries:\n",
      "        movies = loadNetflixForCountry(c);\n",
      "        for m in movies:\n",
      "            addNetflixMovie(cache, c, m['id'], m['title'], m['year'])"
     ],
     "language": "python",
     "metadata": {},
     "outputs": [],
     "prompt_number": 5
    },
    {
     "cell_type": "code",
     "collapsed": false,
     "input": [
      "def loadImdbIdForNetflix(cache):\n",
      "    i = 0\n",
      "    for m in cache:\n",
      "        i += 1\n",
      "        clear_output(wait=True)\n",
      "        print(i)\n",
      "        sys.stdout.flush()\n",
      "            \n",
      "        if 'imdb' in cache[m]: continue\n",
      "        html = urllib2.urlopen(netflixDetail[cache[m]['countries'][0]] + str(m)).read()\n",
      "        start = string.find(html, 'imdb')\n",
      "        \n",
      "        if start < 0:\n",
      "            cache[m]['imdb'] = False\n",
      "        else:\n",
      "            html = html[start+15:]\n",
      "            cache[m]['imdb'] = html[:string.find(html, '/')]"
     ],
     "language": "python",
     "metadata": {},
     "outputs": [],
     "prompt_number": 6
    },
    {
     "cell_type": "code",
     "collapsed": false,
     "input": [
      "netflixCache = dict()\n",
      "loadNetflix(netflixCache)\n",
      "len(netflixCache)"
     ],
     "language": "python",
     "metadata": {},
     "outputs": [
      {
       "metadata": {},
       "output_type": "pyout",
       "prompt_number": 7,
       "text": [
        "10330"
       ]
      }
     ],
     "prompt_number": 7
    },
    {
     "cell_type": "code",
     "collapsed": false,
     "input": [
      "loadImdbIdForNetflix(netflixCache)\n",
      "len([m for m in netflixCache if netflixCache[m]['imdb']])"
     ],
     "language": "python",
     "metadata": {},
     "outputs": [
      {
       "output_type": "stream",
       "stream": "stdout",
       "text": [
        "10330\n"
       ]
      },
      {
       "metadata": {},
       "output_type": "pyout",
       "prompt_number": 10,
       "text": [
        "8882"
       ]
      }
     ],
     "prompt_number": 10
    },
    {
     "cell_type": "code",
     "collapsed": false,
     "input": [
      "json.dump(netflixCache, open('netflix_movies.json', 'w'))"
     ],
     "language": "python",
     "metadata": {},
     "outputs": [],
     "prompt_number": 23
    },
    {
     "cell_type": "heading",
     "level": 2,
     "metadata": {},
     "source": [
      "Match Movies"
     ]
    },
    {
     "cell_type": "code",
     "collapsed": false,
     "input": [
      "for m in netflixCache:\n",
      "    imdbId = netflixCache[m]['imdb']\n",
      "    if imdbId and imdbId in filmgridMovieDict:\n",
      "        filmgridMovieDict[imdbId]['streaming'] = {\n",
      "            'netflix': {\n",
      "                'id': m,\n",
      "                'countries': netflixCache[m]['countries']\n",
      "            }\n",
      "        }"
     ],
     "language": "python",
     "metadata": {},
     "outputs": [],
     "prompt_number": 27
    },
    {
     "cell_type": "code",
     "collapsed": false,
     "input": [
      "len([m for m in filmgridMovies if 'streaming' in m])"
     ],
     "language": "python",
     "metadata": {},
     "outputs": [
      {
       "metadata": {},
       "output_type": "pyout",
       "prompt_number": 28,
       "text": [
        "3689"
       ]
      }
     ],
     "prompt_number": 28
    },
    {
     "cell_type": "code",
     "collapsed": false,
     "input": [
      "json.dump(filmgridMovies, open('../meteorApp/private/movie_data.json', 'w'))"
     ],
     "language": "python",
     "metadata": {},
     "outputs": [],
     "prompt_number": 29
    },
    {
     "cell_type": "code",
     "collapsed": false,
     "input": [],
     "language": "python",
     "metadata": {},
     "outputs": []
    }
   ],
   "metadata": {}
  }
 ]
}