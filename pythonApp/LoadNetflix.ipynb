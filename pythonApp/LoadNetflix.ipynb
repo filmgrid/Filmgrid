{
 "metadata": {
  "name": "",
  "signature": "sha256:a5f3eeba3bc7720d25579b3bd06fc730da4ccadcbb8afae7e370c02848d36247"
 },
 "nbformat": 3,
 "nbformat_minor": 0,
 "worksheets": [
  {
   "cells": [
    {
     "cell_type": "code",
     "collapsed": false,
     "input": [
      "import urllib2\n",
      "import json\n",
      "import difflib\n",
      "import string\n",
      "import sys\n",
      "import time\n",
      "from IPython.display import display, clear_output\n",
      "import re\n",
      "\n",
      "import requests\n",
      "from functools import partial"
     ],
     "language": "python",
     "metadata": {},
     "outputs": [],
     "prompt_number": 28
    },
    {
     "cell_type": "heading",
     "level": 2,
     "metadata": {},
     "source": [
      "Our Movies"
     ]
    },
    {
     "cell_type": "code",
     "collapsed": false,
     "input": [
      "omdbMovies = json.load(open('raw_omdb.json', 'r'))"
     ],
     "language": "python",
     "metadata": {},
     "outputs": [],
     "prompt_number": 3
    },
    {
     "cell_type": "code",
     "collapsed": false,
     "input": [
      "filmgridMovieDict = dict();\n",
      "for m in filmgridMovies:\n",
      "    filmgridMovieDict['tt' + m['link_imdb']] = m"
     ],
     "language": "python",
     "metadata": {},
     "outputs": [],
     "prompt_number": 26
    },
    {
     "cell_type": "heading",
     "level": 2,
     "metadata": {},
     "source": [
      "Netflix Movies"
     ]
    },
    {
     "cell_type": "code",
     "collapsed": false,
     "input": [
      "netflixList = {\n",
      "    'us': 'http://www.allflicks.net/wp-content/themes/responsive/processing/processing_us.php',\n",
      "    'uk': 'http://www.allflicks.net/wp-content/themes/responsive/processing/processing_uk.php',\n",
      "    'fr': 'http://www.allflicks.fr/wp-content/themes/responsive/processing/processing.php',\n",
      "    'de': 'http://www.allflicks.de/wp-content/themes/responsive/processing/processing.php',\n",
      "    'ca': 'http://www.allflicks.net/wp-content/themes/responsive/processing/processing_ca.php',\n",
      "    'au': 'http://au.allflicks.net/wp-content/themes/responsive/processing/processing_au.php',\n",
      "    'nz': 'http://nz.allflicks.net/wp-content/themes/responsive/processing/processing_nz.php'\n",
      "}\n",
      "\n",
      "netflixDetail = {\n",
      "    'us': 'http://www.allflicks.net/movies/',\n",
      "    'uk': 'http://www.allflicks.net/movies-uk/',\n",
      "    'fr': 'http://www.allflicks.fr/film/',\n",
      "    'de': 'http://www.allflicks.de/film/',\n",
      "    'ca': 'http://www.allflicks.net/movies-canada/',\n",
      "    'au': 'http://au.allflicks.net/movies/',\n",
      "    'nz': 'http://nz.allflicks.net/movies/'\n",
      "}\n",
      "\n",
      "netflixCountries = ['us', 'uk', 'fr', 'de', 'ca', 'au', 'nz']"
     ],
     "language": "python",
     "metadata": {},
     "outputs": [],
     "prompt_number": 6
    },
    {
     "cell_type": "code",
     "collapsed": false,
     "input": [
      "def addNetflixMovie(cache, country, movieId, title, year):\n",
      "    if movieId in netflixCache:\n",
      "        cache[movieId]['countries'].append(country)\n",
      "    else:\n",
      "        cache[movieId] = {\n",
      "            'title': title,\n",
      "            'year': year,\n",
      "            'countries': [country]\n",
      "        }\n",
      "        \n",
      "def loadNetflixForCountry(country):\n",
      "    response = urllib2.urlopen(netflixList[country] + \"?shows=false&movies=true&length=1&start=0\")\n",
      "    length = json.load(response)['recordsTotal']\n",
      "    response = urllib2.urlopen(netflixList[country] + \"?shows=false&movies=true&length=\" + str(length+1) + \"&start=0\")\n",
      "    return json.load(response)['data']\n",
      "\n",
      "def loadNetflix(cache):\n",
      "    for c in netflixCountries:\n",
      "        movies = loadNetflixForCountry(c);\n",
      "        for m in movies:\n",
      "            addNetflixMovie(cache, c, m['id'], m['title'], m['year'])"
     ],
     "language": "python",
     "metadata": {},
     "outputs": [],
     "prompt_number": 4
    },
    {
     "cell_type": "code",
     "collapsed": false,
     "input": [
      "netflixMovies = loadNetflixForCountry('uk')\n",
      "len(netflixMovies)"
     ],
     "language": "python",
     "metadata": {},
     "outputs": []
    },
    {
     "cell_type": "code",
     "collapsed": false,
     "input": [
      "omdbTitleDict = dict();\n",
      "\n",
      "for m in omdbMovies:\n",
      "    title = re.sub('[^A-Za-z0-9\\s]+', '', m['Title']).lower()\n",
      "    if (title not in omdbTitleDict): omdbTitleDict[title] = [];\n",
      "    omdbTitleDict[title].append(m);"
     ],
     "language": "python",
     "metadata": {},
     "outputs": [],
     "prompt_number": 30
    },
    {
     "cell_type": "code",
     "collapsed": false,
     "input": [
      "failedMatched = []\n",
      "successfulMatches = []\n",
      "multipleMatches = []\n",
      "\n",
      "for m in netflixMovies:\n",
      "    title = re.sub('[^A-Za-z0-9\\s]+', '', m['title']).lower()\n",
      "    if title in omdbTitleDict:\n",
      "        year = int(m['year'])\n",
      "        canidates = [x for x in omdbTitleDict[title] if x['Year'] == year]\n",
      "        if len(canidates) == 0:\n",
      "            failedMatched.append(m)\n",
      "        elif len(canidates) == 1:\n",
      "            successfulMatches.append((m, canidates[0]))\n",
      "        else:\n",
      "            multipleMatches.append((m, canidates))\n",
      "    else:\n",
      "        failedMatched.append(m)\n",
      "        \n",
      "print(len(failedMatched), len(successfulMatches), len(multipleMatches))"
     ],
     "language": "python",
     "metadata": {},
     "outputs": [
      {
       "output_type": "stream",
       "stream": "stdout",
       "text": [
        "(1002, 1666, 56)\n"
       ]
      }
     ],
     "prompt_number": 35
    },
    {
     "cell_type": "code",
     "collapsed": false,
     "input": [
      "failedMatched[0]"
     ],
     "language": "python",
     "metadata": {},
     "outputs": [
      {
       "metadata": {},
       "output_type": "pyout",
       "prompt_number": 54,
       "text": [
        "{u'available': u'09 Sep 2014',\n",
        " u'box_art': u'<img src=\"http://cdn0.nflximg.net/images/3056/9853056.jpg\" width=\"55\" alt=\"Thumbnail\">',\n",
        " u'cast': u'Graham Chapman, John Cleese, Terry Gilliam, Eric Idle, Terry Jones, Michael Palin, Carol Cleveland, Connie Booth',\n",
        " u'category': u'Comedies',\n",
        " u'director': u'Ian MacNaughton',\n",
        " u'id': u'255432',\n",
        " u'rating': u'3.7',\n",
        " u'title': u\"Monty Python's And Now for Something Completely Different\",\n",
        " u'year': u'1971'}"
       ]
      }
     ],
     "prompt_number": 54
    },
    {
     "cell_type": "code",
     "collapsed": false,
     "input": [
      "import tmdbsimple as tmdb  # pip install tmdbsimple\n",
      "tmdb.API_KEY = '2a50430216cd531275198faae3531bb4'"
     ],
     "language": "python",
     "metadata": {},
     "outputs": [],
     "prompt_number": 38
    },
    {
     "cell_type": "code",
     "collapsed": false,
     "input": [
      "tmdb.Search().movie(query='Monty Python\\'s And Now for Something Completely Different')"
     ],
     "language": "python",
     "metadata": {},
     "outputs": [
      {
       "metadata": {},
       "output_type": "pyout",
       "prompt_number": 56,
       "text": [
        "{u'page': 1,\n",
        " u'results': [{u'adult': False,\n",
        "   u'backdrop_path': u'/fyemcugbcwcP9xvgRBFbKg8vo2M.jpg',\n",
        "   u'genre_ids': [35],\n",
        "   u'id': 9267,\n",
        "   u'original_language': u'en',\n",
        "   u'original_title': u'And Now for Something Completely Different',\n",
        "   u'overview': u\"And Now for Something Completely Different is a film spin-off from the television comedy series Monty Python's Flying Circus featuring favourite sketches from the first two seasons.\",\n",
        "   u'popularity': 1.548851,\n",
        "   u'poster_path': u'/CA5EsQBOnJFMN9YaKgRgrXnR9O.jpg',\n",
        "   u'release_date': u'1971-09-28',\n",
        "   u'title': u'And Now for Something Completely Different',\n",
        "   u'video': False,\n",
        "   u'vote_average': 7.0,\n",
        "   u'vote_count': 25}],\n",
        " u'total_pages': 1,\n",
        " u'total_results': 1}"
       ]
      }
     ],
     "prompt_number": 56
    },
    {
     "cell_type": "code",
     "collapsed": false,
     "input": [],
     "language": "python",
     "metadata": {},
     "outputs": [
      {
       "metadata": {},
       "output_type": "pyout",
       "prompt_number": 8,
       "text": [
        "2724"
       ]
      }
     ],
     "prompt_number": 8
    },
    {
     "cell_type": "code",
     "collapsed": false,
     "input": [
      "def treat(nMovie):\n",
      "    matches = [m for m in omdbMovies if m['Title'] == nMovie['title'] and m['Year'] == int(nMovie['year'])]\n",
      "    return len(matches)\n",
      "\n",
      "map(treat, netflixMovies[0:10])"
     ],
     "language": "python",
     "metadata": {},
     "outputs": [
      {
       "metadata": {},
       "output_type": "pyout",
       "prompt_number": 27,
       "text": [
        "[1, 1, 1, 0, 1, 1, 1, 1, 1, 1]"
       ]
      }
     ],
     "prompt_number": 27
    },
    {
     "cell_type": "code",
     "collapsed": false,
     "input": [
      "netflixMovies[0]['year']"
     ],
     "language": "python",
     "metadata": {},
     "outputs": [
      {
       "metadata": {},
       "output_type": "pyout",
       "prompt_number": 26,
       "text": [
        "u'1991'"
       ]
      }
     ],
     "prompt_number": 26
    },
    {
     "cell_type": "code",
     "collapsed": false,
     "input": [
      "netflixMovies[1]"
     ],
     "language": "python",
     "metadata": {},
     "outputs": [
      {
       "metadata": {},
       "output_type": "pyout",
       "prompt_number": 53,
       "text": [
        "{u'available': u'09 Sep 2014',\n",
        " u'box_art': u'<img src=\"http://cdn1.nflximg.net/images/2115/152115.jpg\" width=\"55\" alt=\"Thumbnail\">',\n",
        " u'cast': u\"Elisabeth Shue, Maria Brewton, Keith Coogan, Anthony Rapp, Calvin Levels, Vincent D'Onofrio, Penelope Ann Miller, George Newbern\",\n",
        " u'category': u'Comedies',\n",
        " u'director': u'Chris Columbus',\n",
        " u'id': u'219378',\n",
        " u'rating': u'3.5',\n",
        " u'title': u'Adventures in Babysitting',\n",
        " u'year': u'1987'}"
       ]
      }
     ],
     "prompt_number": 53
    },
    {
     "cell_type": "code",
     "collapsed": false,
     "input": [],
     "language": "python",
     "metadata": {},
     "outputs": []
    },
    {
     "cell_type": "code",
     "collapsed": false,
     "input": [],
     "language": "python",
     "metadata": {},
     "outputs": []
    },
    {
     "cell_type": "code",
     "collapsed": false,
     "input": [],
     "language": "python",
     "metadata": {},
     "outputs": []
    },
    {
     "cell_type": "code",
     "collapsed": false,
     "input": [],
     "language": "python",
     "metadata": {},
     "outputs": []
    },
    {
     "cell_type": "code",
     "collapsed": false,
     "input": [
      "def loadImdbIdForNetflix(cache):\n",
      "    i = 0\n",
      "    for m in cache:\n",
      "        i += 1\n",
      "        clear_output(wait=True)\n",
      "        print(i)\n",
      "        sys.stdout.flush()\n",
      "            \n",
      "        if 'imdb' in cache[m]: continue\n",
      "        html = urllib2.urlopen(netflixDetail[cache[m]['countries'][0]] + str(m)).read()\n",
      "        start = string.find(html, 'imdb')\n",
      "        \n",
      "        if start < 0:\n",
      "            cache[m]['imdb'] = False\n",
      "        else:\n",
      "            html = html[start+15:]\n",
      "            cache[m]['imdb'] = html[:string.find(html, '/')]"
     ],
     "language": "python",
     "metadata": {},
     "outputs": [],
     "prompt_number": 6
    },
    {
     "cell_type": "code",
     "collapsed": false,
     "input": [
      "netflixCache = dict()\n",
      "loadNetflix(netflixCache)\n",
      "len(netflixCache)"
     ],
     "language": "python",
     "metadata": {},
     "outputs": [
      {
       "metadata": {},
       "output_type": "pyout",
       "prompt_number": 7,
       "text": [
        "10330"
       ]
      }
     ],
     "prompt_number": 7
    },
    {
     "cell_type": "code",
     "collapsed": false,
     "input": [
      "loadImdbIdForNetflix(netflixCache)\n",
      "len([m for m in netflixCache if netflixCache[m]['imdb']])"
     ],
     "language": "python",
     "metadata": {},
     "outputs": [
      {
       "output_type": "stream",
       "stream": "stdout",
       "text": [
        "10330\n"
       ]
      },
      {
       "metadata": {},
       "output_type": "pyout",
       "prompt_number": 10,
       "text": [
        "8882"
       ]
      }
     ],
     "prompt_number": 10
    },
    {
     "cell_type": "code",
     "collapsed": false,
     "input": [
      "json.dump(netflixCache, open('netflix_movies.json', 'w'))"
     ],
     "language": "python",
     "metadata": {},
     "outputs": [],
     "prompt_number": 23
    },
    {
     "cell_type": "heading",
     "level": 2,
     "metadata": {},
     "source": [
      "Match Movies"
     ]
    },
    {
     "cell_type": "code",
     "collapsed": false,
     "input": [
      "for m in netflixCache:\n",
      "    imdbId = netflixCache[m]['imdb']\n",
      "    if imdbId and imdbId in filmgridMovieDict:\n",
      "        filmgridMovieDict[imdbId]['streaming'] = {\n",
      "            'netflix': {\n",
      "                'id': m,\n",
      "                'countries': netflixCache[m]['countries']\n",
      "            }\n",
      "        }"
     ],
     "language": "python",
     "metadata": {},
     "outputs": [],
     "prompt_number": 27
    },
    {
     "cell_type": "code",
     "collapsed": false,
     "input": [
      "len([m for m in filmgridMovies if 'streaming' in m])"
     ],
     "language": "python",
     "metadata": {},
     "outputs": [
      {
       "metadata": {},
       "output_type": "pyout",
       "prompt_number": 28,
       "text": [
        "3689"
       ]
      }
     ],
     "prompt_number": 28
    },
    {
     "cell_type": "code",
     "collapsed": false,
     "input": [
      "json.dump(filmgridMovies, open('../meteorApp/private/movie_data.json', 'w'))"
     ],
     "language": "python",
     "metadata": {},
     "outputs": [],
     "prompt_number": 29
    },
    {
     "cell_type": "code",
     "collapsed": false,
     "input": [],
     "language": "python",
     "metadata": {},
     "outputs": []
    },
    {
     "cell_type": "code",
     "collapsed": false,
     "input": [],
     "language": "python",
     "metadata": {},
     "outputs": []
    },
    {
     "cell_type": "code",
     "collapsed": false,
     "input": [],
     "language": "python",
     "metadata": {},
     "outputs": []
    },
    {
     "cell_type": "code",
     "collapsed": false,
     "input": [
      "def search(movie):\n",
      "    r = requests.get('http://www.canistream.it/services/search',\n",
      "            params={'movieName': movie}, \n",
      "            headers={\n",
      "                'User-Agent': \n",
      "                    'Mozilla/5.0 (Macintosh; Intel Mac OS X 10_10_3) AppleWebKit/537.36'\n",
      "                    '(KHTML, like Gecko) Chrome/42.0.2311.135 Safari/537.36'})\n",
      "    return r.json()\n",
      "\n",
      "def movie(movie_id):\n",
      "    r = requests.get('http://www.canistream.it/services/query',\n",
      "            params={'movieId': movie_id,\n",
      "                    'attributes': '1',\n",
      "                    'mediaType': 'streaming'},\n",
      "            headers={\n",
      "                'User-Agent': \n",
      "                    'Mozilla/5.0 (Macintosh; Intel Mac OS X 10_10_3) AppleWebKit/537.36'\n",
      "                    '(KHTML, like Gecko) Chrome/42.0.2311.135 Safari/537.36'})\n",
      "    return r.json()"
     ],
     "language": "python",
     "metadata": {},
     "outputs": [],
     "prompt_number": 16
    },
    {
     "cell_type": "code",
     "collapsed": false,
     "input": [
      "movie(search('Lord of the Rings')[0]['_id'])"
     ],
     "language": "python",
     "metadata": {},
     "outputs": [
      {
       "metadata": {},
       "output_type": "pyout",
       "prompt_number": 17,
       "text": [
        "[]"
       ]
      }
     ],
     "prompt_number": 17
    },
    {
     "cell_type": "code",
     "collapsed": false,
     "input": [
      "search('Lord of the Rings')[0]"
     ],
     "language": "python",
     "metadata": {},
     "outputs": [
      {
       "metadata": {},
       "output_type": "pyout",
       "prompt_number": 18,
       "text": [
        "{u'_id': u'4fa29cebf5f807912a000000',\n",
        " u'actors': u'Elijah Wood, Sean Astin, Ian McKellen',\n",
        " u'description': u'',\n",
        " u'image': u'http://image.tmdb.org/t/p/w342/50LoR9gJhbWZ5PpoHgi8MNTYgzd.jpg',\n",
        " u'image_last_updated': 1431179969,\n",
        " u'links': {u'imdb': u'http://www.imdb.com/title/tt0167260/',\n",
        "  u'rottentomatoes': u'http://www.rottentomatoes.com/m/the_lord_of_the_rings_the_return_of_the_king/',\n",
        "  u'shortUrl': u'http://www.canistream.it/search/movie/4fa29cebf5f807912a000000/the-lord-of-the-rings-the-return-of-the-king'},\n",
        " u'rating': 4.75,\n",
        " u'title': u'The Lord of the Rings: The Return of the King',\n",
        " u'year': 2003}"
       ]
      }
     ],
     "prompt_number": 18
    },
    {
     "cell_type": "code",
     "collapsed": false,
     "input": [],
     "language": "python",
     "metadata": {},
     "outputs": []
    }
   ],
   "metadata": {}
  }
 ]
}