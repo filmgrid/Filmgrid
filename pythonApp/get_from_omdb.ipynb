{
 "metadata": {
  "name": "",
  "signature": "sha256:0eaee3786f6a3457f4cdfa1c214bb99958926effe72291ab40cff2bc1bdb3710"
 },
 "nbformat": 3,
 "nbformat_minor": 0,
 "worksheets": [
  {
   "cells": [
    {
     "cell_type": "code",
     "collapsed": false,
     "input": [
      "import omdb\n",
      "import json\n",
      "import pymongo\n",
      "from pymongo import MongoClient"
     ],
     "language": "python",
     "metadata": {},
     "outputs": [],
     "prompt_number": 35
    },
    {
     "cell_type": "heading",
     "level": 1,
     "metadata": {},
     "source": [
      "Load Data From OMDB"
     ]
    },
    {
     "cell_type": "code",
     "collapsed": false,
     "input": [
      "titles = json.load(open('movie_titles.json', 'r'))"
     ],
     "language": "python",
     "metadata": {},
     "outputs": [],
     "prompt_number": 18
    },
    {
     "cell_type": "code",
     "collapsed": false,
     "input": [
      "raw_data = map(lambda x: omdb.title(x), titles)\n",
      "print(len(raw_data), ' items loaded')"
     ],
     "language": "python",
     "metadata": {},
     "outputs": []
    },
    {
     "cell_type": "code",
     "collapsed": false,
     "input": [
      "filtered_data = filter(lambda x: hasattr(x, 'title'), raw_data)\n",
      "print(len(filtered_data), ' items after filter')"
     ],
     "language": "python",
     "metadata": {},
     "outputs": [
      {
       "output_type": "stream",
       "stream": "stdout",
       "text": [
        "(9, ' items after filter')\n"
       ]
      }
     ],
     "prompt_number": 21
    },
    {
     "cell_type": "code",
     "collapsed": false,
     "input": [
      "json.dump(filtered_data, open('movie_data.json', 'w'))"
     ],
     "language": "python",
     "metadata": {},
     "outputs": [],
     "prompt_number": 22
    },
    {
     "cell_type": "code",
     "collapsed": false,
     "input": [],
     "language": "python",
     "metadata": {},
     "outputs": [],
     "prompt_number": 22
    },
    {
     "cell_type": "code",
     "collapsed": false,
     "input": [],
     "language": "python",
     "metadata": {},
     "outputs": [],
     "prompt_number": 22
    },
    {
     "cell_type": "code",
     "collapsed": false,
     "input": [],
     "language": "python",
     "metadata": {},
     "outputs": [],
     "prompt_number": 22
    },
    {
     "cell_type": "code",
     "collapsed": false,
     "input": [],
     "language": "python",
     "metadata": {},
     "outputs": [],
     "prompt_number": 37
    },
    {
     "cell_type": "code",
     "collapsed": false,
     "input": [
      "omdb.title('1 vs 100')"
     ],
     "language": "python",
     "metadata": {},
     "outputs": [
      {
       "metadata": {},
       "output_type": "pyout",
       "prompt_number": 39,
       "text": [
        "Item({'plot': u'The Australian version of the elimination quiz where one contestant must eliminate a mob of 100 people to win the $1 million prize.', 'rated': u'N/A', 'language': u'English', 'title': u'1 vs 100', 'country': u'Australia', 'writer': u'N/A', 'year': u'2007\\u2013', 'metascore': u'N/A', 'imdb_id': u'tt0949786', 'director': u'N/A', 'released': u'29 Jan 2007', 'imdb_rating': u'6.4', 'awards': u'N/A', 'poster': u'N/A', 'genre': u'Game-Show', 'actors': u'Eddie McGuire', 'runtime': u'N/A', 'type': u'series', 'response': u'True', 'imdb_votes': u'70'})"
       ]
      }
     ],
     "prompt_number": 39
    },
    {
     "cell_type": "code",
     "collapsed": false,
     "input": [],
     "language": "python",
     "metadata": {},
     "outputs": [],
     "prompt_number": 37
    },
    {
     "cell_type": "code",
     "collapsed": false,
     "input": [],
     "language": "python",
     "metadata": {},
     "outputs": [],
     "prompt_number": 0
    },
    {
     "cell_type": "code",
     "collapsed": false,
     "input": [],
     "language": "python",
     "metadata": {},
     "outputs": [],
     "prompt_number": 0
    },
    {
     "cell_type": "heading",
     "level": 1,
     "metadata": {},
     "source": [
      "Fix DB"
     ]
    },
    {
     "cell_type": "code",
     "collapsed": false,
     "input": [
      "movies = json.load(open('movie_data.json', 'r'))"
     ],
     "language": "python",
     "metadata": {},
     "outputs": [],
     "prompt_number": 87
    },
    {
     "cell_type": "code",
     "collapsed": false,
     "input": [
      "movies[10100]"
     ],
     "language": "python",
     "metadata": {},
     "outputs": [
      {
       "metadata": {},
       "output_type": "pyout",
       "prompt_number": 27,
       "text": [
        "{u'actors': u'Mark Miller, Donovan Scott, Bridgette Andersen, Chris Robinson',\n",
        " u'awards': u'2 nominations.',\n",
        " u'country': u'USA',\n",
        " u'director': u'Pierre De Moro',\n",
        " u'genre': u'Comedy, Family',\n",
        " u'imdb_id': u'tt0084633',\n",
        " u'imdb_rating': u'7.2',\n",
        " u'imdb_votes': u'1,261',\n",
        " u'language': u'English',\n",
        " u'metascore': u'N/A',\n",
        " u'plot': u'The young daughter of a politician runs away due to lack of attention. She hides in the car of two not too bright crooks who are slowly converted into parent figures as the police web ...',\n",
        " u'poster': u'http://ia.media-imdb.com/images/M/MV5BMTM5NDQzMDQ1M15BMl5BanBnXkFtZTcwMjI5NzUzMQ@@._V1_SX300.jpg',\n",
        " u'rated': u'PG',\n",
        " u'released': u'01 May 1982',\n",
        " u'response': u'True',\n",
        " u'runtime': u'105 min',\n",
        " u'title': u'Savannah Smiles',\n",
        " u'type': u'movie',\n",
        " u'writer': u'Mark Miller (screenplay), Mark Miller (story)',\n",
        " u'year': u'1982'}"
       ]
      }
     ],
     "prompt_number": 27
    },
    {
     "cell_type": "code",
     "collapsed": false,
     "input": [
      "for i in range(len(movies)):\n",
      "    \n",
      "    if movies[i]['imdb_rating'] == 'N/A':\n",
      "        movies[i]['imdb_rating'] = None\n",
      "    elif (movies[i]['imdb_rating'] != None):\n",
      "        movies[i]['imdb_rating'] = float(movies[i]['imdb_rating'])\n",
      "    \n",
      "    if movies[i]['imdb_votes']  == 'N/A':\n",
      "        movies[i]['imdb_votes']  = None\n",
      "    elif (not isinstance(movies[i]['imdb_votes'], int)) and (movies[i]['imdb_votes'] != None):\n",
      "        movies[i]['imdb_votes'] = int(movies[i]['imdb_votes'].replace(',',''))\n",
      "    \n",
      "    if movies[i]['metascore'] == 'N/A':\n",
      "        movies[i]['metascore'] = None\n",
      "    elif (movies[i]['metascore'] != None):\n",
      "        movies[i]['metascore'] = int(movies[i]['metascore'])\n",
      "    \n",
      "    if movies[i]['year'] == 'N/A':\n",
      "        movies[i]['year'] = None\n",
      "    elif (not isinstance(movies[i]['year'], int)) and (movies[i]['year'] != None):\n",
      "        movies[i]['year'] = int(movies[i]['year'][0:4])"
     ],
     "language": "python",
     "metadata": {},
     "outputs": [],
     "prompt_number": 88
    },
    {
     "cell_type": "code",
     "collapsed": false,
     "input": [
      "json.dump(movies, open('movie_data.json', 'w'))"
     ],
     "language": "python",
     "metadata": {},
     "outputs": [],
     "prompt_number": 91
    },
    {
     "cell_type": "code",
     "collapsed": false,
     "input": [
      "uri = 'mongodb://localhost/appdb'\n",
      "client = MongoClient(uri)\n",
      "client.appdb.movies.remove()\n",
      "for movie in movies:\n",
      "    client.appdb.movies.insert(movie)\n",
      "    "
     ],
     "language": "python",
     "metadata": {},
     "outputs": [],
     "prompt_number": 92
    },
    {
     "cell_type": "code",
     "collapsed": false,
     "input": [
      "for i in range(len(movies)):\n",
      "    if movies[i]['imdb_id'] == 'tt0159097':\n",
      "        print(i)\n"
     ],
     "language": "python",
     "metadata": {},
     "outputs": [
      {
       "output_type": "stream",
       "stream": "stdout",
       "text": [
        "9478\n"
       ]
      }
     ],
     "prompt_number": 78
    },
    {
     "cell_type": "code",
     "collapsed": false,
     "input": [
      "votes = movies[9478]['imdb_votes']\n",
      "(not isinstance(votes, int)) and (votes != None)\n",
      "int(votes.replace(',',''))"
     ],
     "language": "python",
     "metadata": {},
     "outputs": [
      {
       "metadata": {},
       "output_type": "pyout",
       "prompt_number": 82,
       "text": [
        "99787"
       ]
      }
     ],
     "prompt_number": 82
    },
    {
     "cell_type": "code",
     "collapsed": false,
     "input": [
      "movies[9478]['imdb_votes']"
     ],
     "language": "python",
     "metadata": {},
     "outputs": [
      {
       "metadata": {},
       "output_type": "pyout",
       "prompt_number": 90,
       "text": [
        "99787"
       ]
      }
     ],
     "prompt_number": 90
    },
    {
     "cell_type": "code",
     "collapsed": false,
     "input": [],
     "language": "python",
     "metadata": {},
     "outputs": []
    }
   ],
   "metadata": {}
  }
 ]
}