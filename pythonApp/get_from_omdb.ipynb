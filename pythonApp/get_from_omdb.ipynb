{
 "metadata": {
  "name": "",
  "signature": "sha256:b4705282c641ef860b753b7b8caae51d43dceb5175182f7fa849aabec96040db"
 },
 "nbformat": 3,
 "nbformat_minor": 0,
 "worksheets": [
  {
   "cells": [
    {
     "cell_type": "code",
     "collapsed": false,
     "input": [
      "import omdb\n",
      "import json"
     ],
     "language": "python",
     "metadata": {},
     "outputs": [],
     "prompt_number": 17
    },
    {
     "cell_type": "code",
     "collapsed": false,
     "input": [
      "dir(omdb)"
     ],
     "language": "python",
     "metadata": {},
     "outputs": [
      {
       "metadata": {},
       "output_type": "pyout",
       "prompt_number": 2,
       "text": [
        "['Client',\n",
        " '__builtins__',\n",
        " '__doc__',\n",
        " '__file__',\n",
        " '__name__',\n",
        " '__package__',\n",
        " '__path__',\n",
        " 'api',\n",
        " 'client',\n",
        " 'get',\n",
        " 'imdbid',\n",
        " 'models',\n",
        " 'request',\n",
        " 'search',\n",
        " 'set_default',\n",
        " 'title']"
       ]
      }
     ],
     "prompt_number": 2
    },
    {
     "cell_type": "code",
     "collapsed": false,
     "input": [
      "titles = json.load(open('movie_titles.json', 'r'))"
     ],
     "language": "python",
     "metadata": {},
     "outputs": [],
     "prompt_number": 18
    },
    {
     "cell_type": "code",
     "collapsed": false,
     "input": [
      "raw_data = map(lambda x: omdb.title(x), titles)\n",
      "print(len(raw_data), ' items loaded')"
     ],
     "language": "python",
     "metadata": {},
     "outputs": []
    },
    {
     "cell_type": "code",
     "collapsed": false,
     "input": [
      "filtered_data = filter(lambda x: hasattr(x, 'title'), raw_data)\n",
      "print(len(filtered_data), ' items after filter')"
     ],
     "language": "python",
     "metadata": {},
     "outputs": [
      {
       "output_type": "stream",
       "stream": "stdout",
       "text": [
        "(9, ' items after filter')\n"
       ]
      }
     ],
     "prompt_number": 21
    },
    {
     "cell_type": "code",
     "collapsed": false,
     "input": [
      "json.dump(filtered_data, open('movie_data.json', 'w'))"
     ],
     "language": "python",
     "metadata": {},
     "outputs": [],
     "prompt_number": 22
    },
    {
     "cell_type": "code",
     "collapsed": false,
     "input": [],
     "language": "python",
     "metadata": {},
     "outputs": [],
     "prompt_number": 22
    },
    {
     "cell_type": "code",
     "collapsed": false,
     "input": [],
     "language": "python",
     "metadata": {},
     "outputs": [],
     "prompt_number": 22
    },
    {
     "cell_type": "code",
     "collapsed": false,
     "input": [],
     "language": "python",
     "metadata": {},
     "outputs": [],
     "prompt_number": 22
    },
    {
     "cell_type": "code",
     "collapsed": false,
     "input": [],
     "language": "python",
     "metadata": {},
     "outputs": [],
     "prompt_number": 37
    },
    {
     "cell_type": "code",
     "collapsed": false,
     "input": [
      "omdb.title('1 vs 100')"
     ],
     "language": "python",
     "metadata": {},
     "outputs": [
      {
       "metadata": {},
       "output_type": "pyout",
       "prompt_number": 39,
       "text": [
        "Item({'plot': u'The Australian version of the elimination quiz where one contestant must eliminate a mob of 100 people to win the $1 million prize.', 'rated': u'N/A', 'language': u'English', 'title': u'1 vs 100', 'country': u'Australia', 'writer': u'N/A', 'year': u'2007\\u2013', 'metascore': u'N/A', 'imdb_id': u'tt0949786', 'director': u'N/A', 'released': u'29 Jan 2007', 'imdb_rating': u'6.4', 'awards': u'N/A', 'poster': u'N/A', 'genre': u'Game-Show', 'actors': u'Eddie McGuire', 'runtime': u'N/A', 'type': u'series', 'response': u'True', 'imdb_votes': u'70'})"
       ]
      }
     ],
     "prompt_number": 39
    },
    {
     "cell_type": "code",
     "collapsed": false,
     "input": [],
     "language": "python",
     "metadata": {},
     "outputs": [],
     "prompt_number": 37
    },
    {
     "cell_type": "code",
     "collapsed": false,
     "input": [],
     "language": "python",
     "metadata": {},
     "outputs": []
    }
   ],
   "metadata": {}
  }
 ]
}