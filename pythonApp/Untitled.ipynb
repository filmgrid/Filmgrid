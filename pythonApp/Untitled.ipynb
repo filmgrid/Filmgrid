{
 "cells": [
  {
   "cell_type": "code",
   "execution_count": 6,
   "metadata": {
    "collapsed": false
   },
   "outputs": [],
   "source": [
    "from amazonproduct import API\n",
    "from pymongo import MongoClient\n",
    "api = API(locale='uk')"
   ]
  },
  {
   "cell_type": "code",
   "execution_count": 7,
   "metadata": {
    "collapsed": false,
    "scrolled": true
   },
   "outputs": [
    {
     "name": "stdout",
     "output_type": "stream",
     "text": [
      "Only the Brave http://www.amazon.co.uk/Only-Brave-Jennifer-Aquino/dp/B00ESQ856I%3FSubscriptionId%3DAKIAJ2SWQWR4MHQ5INBQ%26tag%3Dfilmgridio-21%26linkCode%3Dxm2%26camp%3D2025%26creative%3D165953%26creativeASIN%3DB00ESQ856I\n"
     ]
    }
   ],
   "source": [
    "result = api.item_search('DVD', Title='Brave',BrowseNode=3356010031, ResponseGroup='Request,ItemAttributes')\n",
    "for movie in result:\n",
    "    print movie.ItemAttributes.Title,\n",
    "    print movie.DetailPageURL"
   ]
  },
  {
   "cell_type": "code",
   "execution_count": 8,
   "metadata": {
    "collapsed": false
   },
   "outputs": [],
   "source": [
    "uri = 'mongodb://localhost/appdb'\n",
    "client = MongoClient(uri)\n",
    "matches = []"
   ]
  },
  {
   "cell_type": "code",
   "execution_count": 9,
   "metadata": {
    "collapsed": false
   },
   "outputs": [
    {
     "name": "stdout",
     "output_type": "stream",
     "text": [
      "0\n",
      "{'titleAz': \"pirates of the caribbean - at world's end\", 'url': 'http://www.amazon.co.uk/Pirates-Caribbean-At-Worlds-End/dp/B00HDEI5S0%3FSubscriptionId%3DAKIAJ2SWQWR4MHQ5INBQ%26tag%3Dfilmgridio-21%26linkCode%3Dxm2%26camp%3D2025%26creative%3D165953%26creativeASIN%3DB00HDEI5S0', 'id': u's3ZEXmmTLNcZojQKh', 'link_imdb': u'0449088', 'title': u\"pirates of the caribbean: at world's end\"}\n",
      "1\n",
      "2\n",
      "3\n",
      "4\n",
      "5\n",
      "6\n",
      "7\n",
      "{'titleAz': 'pirates of the caribbean - on stranger tides', 'url': 'http://www.amazon.co.uk/Pirates-Caribbean-On-Stranger-Tides/dp/B00LB8OQQE%3FSubscriptionId%3DAKIAJ2SWQWR4MHQ5INBQ%26tag%3Dfilmgridio-21%26linkCode%3Dxm2%26camp%3D2025%26creative%3D165953%26creativeASIN%3DB00LB8OQQE', 'id': u'j5um52dHxXC5kRDMK', 'link_imdb': u'1298650', 'title': u'pirates of the caribbean: on stranger tides'}\n",
      "8\n",
      "9\n",
      "10\n",
      "11\n",
      "12\n",
      "13\n",
      "14\n",
      "15\n",
      "{'titleAz': 'man of steel (2013)', 'url': 'http://www.amazon.co.uk/Man-Steel-Henry-Cavill/dp/B00I954GB2%3FSubscriptionId%3DAKIAJ2SWQWR4MHQ5INBQ%26tag%3Dfilmgridio-21%26linkCode%3Dxm2%26camp%3D2025%26creative%3D165953%26creativeASIN%3DB00I954GB2', 'id': u'Bkg9BSCR4FfxXNasS', 'link_imdb': u'0770828', 'title': u'man of steel'}\n",
      "16\n",
      "{'titleAz': 'the chronicles of narnia - prince caspian', 'url': 'http://www.amazon.co.uk/The-Chronicles-Narnia-Prince-Caspian/dp/B00EVMELLM%3FSubscriptionId%3DAKIAJ2SWQWR4MHQ5INBQ%26tag%3Dfilmgridio-21%26linkCode%3Dxm2%26camp%3D2025%26creative%3D165953%26creativeASIN%3DB00EVMELLM', 'id': u'NpZy7aphef4JNgJcp', 'link_imdb': u'0499448', 'title': u'the chronicles of narnia: prince caspian'}\n",
      "17\n",
      "18\n",
      "{'titleAz': 'the hangover part iii', 'url': 'http://www.amazon.co.uk/The-Hangover-Part-Bradley-Cooper/dp/B00I6A0XU8%3FSubscriptionId%3DAKIAJ2SWQWR4MHQ5INBQ%26tag%3Dfilmgridio-21%26linkCode%3Dxm2%26camp%3D2025%26creative%3D165953%26creativeASIN%3DB00I6A0XU8', 'id': u'jMaBxzaZaSp7DQFXP', 'link_imdb': u'2123129', 'title': u'3'}\n",
      "19\n",
      "20\n",
      "21\n",
      "22\n",
      "23\n",
      "24\n",
      "25\n",
      "26\n",
      "27\n",
      "{'titleAz': \"pirates of the caribbean - dead man's chest\", 'url': 'http://www.amazon.co.uk/Pirates-Of-The-Caribbean-Chest/dp/B00FZLX5OM%3FSubscriptionId%3DAKIAJ2SWQWR4MHQ5INBQ%26tag%3Dfilmgridio-21%26linkCode%3Dxm2%26camp%3D2025%26creative%3D165953%26creativeASIN%3DB00FZLX5OM', 'id': u'bHgYnemJRTtEG8X3N', 'link_imdb': u'0383574', 'title': u\"pirates of the caribbean: dead man's chest\"}\n",
      "28\n",
      "29\n",
      "{'titleAz': 'alice in wonderland', 'url': 'http://www.amazon.co.uk/Alice-Wonderland-Stephen-Murray/dp/B00ET028N4%3FSubscriptionId%3DAKIAJ2SWQWR4MHQ5INBQ%26tag%3Dfilmgridio-21%26linkCode%3Dxm2%26camp%3D2025%26creative%3D165953%26creativeASIN%3DB00ET028N4', 'id': u'x9bdthnKoeiRgeJdr', 'link_imdb': u'1014759', 'title': u'alice in wonderland'}\n",
      "30\n",
      "31\n",
      "{'titleAz': 'gangster squad (2012)', 'url': 'http://www.amazon.co.uk/Gangster-Squad-Josh-Brolin/dp/B00Q4LJ096%3FSubscriptionId%3DAKIAJ2SWQWR4MHQ5INBQ%26tag%3Dfilmgridio-21%26linkCode%3Dxm2%26camp%3D2025%26creative%3D165953%26creativeASIN%3DB00Q4LJ096', 'id': u'AMPgk8gqPfuXMAQmk', 'link_imdb': u'1190080', 'title': u'2012'}\n",
      "32\n",
      "{'titleAz': 'monsters university', 'url': 'http://www.amazon.co.uk/Monsters-University-Goodman-Billy-Crystal/dp/B00I3PRY5S%3FSubscriptionId%3DAKIAJ2SWQWR4MHQ5INBQ%26tag%3Dfilmgridio-21%26linkCode%3Dxm2%26camp%3D2025%26creative%3D165953%26creativeASIN%3DB00I3PRY5S', 'id': u'uaZGeYAjvRCkhrmy2', 'link_imdb': u'1453405', 'title': u'monsters university'}\n",
      "33\n",
      "34\n",
      "35\n",
      "36\n",
      "37\n",
      "38\n",
      "39\n",
      "40\n",
      "{'titleAz': \"charles dickens' - the christmas carol\", 'url': 'http://www.amazon.co.uk/Charles-Dickens-The-Christmas-Carol/dp/B00EWQ9YKU%3FSubscriptionId%3DAKIAJ2SWQWR4MHQ5INBQ%26tag%3Dfilmgridio-21%26linkCode%3Dxm2%26camp%3D2025%26creative%3D165953%26creativeASIN%3DB00EWQ9YKU', 'id': u'ZDbYYj8otX8YtuaEB', 'link_imdb': u'1067106', 'title': u'a christmas carol'}\n",
      "41\n",
      "{'titleAz': 'robin hood', 'url': 'http://www.amazon.co.uk/Robin-Hood-Russell-Crowe/dp/B00ET1WIQA%3FSubscriptionId%3DAKIAJ2SWQWR4MHQ5INBQ%26tag%3Dfilmgridio-21%26linkCode%3Dxm2%26camp%3D2025%26creative%3D165953%26creativeASIN%3DB00ET1WIQA', 'id': u'7n82ng7nEj7qGDB3W', 'link_imdb': u'0955308', 'title': u'robin hood'}\n",
      "42\n",
      "43\n",
      "44\n",
      "{'titleAz': 'green lantern', 'url': 'http://www.amazon.co.uk/Green-Lantern-Peter-Sarsgaard/dp/B00HDCLKMK%3FSubscriptionId%3DAKIAJ2SWQWR4MHQ5INBQ%26tag%3Dfilmgridio-21%26linkCode%3Dxm2%26camp%3D2025%26creative%3D165953%26creativeASIN%3DB00HDCLKMK', 'id': u'w2Q5QMZAe3hsZxNcZ', 'link_imdb': u'1133985', 'title': u'green lantern'}\n",
      "45\n",
      "46\n",
      "47\n",
      "{'titleAz': 'jack the giant slayer', 'url': 'http://www.amazon.co.uk/Jack-Giant-Slayer-Nicholas-Hoult/dp/B00HAOYN8E%3FSubscriptionId%3DAKIAJ2SWQWR4MHQ5INBQ%26tag%3Dfilmgridio-21%26linkCode%3Dxm2%26camp%3D2025%26creative%3D165953%26creativeASIN%3DB00HAOYN8E', 'id': u'hWoWnkTaozkCimazQ', 'link_imdb': u'1351685', 'title': u'jack the giant slayer'}\n",
      "48\n",
      "{'titleAz': 'batman : the dark knight returns part 1', 'url': 'http://www.amazon.co.uk/Batman-Dark-Knight-Returns-Part/dp/B00IA8WZJS%3FSubscriptionId%3DAKIAJ2SWQWR4MHQ5INBQ%26tag%3Dfilmgridio-21%26linkCode%3Dxm2%26camp%3D2025%26creative%3D165953%26creativeASIN%3DB00IA8WZJS', 'id': u'JFQ6sEodmrRxk9kxF', 'link_imdb': u'0468569', 'title': u'the dark knight'}\n",
      "49\n",
      "50\n",
      "{'titleAz': 'only the brave', 'url': 'http://www.amazon.co.uk/Only-Brave-Jennifer-Aquino/dp/B00ESQ856I%3FSubscriptionId%3DAKIAJ2SWQWR4MHQ5INBQ%26tag%3Dfilmgridio-21%26linkCode%3Dxm2%26camp%3D2025%26creative%3D165953%26creativeASIN%3DB00ESQ856I', 'id': u'2QSG7LopaZNJ3PSqL', 'link_imdb': u'1217209', 'title': u'brave'}\n",
      "51\n",
      "52\n",
      "53\n",
      "54\n",
      "55\n",
      "{'titleAz': 'pacific rim', 'url': 'http://www.amazon.co.uk/Pacific-Rim-Charlie-Hunnam/dp/B00I94YP1Y%3FSubscriptionId%3DAKIAJ2SWQWR4MHQ5INBQ%26tag%3Dfilmgridio-21%26linkCode%3Dxm2%26camp%3D2025%26creative%3D165953%26creativeASIN%3DB00I94YP1Y', 'id': u'X7kHqwzFTAq4mxeF7', 'link_imdb': u'1663662', 'title': u'pacific rim'}\n",
      "56\n",
      "57\n",
      "58\n",
      "{'titleAz': 'up', 'url': 'http://www.amazon.co.uk/B00ET09QHU/dp/B00ET09QHU%3FSubscriptionId%3DAKIAJ2SWQWR4MHQ5INBQ%26tag%3Dfilmgridio-21%26linkCode%3Dxm2%26camp%3D2025%26creative%3D165953%26creativeASIN%3DB00ET09QHU', 'id': u'FjwH6CAfycQ3Efesy', 'link_imdb': u'1049413', 'title': u'up'}\n",
      "59\n",
      "60\n",
      "61\n",
      "62\n",
      "{'titleAz': 'waterworld', 'url': 'http://www.amazon.co.uk/Waterworld-Chaim-Girafi-Kevin-Costner/dp/B00IKG1Z46%3FSubscriptionId%3DAKIAJ2SWQWR4MHQ5INBQ%26tag%3Dfilmgridio-21%26linkCode%3Dxm2%26camp%3D2025%26creative%3D165953%26creativeASIN%3DB00IKG1Z46', 'id': u'rkcdgNLuew73jgtWz', 'link_imdb': u'0114898', 'title': u'waterworld'}\n",
      "63\n",
      "64\n",
      "65\n",
      "66\n",
      "67\n",
      "68\n",
      "69\n",
      "70\n",
      "71\n",
      "72\n",
      "73\n",
      "74\n",
      "75\n",
      "{'titleAz': 'wreck-it ralph', 'url': 'http://www.amazon.co.uk/7/dp/B00I2EFTVG%3FSubscriptionId%3DAKIAJ2SWQWR4MHQ5INBQ%26tag%3Dfilmgridio-21%26linkCode%3Dxm2%26camp%3D2025%26creative%3D165953%26creativeASIN%3DB00I2EFTVG', 'id': u'fzJK2B4pCBmz2Pffv', 'link_imdb': u'1772341', 'title': u'wreck-it ralph'}\n",
      "76\n",
      "77\n",
      "78\n",
      "79\n",
      "{'titleAz': 'inception', 'url': 'http://www.amazon.co.uk/Inception-Leonardo-DiCaprio/dp/B00G3ED8DI%3FSubscriptionId%3DAKIAJ2SWQWR4MHQ5INBQ%26tag%3Dfilmgridio-21%26linkCode%3Dxm2%26camp%3D2025%26creative%3D165953%26creativeASIN%3DB00G3ED8DI', 'id': u'AEreYNvvi5f84dzzD', 'link_imdb': u'1375666', 'title': u'inception'}\n",
      "80\n",
      "81\n",
      "82\n",
      "83\n",
      "84\n",
      "85\n",
      "86\n",
      "87\n",
      "88\n",
      "89\n",
      "{'titleAz': 'fanny and alexander', 'url': 'http://www.amazon.co.uk/Fanny-Alexander-Pernilla-Allwin/dp/B00ET1DYHM%3FSubscriptionId%3DAKIAJ2SWQWR4MHQ5INBQ%26tag%3Dfilmgridio-21%26linkCode%3Dxm2%26camp%3D2025%26creative%3D165953%26creativeASIN%3DB00ET1DYHM', 'id': u'wXptRGgEPL2w3vpbc', 'link_imdb': u'0346491', 'title': u'alexander'}\n",
      "90\n",
      "{'titleAz': 'frozen', 'url': 'http://www.amazon.co.uk/Frozen-Emma-Bell/dp/B010QXM46I%3FSubscriptionId%3DAKIAJ2SWQWR4MHQ5INBQ%26tag%3Dfilmgridio-21%26linkCode%3Dxm2%26camp%3D2025%26creative%3D165953%26creativeASIN%3DB010QXM46I', 'id': u'3FaeFxYxtZ8ZTzjFb', 'link_imdb': u'2294629', 'title': u'frozen'}\n",
      "91\n",
      "92\n",
      "93\n",
      "94\n",
      "95\n",
      "96\n",
      "97\n",
      "98\n",
      "99\n"
     ]
    }
   ],
   "source": [
    "moviesdb = []\n",
    "movies = client.appdb.movies.find().limit(100).sort([('budget',-1)])\n",
    "i = 0\n",
    "for movie in movies:\n",
    "    moviesdb.append({\n",
    "            'title'      : movie['title'].lower(),\n",
    "            'link_imdb'  : movie['link_imdb'],\n",
    "            '_id'        : movie['_id']\n",
    "        })\n",
    "\n",
    "for movie in moviesdb:\n",
    "    try:\n",
    "        print i\n",
    "        i = i + 1\n",
    "        result = api.item_search('DVD', Title=movie['title'], BrowseNode=3356010031, ResponseGroup='Request,ItemAttributes')\n",
    "    except:\n",
    "        continue\n",
    "    for item in result:\n",
    "        r = {\n",
    "            'titleAz'  : item.ItemAttributes.Title.text.lower(),\n",
    "            'url'      : item.DetailPageURL,\n",
    "            'title'    : movie['title'],\n",
    "            'id'       : movie['_id'],\n",
    "            'link_imdb':movie['link_imdb']\n",
    "        };\n",
    "        matches.append(r);\n",
    "        print r\n",
    "        break"
   ]
  },
  {
   "cell_type": "code",
   "execution_count": 12,
   "metadata": {
    "collapsed": false
   },
   "outputs": [
    {
     "name": "stdout",
     "output_type": "stream",
     "text": [
      "15\n"
     ]
    }
   ],
   "source": [
    "pmatches = []\n",
    "for match in matches:\n",
    "    title1 = ''.join(e for e in match['title'] if e.isalnum())\n",
    "    title2 = ''.join(e for e in match['titleAz'] if e.isalnum())\n",
    "    if (title1 == title2):\n",
    "        pmatches.append(match)\n",
    "print len(pmatches)"
   ]
  },
  {
   "cell_type": "code",
   "execution_count": 13,
   "metadata": {
    "collapsed": false
   },
   "outputs": [
    {
     "name": "stdout",
     "output_type": "stream",
     "text": [
      "pirates of the caribbean: at world's end pirates of the caribbean - at world's end\n",
      "pirates of the caribbean: on stranger tides pirates of the caribbean - on stranger tides\n",
      "the chronicles of narnia: prince caspian the chronicles of narnia - prince caspian\n",
      "pirates of the caribbean: dead man's chest pirates of the caribbean - dead man's chest\n",
      "alice in wonderland alice in wonderland\n",
      "monsters university monsters university\n",
      "robin hood robin hood\n",
      "green lantern green lantern\n",
      "jack the giant slayer jack the giant slayer\n",
      "pacific rim pacific rim\n",
      "up up\n",
      "waterworld waterworld\n",
      "wreck-it ralph wreck-it ralph\n",
      "inception inception\n",
      "frozen frozen\n"
     ]
    }
   ],
   "source": [
    "for match in pmatches:\n",
    "    print match['title'], match['titleAz']"
   ]
  },
  {
   "cell_type": "code",
   "execution_count": 10,
   "metadata": {
    "collapsed": false
   },
   "outputs": [
    {
     "ename": "NameError",
     "evalue": "name 'pmatches' is not defined",
     "output_type": "error",
     "traceback": [
      "\u001b[0;31m---------------------------------------------------------------------------\u001b[0m",
      "\u001b[0;31mNameError\u001b[0m                                 Traceback (most recent call last)",
      "\u001b[0;32m<ipython-input-10-9da742928e38>\u001b[0m in \u001b[0;36m<module>\u001b[0;34m()\u001b[0m\n\u001b[0;32m----> 1\u001b[0;31m \u001b[0mpmatches\u001b[0m\u001b[0;34m\u001b[0m\u001b[0m\n\u001b[0m",
      "\u001b[0;31mNameError\u001b[0m: name 'pmatches' is not defined"
     ]
    }
   ],
   "source": []
  },
  {
   "cell_type": "code",
   "execution_count": 11,
   "metadata": {
    "collapsed": false
   },
   "outputs": [
    {
     "ename": "NameError",
     "evalue": "name 'pmatches' is not defined",
     "output_type": "error",
     "traceback": [
      "\u001b[0;31m---------------------------------------------------------------------------\u001b[0m",
      "\u001b[0;31mNameError\u001b[0m                                 Traceback (most recent call last)",
      "\u001b[0;32m<ipython-input-11-0e4fe008f5a7>\u001b[0m in \u001b[0;36m<module>\u001b[0;34m()\u001b[0m\n\u001b[0;32m----> 1\u001b[0;31m \u001b[0;32mprint\u001b[0m \u001b[0mpmatches\u001b[0m\u001b[0;34m\u001b[0m\u001b[0m\n\u001b[0m",
      "\u001b[0;31mNameError\u001b[0m: name 'pmatches' is not defined"
     ]
    }
   ],
   "source": [
    "print pmatches"
   ]
  },
  {
   "cell_type": "code",
   "execution_count": null,
   "metadata": {
    "collapsed": true
   },
   "outputs": [],
   "source": []
  }
 ],
 "metadata": {
  "kernelspec": {
   "display_name": "Python 2",
   "language": "python",
   "name": "python2"
  },
  "language_info": {
   "codemirror_mode": {
    "name": "ipython",
    "version": 2
   },
   "file_extension": ".py",
   "mimetype": "text/x-python",
   "name": "python",
   "nbconvert_exporter": "python",
   "pygments_lexer": "ipython2",
   "version": "2.7.6"
  }
 },
 "nbformat": 4,
 "nbformat_minor": 0
}
