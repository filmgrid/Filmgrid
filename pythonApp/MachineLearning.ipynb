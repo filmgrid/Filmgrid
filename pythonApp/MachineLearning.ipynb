{
 "metadata": {
  "name": "",
  "signature": "sha256:3812f3b4a3ae7ec2bbffbc470774bd26cc3e26773a0a038a89386cef15291bf1"
 },
 "nbformat": 3,
 "nbformat_minor": 0,
 "worksheets": [
  {
   "cells": [
    {
     "cell_type": "code",
     "collapsed": false,
     "input": [
      "from pymongo import Connection\n",
      "import sklearn\n",
      "from pymongo import MongoClient\n",
      "import sys\n",
      "sys.path.insert(0, '/home/thomas/Projects/Watchlist/pythonApp/vendor/mongoqueue/mongoqueue')\n",
      "from mongoqueue import MongoQueue"
     ],
     "language": "python",
     "metadata": {},
     "outputs": [],
     "prompt_number": 1
    },
    {
     "cell_type": "code",
     "collapsed": false,
     "input": [
      "uri = 'mongodb://localhost/appdb'\n",
      "client = MongoClient(uri)"
     ],
     "language": "python",
     "metadata": {},
     "outputs": [],
     "prompt_number": 29
    },
    {
     "cell_type": "code",
     "collapsed": false,
     "input": [
      "queue = MongoQueue(\n",
      "client.appdb.jobqueue,\n",
      "consumer_id=\"consumer-1\",\n",
      "timeout=300,\n",
      "max_attempts=3)"
     ],
     "language": "python",
     "metadata": {},
     "outputs": [],
     "prompt_number": 30
    },
    {
     "cell_type": "code",
     "collapsed": false,
     "input": [
      "queue.put({\"foobar\": 2})"
     ],
     "language": "python",
     "metadata": {},
     "outputs": [
      {
       "metadata": {},
       "output_type": "pyout",
       "prompt_number": 43,
       "text": [
        "ObjectId('54b176f03a77a13c5a19d21a')"
       ]
      }
     ],
     "prompt_number": 43
    },
    {
     "cell_type": "code",
     "collapsed": false,
     "input": [
      "job = queue.next()"
     ],
     "language": "python",
     "metadata": {},
     "outputs": [],
     "prompt_number": 48
    },
    {
     "cell_type": "code",
     "collapsed": false,
     "input": [
      "print job\n"
     ],
     "language": "python",
     "metadata": {},
     "outputs": [
      {
       "output_type": "stream",
       "stream": "stdout",
       "text": [
        "<mongoqueue.Job object at 0xb19cdf8c>\n"
       ]
      }
     ],
     "prompt_number": 49
    },
    {
     "cell_type": "code",
     "collapsed": false,
     "input": [
      "job.complete()"
     ],
     "language": "python",
     "metadata": {},
     "outputs": [
      {
       "metadata": {},
       "output_type": "pyout",
       "prompt_number": 50,
       "text": [
        "{u'_id': ObjectId('54b176f03a77a13c5a19d21a'),\n",
        " u'attempts': 0,\n",
        " u'last_error': None,\n",
        " u'locked_at': datetime.datetime(2015, 1, 10, 19, 4, 32, 739000),\n",
        " u'locked_by': u'consumer-1',\n",
        " u'payload': {u'foobar': 2},\n",
        " u'period': 0,\n",
        " u'priority': 0,\n",
        " u'time': None}"
       ]
      }
     ],
     "prompt_number": 50
    },
    {
     "cell_type": "code",
     "collapsed": true,
     "input": [
      "job.state"
     ],
     "language": "python",
     "metadata": {},
     "outputs": [
      {
       "ename": "AttributeError",
       "evalue": "'Job' object has no attribute 'state'",
       "output_type": "pyerr",
       "traceback": [
        "\u001b[1;31m---------------------------------------------------------------------------\u001b[0m\n\u001b[1;31mAttributeError\u001b[0m                            Traceback (most recent call last)",
        "\u001b[1;32m<ipython-input-179-2ee3caa702dd>\u001b[0m in \u001b[0;36m<module>\u001b[1;34m()\u001b[0m\n\u001b[1;32m----> 1\u001b[1;33m \u001b[0mjob\u001b[0m\u001b[1;33m.\u001b[0m\u001b[0mstate\u001b[0m\u001b[1;33m\u001b[0m\u001b[0m\n\u001b[0m",
        "\u001b[1;31mAttributeError\u001b[0m: 'Job' object has no attribute 'state'"
       ]
      }
     ],
     "prompt_number": 179
    },
    {
     "cell_type": "code",
     "collapsed": false,
     "input": [],
     "language": "python",
     "metadata": {},
     "outputs": [],
     "prompt_number": 179
    },
    {
     "cell_type": "code",
     "collapsed": false,
     "input": [],
     "language": "python",
     "metadata": {},
     "outputs": []
    }
   ],
   "metadata": {}
  }
 ]
}