{
 "metadata": {
  "name": "",
  "signature": "sha256:ab10b539c6b5c5df4107a81bb5d08577807e5daab40ca82b903611fe537c05c5"
 },
 "nbformat": 3,
 "nbformat_minor": 0,
 "worksheets": [
  {
   "cells": [
    {
     "cell_type": "code",
     "collapsed": false,
     "input": [
      "from pymongo import Connection\n",
      "import sklearn\n",
      "from pymongo import MongoClient\n",
      "import sys\n",
      "sys.path.insert(0, '/home/thomas/Projects/Watchlist/pythonApp/vendor/mongoqueue/mongoqueue')\n",
      "from mongoqueue import MongoQueue\n",
      "import time\n",
      "from random import randint\n",
      "from __future__ import division\n"
     ],
     "language": "python",
     "metadata": {},
     "outputs": [],
     "prompt_number": 232
    },
    {
     "cell_type": "code",
     "collapsed": false,
     "input": [
      "uri = 'mongodb://localhost/appdb'\n",
      "client = MongoClient(uri)"
     ],
     "language": "python",
     "metadata": {},
     "outputs": [],
     "prompt_number": 156
    },
    {
     "cell_type": "code",
     "collapsed": false,
     "input": [
      "queue = MongoQueue(\n",
      "client.appdb.jobqueue,\n",
      "consumer_id=\"consumer-1\",\n",
      "timeout=300,\n",
      "max_attempts=3)"
     ],
     "language": "python",
     "metadata": {},
     "outputs": [],
     "prompt_number": 157
    },
    {
     "cell_type": "code",
     "collapsed": false,
     "input": [
      "movieCache = dict();"
     ],
     "language": "python",
     "metadata": {},
     "outputs": [],
     "prompt_number": 243
    },
    {
     "cell_type": "code",
     "collapsed": false,
     "input": [
      "def getMovie(movieId):\n",
      "    if movieId in movieCache:\n",
      "        return movieCache[movieId]\n",
      "    else:\n",
      "        m = client.appdb.movies.find_one({\"_id\":movieId})\n",
      "        if (m) :\n",
      "            movieCache[movieId] = m\n",
      "        else :\n",
      "            raise Exception(\"You are a terrible coder\")\n",
      "        return m"
     ],
     "language": "python",
     "metadata": {},
     "outputs": [],
     "prompt_number": 244
    },
    {
     "cell_type": "code",
     "collapsed": false,
     "input": [
      "def getScoreFromMovie(m):\n",
      "    if (m[\"statusScore\"]):\n",
      "        return m[\"statusScore\"] - 1\n",
      "    if (m[\"statusType\"] == \"dismissed\"):\n",
      "        return - 2\n",
      "    if (m[\"statusType\"] == \"bookmarked\"):\n",
      "        return 1\n",
      "    else:\n",
      "         raise Exception(\"You are so bad\")"
     ],
     "language": "python",
     "metadata": {},
     "outputs": [],
     "prompt_number": 247
    },
    {
     "cell_type": "code",
     "collapsed": false,
     "input": [
      "while(1):\n",
      "    job = queue.next();\n",
      "    while(job):\n",
      "        t0 = time.time();\n",
      "        userId = job.payload[\"userId\"]\n",
      "        userMovies, userMoviesNoSuggested, suggestedCount = getUserMovies(userId);\n",
      "        print (len(userMovies), suggestedCount, 500);\n",
      "        \n",
      "        profile = getUserProfile(userMoviesNoSuggested, [\"genre\", \"actors\", \"directors\"])\n",
      "        newMovies = computeSuggestions(userMovies, len(userMovies), suggestedCount, 500); # {_id, suggestionScore}\n",
      "        updateMovies(userId, newMovies)\n",
      "        job.complete();\n",
      "        job = queue.next();\n",
      "        print (time.time() -t0)\n",
      "    time.sleep(1);"
     ],
     "language": "python",
     "metadata": {},
     "outputs": [
      {
       "output_type": "stream",
       "stream": "stdout",
       "text": [
        "(546, 463, 500)\n",
        "0.264047861099"
       ]
      },
      {
       "output_type": "stream",
       "stream": "stdout",
       "text": [
        "\n",
        "(584, 500, 500)"
       ]
      },
      {
       "output_type": "stream",
       "stream": "stdout",
       "text": [
        "\n",
        "0.0518939495087\n",
        "(585, 500, 500)"
       ]
      },
      {
       "output_type": "stream",
       "stream": "stdout",
       "text": [
        "\n",
        "0.0334501266479\n"
       ]
      },
      {
       "ename": "KeyboardInterrupt",
       "evalue": "",
       "output_type": "pyerr",
       "traceback": [
        "\u001b[1;31m---------------------------------------------------------------------------\u001b[0m\n\u001b[1;31mKeyboardInterrupt\u001b[0m                         Traceback (most recent call last)",
        "\u001b[1;32m<ipython-input-255-226a1e56e089>\u001b[0m in \u001b[0;36m<module>\u001b[1;34m()\u001b[0m\n\u001b[0;32m     13\u001b[0m         \u001b[0mjob\u001b[0m \u001b[1;33m=\u001b[0m \u001b[0mqueue\u001b[0m\u001b[1;33m.\u001b[0m\u001b[0mnext\u001b[0m\u001b[1;33m(\u001b[0m\u001b[1;33m)\u001b[0m\u001b[1;33m;\u001b[0m\u001b[1;33m\u001b[0m\u001b[0m\n\u001b[0;32m     14\u001b[0m         \u001b[1;32mprint\u001b[0m \u001b[1;33m(\u001b[0m\u001b[0mtime\u001b[0m\u001b[1;33m.\u001b[0m\u001b[0mtime\u001b[0m\u001b[1;33m(\u001b[0m\u001b[1;33m)\u001b[0m \u001b[1;33m-\u001b[0m\u001b[0mt0\u001b[0m\u001b[1;33m)\u001b[0m\u001b[1;33m\u001b[0m\u001b[0m\n\u001b[1;32m---> 15\u001b[1;33m     \u001b[0mtime\u001b[0m\u001b[1;33m.\u001b[0m\u001b[0msleep\u001b[0m\u001b[1;33m(\u001b[0m\u001b[1;36m1\u001b[0m\u001b[1;33m)\u001b[0m\u001b[1;33m;\u001b[0m\u001b[1;33m\u001b[0m\u001b[0m\n\u001b[0m",
        "\u001b[1;31mKeyboardInterrupt\u001b[0m: "
       ]
      }
     ],
     "prompt_number": 255
    },
    {
     "cell_type": "code",
     "collapsed": false,
     "input": [
      "def getUserMovies(userId):\n",
      "    movies = client.appdb.users.find_one({\"_id\":userId},{\"profile.movies\" : 1})[\"profile\"][\"movies\"].values();\n",
      "    userMovies = dict();\n",
      "    userMoviesNoSuggested = [];\n",
      "    suggestedCount = 0;\n",
      "    for movie in movies:\n",
      "        if(movie[\"statusType\"] == \"suggested\"):\n",
      "            suggestedCount += 1\n",
      "        else:\n",
      "            userMoviesNoSuggested.append(movie)\n",
      "        userMovies[movie[\"id\"]] = {\"id\":movie[\"id\"], \"statusScore\":movie[\"statusScore\"], \"statusType\":movie[\"statusType\"]};\n",
      "    return userMovies, userMoviesNoSuggested, suggestedCount;"
     ],
     "language": "python",
     "metadata": {},
     "outputs": [],
     "prompt_number": 237
    },
    {
     "cell_type": "code",
     "collapsed": false,
     "input": [
      "def computeSuggestions(userMovies, totalCount, suggestedCount, totalSuggested):\n",
      "    allMovies = client.appdb.movies.find({\"year\":2014}).limit(totalCount+totalSuggested).skip(randint(0,10))\n",
      "    newMovies = dict();\n",
      "    \n",
      "    newMoviesCount = 0\n",
      "    for movie in allMovies:\n",
      "        if (newMoviesCount > (totalSuggested - suggestedCount)):\n",
      "            break;\n",
      "        if not movie[\"_id\"] in userMovies:\n",
      "            movie[\"statusType\"] = \"suggested\";\n",
      "            movie[\"statusScore\"] = \"\";\n",
      "            movie[\"id\"] = movie[\"_id\"];\n",
      "            key = \"profile.movies.\" + movie[\"_id\"]\n",
      "            newMovies[key] = movie;\n",
      "            newMoviesCount += 1;\n",
      "    \n",
      "    return newMovies;"
     ],
     "language": "python",
     "metadata": {},
     "outputs": [],
     "prompt_number": 238
    },
    {
     "cell_type": "code",
     "collapsed": true,
     "input": [
      "def updateMovies(userId, newMovies):\n",
      "    client.appdb.users.update({\"_id\" : userId}, {\"$set\" : newMovies})"
     ],
     "language": "python",
     "metadata": {},
     "outputs": [],
     "prompt_number": 239
    },
    {
     "cell_type": "code",
     "collapsed": false,
     "input": [
      "def getUserProfile(userMovies, features):\n",
      "    \n",
      "    profile = dict();\n",
      "    for feature in features:\n",
      "        profile[feature] = dict();\n",
      "    \n",
      "    numberOfMovies = len(userMovies);\n",
      "    totalScore = 0;\n",
      "    for movie in userMovies:\n",
      "        score = getScoreFromMovie(movie)\n",
      "        totalScore += score;\n",
      "        for feature in features:\n",
      "            buildProfileForFeatureArray(profile, getMovie(movie[\"id\"]), feature, numberOfMovies, score);\n",
      "    \n",
      "    normalizeForScore(profile, totalScore / numberOfMovies)\n",
      "    \n",
      "    return profile\n",
      "\n",
      "def buildProfileForFeatureArray(profile, movie, feature, numberOfMovies, score):\n",
      "    if (isinstance(movie[feature], basestring)):\n",
      "        items = movie[feature].split(\", \");\n",
      "    else:\n",
      "        items = movie[feature]; \n",
      "        \n",
      "    #We normalize by dividing by the individual contribution of each genre of each movie\n",
      "    norm = len(items)*numberOfMovies\n",
      "    for item in items:\n",
      "        if not item in profile[feature]:\n",
      "            profile[feature][item] = 0\n",
      "\n",
      "        profile[feature][item] += score / norm;\n",
      "\n",
      "def normalizeForScore(profile, n):\n",
      "    if (n):\n",
      "        for features in profile:\n",
      "            for feature in profile[features]:\n",
      "                profile[features][feature] = profile[features][feature] / n"
     ],
     "language": "python",
     "metadata": {},
     "outputs": [],
     "prompt_number": 240
    },
    {
     "cell_type": "code",
     "collapsed": false,
     "input": [
      "print profile"
     ],
     "language": "python",
     "metadata": {},
     "outputs": [
      {
       "output_type": "stream",
       "stream": "stdout",
       "text": [
        "{'genre': {u'Sci-Fi': 0.09326530612244899, u'Crime': -0.0030612244897959173, u'Romance': 0.011904761904761904, u'Animation': 0.04074829931972789, u'International': 0.019047619047619046, u'Comedy': -0.011632653061224484, u'War': 0.017142857142857144, u'Horror': -0.03333333333333333, u'Science Fiction': 0.11945578231292515, u'Adventure': 0.16993197278911568, u'Thriller': 0.053265306122448966, u'Mystery': 0.01693877551020408, u'Kids': 0.02551020408163265, u'Drama': 0.11224489795918366, u'Action': 0.1606802721088435, u'Classics': -0.014285714285714284, u'History': 0.015238095238095238, u'Family': 0.035986394557823126, u'Fantasy': 0.1349659863945578, u'Suspense': 0.01693877551020408, u'Art House': 0.019047619047619046, u'Biography': 0.0}}\n"
       ]
      }
     ],
     "prompt_number": 250
    },
    {
     "cell_type": "code",
     "collapsed": false,
     "input": [
      "for feature in profile:\n",
      "    for key in profile[feature]:\n",
      "        if profile[feature][key] > 0.02:\n",
      "            print(feature, key, profile[feature][key])"
     ],
     "language": "python",
     "metadata": {},
     "outputs": [
      {
       "output_type": "stream",
       "stream": "stdout",
       "text": [
        "('genre', u'Sci-Fi', 0.09063786008230451)\n",
        "('genre', u'Animation', 0.03450911228689007)\n",
        "('genre', u'Comedy', 0.028336272780717226)\n",
        "('genre', u'Science Fiction', 0.14110817166372713)\n",
        "('genre', u'Adventure', 0.16255144032921806)\n",
        "('genre', u'Thriller', 0.04395943562610231)\n",
        "('genre', u'Mystery', 0.031084656084656086)\n",
        "('genre', u'Kids', 0.02792475014697237)\n",
        "('genre', u'Drama', 0.06396237507348619)\n",
        "('genre', u'Action', 0.16685773074661955)\n",
        "('genre', u'Family', 0.03492063492063493)\n",
        "('genre', u'Fantasy', 0.15562904174015277)\n",
        "('genre', u'Suspense', 0.02614638447971782)\n",
        "('directors', u'Tim Burton', 0.02469135802469136)\n",
        "('directors', u'Francis Lawrence', 0.03703703703703704)\n",
        "('directors', u'John Moore', 0.02469135802469136)\n",
        "('directors', u'Guillermo del Toro', 0.02469135802469136)\n",
        "('directors', u'Neil Burger', 0.02469135802469136)\n",
        "('directors', u'David Fincher', 0.02469135802469136)\n",
        "('directors', u'Alan Taylor', 0.02469135802469136)\n",
        "('directors', u'Lee Unkrich', 0.02469135802469136)\n",
        "('directors', u'Doug Liman', 0.02469135802469136)\n",
        "('directors', u'Noam Murro', 0.02469135802469136)\n",
        "('directors', u'Sam Mendes', 0.02469135802469136)\n",
        "('directors', u'Jonathan Liebesman', 0.02469135802469136)\n",
        "('directors', u'Dan Scanlon', 0.02469135802469136)\n",
        "('directors', u'Hayao Miyazaki', 0.02469135802469136)\n",
        "('directors', u'Ben Affleck', 0.02469135802469136)\n",
        "('directors', u'James Mangold', 0.02469135802469136)\n",
        "('directors', u'Neill Blomkamp', 0.02469135802469136)\n",
        "('directors', u'Bryan Singer', 0.02469135802469136)\n",
        "('directors', u'Joseph Kosinski', 0.02469135802469136)\n",
        "('directors', u'Rob Minkoff', 0.02469135802469136)\n",
        "('directors', u'Alfonso Cuaron', 0.02469135802469136)\n",
        "('directors', u'Tim Story', 0.02469135802469136)\n",
        "('directors', u'Richard Linklater', 0.02469135802469136)\n",
        "('directors', u'Jon M. Chu', 0.02469135802469136)\n",
        "('directors', u'Wes Ball', 0.02469135802469136)\n",
        "('directors', u'Joss Whedon', 0.02469135802469136)\n",
        "('directors', u'Dean DeBlois', 0.02469135802469136)\n",
        "('directors', u'Shane Black', 0.02469135802469136)\n",
        "('directors', u'Patrick Hughes', 0.02469135802469136)\n",
        "('directors', u'Peter Jackson', 0.0617283950617284)\n",
        "('directors', u'Barry Sonnenfeld', 0.02469135802469136)\n",
        "('directors', u'Martin Scorsese', 0.02469135802469136)\n",
        "('directors', u'Chris Miller', 0.02469135802469136)\n",
        "('actors', u'', 0.04938271604938272)\n"
       ]
      }
     ],
     "prompt_number": 259
    },
    {
     "cell_type": "code",
     "collapsed": false,
     "input": [],
     "language": "python",
     "metadata": {},
     "outputs": []
    }
   ],
   "metadata": {}
  }
 ]
}