{
 "metadata": {
  "name": "",
  "signature": "sha256:ae773d8c192c352844c2cb6c5ba7efed5eab2aceb88ecc1a3b6ba50ae6178421"
 },
 "nbformat": 3,
 "nbformat_minor": 0,
 "worksheets": [
  {
   "cells": [
    {
     "cell_type": "code",
     "collapsed": false,
     "input": [
      "import json\n",
      "import numpy as np\n",
      "\n",
      "from sklearn.cluster import DBSCAN"
     ],
     "language": "python",
     "metadata": {},
     "outputs": [],
     "prompt_number": 36
    },
    {
     "cell_type": "code",
     "collapsed": false,
     "input": [
      "movies = json.load(open('../meteorApp/private/movie_data.json', 'r'))\n",
      "len(movies)"
     ],
     "language": "python",
     "metadata": {},
     "outputs": [
      {
       "metadata": {},
       "output_type": "pyout",
       "prompt_number": 40,
       "text": [
        "5000"
       ]
      }
     ],
     "prompt_number": 40
    },
    {
     "cell_type": "heading",
     "level": 2,
     "metadata": {},
     "source": [
      "Distance Functions"
     ]
    },
    {
     "cell_type": "code",
     "collapsed": false,
     "input": [
      "def arrayDistance(a1, a2):\n",
      "    both = list(set(a1) & set(a2))\n",
      "    return 1 - 2.0 * len(both) / (len(a1) + len(a2))"
     ],
     "language": "python",
     "metadata": {},
     "outputs": [],
     "prompt_number": 27
    },
    {
     "cell_type": "code",
     "collapsed": false,
     "input": [
      "def movieDistance(m1, m2):\n",
      "    return arrayDistance(m1['genres'], m2['genres'])"
     ],
     "language": "python",
     "metadata": {},
     "outputs": [],
     "prompt_number": 37
    },
    {
     "cell_type": "heading",
     "level": 2,
     "metadata": {},
     "source": [
      "Movie Clustering"
     ]
    },
    {
     "cell_type": "code",
     "collapsed": false,
     "input": [
      "movieDistanceMatrix = np.zeros((len(movies), len(movies)))\n",
      "\n",
      "for i in range(len(movies)):\n",
      "    for j in range(i):\n",
      "        movieDistanceMatrix[i][j] = movieDistanceMatrix[j][i] = movieDistance(movies[i], movies[j])"
     ],
     "language": "python",
     "metadata": {},
     "outputs": [],
     "prompt_number": 41
    },
    {
     "cell_type": "code",
     "collapsed": false,
     "input": [
      "db = DBSCAN(eps=0.01, min_samples=10, metric=\"precomputed\")\n",
      "db.fit(movieDistanceMatrix)\n",
      "result = db.labels_"
     ],
     "language": "python",
     "metadata": {},
     "outputs": [],
     "prompt_number": 60
    },
    {
     "cell_type": "code",
     "collapsed": false,
     "input": [
      "clusters = [[] for x in range(max(result))]\n",
      "\n",
      "for i in range(len(movies)):\n",
      "    if result[i] > 0:\n",
      "        clusters[result[i]-1].append(movies[i])"
     ],
     "language": "python",
     "metadata": {},
     "outputs": [],
     "prompt_number": 64
    },
    {
     "cell_type": "code",
     "collapsed": false,
     "input": [
      "map(lambda x: x['title'], clusters[0])"
     ],
     "language": "python",
     "metadata": {},
     "outputs": [
      {
       "metadata": {},
       "output_type": "pyout",
       "prompt_number": 78,
       "text": [
        "[u'The Pursuit of Happyness',\n",
        " u'The Social Network',\n",
        " u'The Queen',\n",
        " u'The Butler',\n",
        " u'The Aviator',\n",
        " u'Awakenings',\n",
        " u'Men of Honor',\n",
        " u'Mask',\n",
        " u'The Diving Bell and the Butterfly',\n",
        " u'Before Night Falls',\n",
        " u'Searching for Bobby Fischer',\n",
        " u'Quills',\n",
        " u'Conviction',\n",
        " u'Star 80',\n",
        " u'Hitchcock',\n",
        " u'Thirteen',\n",
        " u\"This Boy's Life\",\n",
        " u'Poor Little Rich Girl: The Barbara Hutton Story',\n",
        " u\"You Don't Know Jack\"]"
       ]
      }
     ],
     "prompt_number": 78
    },
    {
     "cell_type": "code",
     "collapsed": false,
     "input": [
      "len(clusters)"
     ],
     "language": "python",
     "metadata": {},
     "outputs": [
      {
       "metadata": {},
       "output_type": "pyout",
       "prompt_number": 76,
       "text": [
        "85"
       ]
      }
     ],
     "prompt_number": 76
    },
    {
     "cell_type": "code",
     "collapsed": false,
     "input": [],
     "language": "python",
     "metadata": {},
     "outputs": []
    }
   ],
   "metadata": {}
  }
 ]
}