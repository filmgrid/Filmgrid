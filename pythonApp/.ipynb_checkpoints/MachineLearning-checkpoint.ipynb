{
 "metadata": {
  "name": "",
  "signature": "sha256:a5b0175119f7ca44244ed97cfee49d1adbaaa90412dd803f39c95151dc80960c"
 },
 "nbformat": 3,
 "nbformat_minor": 0,
 "worksheets": [
  {
   "cells": [
    {
     "cell_type": "code",
     "collapsed": false,
     "input": [
      "from pymongo import Connection\n",
      "import sklearn\n",
      "from pymongo import MongoClient\n",
      "import sys\n",
      "sys.path.insert(0, '/home/thomas/Projects/Watchlist/pythonApp/vendor/mongoqueue/mongoqueue')\n",
      "from mongoqueue import MongoQueue\n",
      "import time\n",
      "from random import randint\n",
      "from __future__ import division\n"
     ],
     "language": "python",
     "metadata": {},
     "outputs": [],
     "prompt_number": 232
    },
    {
     "cell_type": "code",
     "collapsed": false,
     "input": [
      "uri = 'mongodb://localhost/appdb'\n",
      "client = MongoClient(uri)"
     ],
     "language": "python",
     "metadata": {},
     "outputs": [],
     "prompt_number": 156
    },
    {
     "cell_type": "code",
     "collapsed": false,
     "input": [
      "queue = MongoQueue(\n",
      "client.appdb.jobqueue,\n",
      "consumer_id=\"consumer-1\",\n",
      "timeout=300,\n",
      "max_attempts=3)"
     ],
     "language": "python",
     "metadata": {},
     "outputs": [],
     "prompt_number": 157
    },
    {
     "cell_type": "code",
     "collapsed": false,
     "input": [
      "movieCache = dict();"
     ],
     "language": "python",
     "metadata": {},
     "outputs": [],
     "prompt_number": 243
    },
    {
     "cell_type": "code",
     "collapsed": false,
     "input": [
      "def getMovie(movieId):\n",
      "    if movieId in movieCache:\n",
      "        return movieCache[movieId]\n",
      "    else:\n",
      "        m = client.appdb.movies.find_one({\"_id\":movieId})\n",
      "        if (m) :\n",
      "            movieCache[movieId] = m\n",
      "        else :\n",
      "            raise Exception(\"You are a terrible coder\")\n",
      "        return m"
     ],
     "language": "python",
     "metadata": {},
     "outputs": [],
     "prompt_number": 244
    },
    {
     "cell_type": "code",
     "collapsed": false,
     "input": [
      "def getScoreFromMovie(m):\n",
      "    if (m[\"statusScore\"]):\n",
      "        return m[\"statusScore\"]\n",
      "    if (m[\"statusType\"] == \"dismissed\"):\n",
      "        return -1\n",
      "    if (m[\"statusType\"] == \"bookmarked\"):\n",
      "        return 1\n",
      "    else:\n",
      "         raise Exception(\"You are so bad\")"
     ],
     "language": "python",
     "metadata": {},
     "outputs": [],
     "prompt_number": 228
    },
    {
     "cell_type": "code",
     "collapsed": false,
     "input": [
      "while(1):\n",
      "    job = queue.next();\n",
      "    while(job):\n",
      "        t0 = time.time();\n",
      "        userId = job.payload[\"userId\"]\n",
      "        userMovies, userMoviesNoSuggested, suggestedCount = getUserMovies(userId);\n",
      "        print (len(userMovies), suggestedCount, 500);\n",
      "        \n",
      "        profile = getUserProfile(userMoviesNoSuggested, [\"actors\"])\n",
      "        newMovies = computeSuggestions(userMovies, len(userMovies), suggestedCount, 500); # {_id, suggestionScore}\n",
      "        updateMovies(userId, newMovies)\n",
      "        job.complete();\n",
      "        job = queue.next();\n",
      "        print (time.time() -t0)\n",
      "    time.sleep(1);"
     ],
     "language": "python",
     "metadata": {},
     "outputs": [
      {
       "output_type": "stream",
       "stream": "stdout",
       "text": [
        "(641, 501, 500)\n",
        "0.0916609764099"
       ]
      },
      {
       "output_type": "stream",
       "stream": "stdout",
       "text": [
        "\n"
       ]
      },
      {
       "ename": "KeyError",
       "evalue": "'statusScore'",
       "output_type": "pyerr",
       "traceback": [
        "\u001b[1;31m---------------------------------------------------------------------------\u001b[0m\n\u001b[1;31mKeyError\u001b[0m                                  Traceback (most recent call last)",
        "\u001b[1;32m<ipython-input-245-afd3f3c4413f>\u001b[0m in \u001b[0;36m<module>\u001b[1;34m()\u001b[0m\n\u001b[0;32m      4\u001b[0m         \u001b[0mt0\u001b[0m \u001b[1;33m=\u001b[0m \u001b[0mtime\u001b[0m\u001b[1;33m.\u001b[0m\u001b[0mtime\u001b[0m\u001b[1;33m(\u001b[0m\u001b[1;33m)\u001b[0m\u001b[1;33m;\u001b[0m\u001b[1;33m\u001b[0m\u001b[0m\n\u001b[0;32m      5\u001b[0m         \u001b[0muserId\u001b[0m \u001b[1;33m=\u001b[0m \u001b[0mjob\u001b[0m\u001b[1;33m.\u001b[0m\u001b[0mpayload\u001b[0m\u001b[1;33m[\u001b[0m\u001b[1;34m\"userId\"\u001b[0m\u001b[1;33m]\u001b[0m\u001b[1;33m\u001b[0m\u001b[0m\n\u001b[1;32m----> 6\u001b[1;33m         \u001b[0muserMovies\u001b[0m\u001b[1;33m,\u001b[0m \u001b[0muserMoviesNoSuggested\u001b[0m\u001b[1;33m,\u001b[0m \u001b[0msuggestedCount\u001b[0m \u001b[1;33m=\u001b[0m \u001b[0mgetUserMovies\u001b[0m\u001b[1;33m(\u001b[0m\u001b[0muserId\u001b[0m\u001b[1;33m)\u001b[0m\u001b[1;33m;\u001b[0m\u001b[1;33m\u001b[0m\u001b[0m\n\u001b[0m\u001b[0;32m      7\u001b[0m         \u001b[1;32mprint\u001b[0m \u001b[1;33m(\u001b[0m\u001b[0mlen\u001b[0m\u001b[1;33m(\u001b[0m\u001b[0muserMovies\u001b[0m\u001b[1;33m)\u001b[0m\u001b[1;33m,\u001b[0m \u001b[0msuggestedCount\u001b[0m\u001b[1;33m,\u001b[0m \u001b[1;36m500\u001b[0m\u001b[1;33m)\u001b[0m\u001b[1;33m;\u001b[0m\u001b[1;33m\u001b[0m\u001b[0m\n\u001b[0;32m      8\u001b[0m \u001b[1;33m\u001b[0m\u001b[0m\n",
        "\u001b[1;32m<ipython-input-237-f682f2118912>\u001b[0m in \u001b[0;36mgetUserMovies\u001b[1;34m(userId)\u001b[0m\n\u001b[0;32m      9\u001b[0m         \u001b[1;32melse\u001b[0m\u001b[1;33m:\u001b[0m\u001b[1;33m\u001b[0m\u001b[0m\n\u001b[0;32m     10\u001b[0m             \u001b[0muserMoviesNoSuggested\u001b[0m\u001b[1;33m.\u001b[0m\u001b[0mappend\u001b[0m\u001b[1;33m(\u001b[0m\u001b[0mmovie\u001b[0m\u001b[1;33m)\u001b[0m\u001b[1;33m\u001b[0m\u001b[0m\n\u001b[1;32m---> 11\u001b[1;33m         \u001b[0muserMovies\u001b[0m\u001b[1;33m[\u001b[0m\u001b[0mmovie\u001b[0m\u001b[1;33m[\u001b[0m\u001b[1;34m\"id\"\u001b[0m\u001b[1;33m]\u001b[0m\u001b[1;33m]\u001b[0m \u001b[1;33m=\u001b[0m \u001b[1;33m{\u001b[0m\u001b[1;34m\"id\"\u001b[0m\u001b[1;33m:\u001b[0m\u001b[0mmovie\u001b[0m\u001b[1;33m[\u001b[0m\u001b[1;34m\"id\"\u001b[0m\u001b[1;33m]\u001b[0m\u001b[1;33m,\u001b[0m \u001b[1;34m\"statusScore\"\u001b[0m\u001b[1;33m:\u001b[0m\u001b[0mmovie\u001b[0m\u001b[1;33m[\u001b[0m\u001b[1;34m\"statusScore\"\u001b[0m\u001b[1;33m]\u001b[0m\u001b[1;33m,\u001b[0m \u001b[1;34m\"statusType\"\u001b[0m\u001b[1;33m:\u001b[0m\u001b[0mmovie\u001b[0m\u001b[1;33m[\u001b[0m\u001b[1;34m\"statusType\"\u001b[0m\u001b[1;33m]\u001b[0m\u001b[1;33m}\u001b[0m\u001b[1;33m;\u001b[0m\u001b[1;33m\u001b[0m\u001b[0m\n\u001b[0m\u001b[0;32m     12\u001b[0m     \u001b[1;32mreturn\u001b[0m \u001b[0muserMovies\u001b[0m\u001b[1;33m,\u001b[0m \u001b[0muserMoviesNoSuggested\u001b[0m\u001b[1;33m,\u001b[0m \u001b[0msuggestedCount\u001b[0m\u001b[1;33m;\u001b[0m\u001b[1;33m\u001b[0m\u001b[0m\n",
        "\u001b[1;31mKeyError\u001b[0m: 'statusScore'"
       ]
      }
     ],
     "prompt_number": 245
    },
    {
     "cell_type": "code",
     "collapsed": false,
     "input": [
      "def getUserMovies(userId):\n",
      "    movies = client.appdb.users.find_one({\"_id\":userId},{\"profile.movies\" : 1})[\"profile\"][\"movies\"].values();\n",
      "    userMovies = dict();\n",
      "    userMoviesNoSuggested = [];\n",
      "    suggestedCount = 0;\n",
      "    for movie in movies:\n",
      "        if(movie[\"statusType\"] == \"suggested\"):\n",
      "            suggestedCount += 1\n",
      "        else:\n",
      "            userMoviesNoSuggested.append(movie)\n",
      "        userMovies[movie[\"id\"]] = {\"id\":movie[\"id\"], \"statusScore\":movie[\"statusScore\"], \"statusType\":movie[\"statusType\"]};\n",
      "    return userMovies, userMoviesNoSuggested, suggestedCount;"
     ],
     "language": "python",
     "metadata": {},
     "outputs": [],
     "prompt_number": 237
    },
    {
     "cell_type": "code",
     "collapsed": false,
     "input": [
      "def computeSuggestions(userMovies, totalCount, suggestedCount, totalSuggested):\n",
      "    allMovies = client.appdb.movies.find({\"year\":2014}).limit(totalCount+totalSuggested).skip(randint(0,10))\n",
      "    newMovies = dict();\n",
      "    \n",
      "    newMoviesCount = 0\n",
      "    for movie in allMovies:\n",
      "        if (newMoviesCount > (totalSuggested - suggestedCount)):\n",
      "            break;\n",
      "        if not movie[\"_id\"] in userMovies:\n",
      "            movie[\"statusType\"] = \"suggested\";\n",
      "            movie[\"statusScore\"] = \"\";\n",
      "            movie[\"id\"] = movie[\"_id\"];\n",
      "            key = \"profile.movies.\" + movie[\"_id\"]\n",
      "            newMovies[key] = movie;\n",
      "            newMoviesCount += 1;\n",
      "    \n",
      "    return newMovies;"
     ],
     "language": "python",
     "metadata": {},
     "outputs": [],
     "prompt_number": 238
    },
    {
     "cell_type": "code",
     "collapsed": true,
     "input": [
      "def updateMovies(userId, newMovies):\n",
      "    client.appdb.users.update({\"_id\" : userId}, {\"$set\" : newMovies})"
     ],
     "language": "python",
     "metadata": {},
     "outputs": [],
     "prompt_number": 239
    },
    {
     "cell_type": "code",
     "collapsed": false,
     "input": [
      "def getUserProfile(userMovies, features):\n",
      "    \n",
      "    profile = dict();\n",
      "    for feature in features:\n",
      "        profile[feature] = dict();\n",
      "    \n",
      "    numberOfMovies = len(userMovies);\n",
      "    totalScore = 0;\n",
      "    for movie in userMovies:\n",
      "        score = getScoreFromMovie(movie)\n",
      "        totalScore += score;\n",
      "        for feature in features:\n",
      "            buildProfileForFeatureArray(profile, getMovie(movie[\"id\"]), feature, numberOfMovies, score);\n",
      "    \n",
      "    normalizeForScore(profile, totalScore / numberOfMovies)\n",
      "    \n",
      "    return profile\n",
      "\n",
      "def buildProfileForFeatureArray(profile, movie, feature, numberOfMovies, score):\n",
      "    if (isinstance(movie[feature], basestring)):\n",
      "        items = movie[feature].split(\", \");\n",
      "    else:\n",
      "        items = movie[feature]; \n",
      "        \n",
      "    #We normalize by dividing by the individual contribution of each genre of each movie\n",
      "    norm = len(items)*numberOfMovies\n",
      "    for item in items:\n",
      "        if not item in profile[feature]:\n",
      "            profile[feature][item] = 0\n",
      "\n",
      "        profile[feature][item] += score / norm;\n",
      "\n",
      "def normalizeForScore(profile, n):\n",
      "    if (n):\n",
      "        for features in profile:\n",
      "            for feature in profile[features]:\n",
      "                profile[features][feature] = profile[features][feature] / n"
     ],
     "language": "python",
     "metadata": {},
     "outputs": [],
     "prompt_number": 240
    },
    {
     "cell_type": "code",
     "collapsed": false,
     "input": [],
     "language": "python",
     "metadata": {},
     "outputs": [],
     "prompt_number": 240
    },
    {
     "cell_type": "code",
     "collapsed": false,
     "input": [],
     "language": "python",
     "metadata": {},
     "outputs": [],
     "prompt_number": 240
    },
    {
     "cell_type": "code",
     "collapsed": false,
     "input": [],
     "language": "python",
     "metadata": {},
     "outputs": []
    }
   ],
   "metadata": {}
  }
 ]
}